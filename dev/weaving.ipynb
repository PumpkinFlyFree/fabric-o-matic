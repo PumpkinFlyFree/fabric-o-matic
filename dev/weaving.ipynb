{
 "cells": [
  {
   "cell_type": "markdown",
   "metadata": {},
   "source": [
    "# Weaving\n",
    "\n",
    "Two types of knots: \n",
    "* weft-facing\n",
    "* warp facing\n",
    "\n",
    "Each cell contains single knot.\n",
    "\n",
    "Any neighbour combinations are possible.\n"
   ]
  },
  {
   "cell_type": "code",
   "execution_count": 1,
   "metadata": {},
   "outputs": [],
   "source": [
    "from random import random\n",
    "import numpy as np\n",
    "import sympy as sp\n",
    "from ipywidgets import widgets\n",
    "import k3d\n",
    "\n",
    "from myutils import *\n",
    "from mycurves import *\n",
    "\n",
    "t, s, u, v, r, a, b, c, d = sp.symbols(\"t, s, u, v, r, a, b, c, d\")\n",
    "P, P0, P1, P2, P3 = vec.symbols('P P0 P1 P2 P3')"
   ]
  },
  {
   "cell_type": "code",
   "execution_count": 2,
   "metadata": {},
   "outputs": [],
   "source": [
    "from matplotlib.cm import get_cmap\n",
    "palette = hexpalette(get_cmap('tab10'))"
   ]
  },
  {
   "cell_type": "markdown",
   "metadata": {},
   "source": [
    "# Topology\n",
    "\n",
    "* single cross point in the middle of a cell\n",
    "* pattern determines elevation of weft yarn to be ±1\n",
    "* elevation of warp yarn is just opposite\n",
    "\n",
    "Anchor points:\n",
    "* $A_{wft}$ — center of weft spline\n",
    "* $A_{wrp}$ — center of warp spline\n",
    "\n",
    "Connectivity:\n",
    "* $A^W_{wft}$ — weft west neighbour\n",
    "* $A^E_{wft}$ — weft east neighbour\n",
    "* $A^S_{wrp}$ — warp south neighbour\n",
    "* $A^N_{wrp}$ — warp north neighbour\n"
   ]
  },
  {
   "cell_type": "code",
   "execution_count": 16,
   "metadata": {},
   "outputs": [],
   "source": [
    "pattern = np.array([\n",
    "    [+1, +1, -1, +1, +1],\n",
    "    [-1, +1, +1, -1, +1],\n",
    "    [+1, -1, +1, +1, -1],\n",
    "    [+1, +1, -1, +1, +1],    \n",
    "    [-1, +1, +1, -1, +1],    \n",
    "])"
   ]
  },
  {
   "cell_type": "code",
   "execution_count": 20,
   "metadata": {},
   "outputs": [
    {
     "data": {
      "application/vnd.jupyter.widget-view+json": {
       "model_id": "97e60a494da64d4ba7acf6d27af41480",
       "version_major": 2,
       "version_minor": 0
      },
      "text/plain": [
       "Plot(antialias=3, axes=['x', 'y', 'z'], axes_helper=1.0, background_color=16777215, camera=[2, -3, 0.2, 0.0, 0…"
      ]
     },
     "metadata": {},
     "output_type": "display_data"
    }
   ],
   "source": [
    "plot = k3d.plot()\n",
    "\n",
    "for u in range(0, len(pattern)):\n",
    "    row = pattern[u]\n",
    "    points = [(0.5 + v, 0.5 + u, 0.5 * row[v]) for v in range(len(row))]\n",
    "    plot += k3d.points(points, color=0xff0000, point_size=.1, opacity=0.5)\n",
    "    plot += k3d.line(points, color=0xff0000, line_width=0.1, opacity=0.5)\n",
    "plot += k3d.text2d(\"weft\", (0, 0.1), color=0xff0000)\n",
    "\n",
    "pattern_t = pattern.T\n",
    "for v in range(0, len(pattern_t)):\n",
    "    col = pattern_t[v]\n",
    "    points = [(0.5 + v, 0.5 + u, -0.5 * col[u]) for u in range(len(col))]\n",
    "    plot += k3d.points(points, color=0x00ff00, point_size=.1, opacity=0.5)\n",
    "    plot += k3d.line(points, color=0x00ff00, line_width=0.1, opacity=0.5)\n",
    "plot += k3d.text2d(\"warp\", (0, 0.2), color=0x00ff00)\n",
    "\n",
    "plot"
   ]
  },
  {
   "cell_type": "markdown",
   "metadata": {},
   "source": [
    "# Geometry\n",
    "\n",
    "Parameters:\n",
    "* $R_{wrp}$ — warp radius\n",
    "* $R_{wft}$ — weft radius\n",
    "* $Kq_{wrp}$ — warp squeezing factor\n",
    "* $Kq_{wft}$ — weft squeezing factor\n",
    "* $Ks_{wrp}$ — warp stiffness, restrict bending\n",
    "\n",
    "Constraints:\n",
    "* warp and weft fully connected at knots, total thickness = sum of diameters\n",
    "* curvature at contact point is enough to embrace opposite yarn → fuckery\n",
    "\n",
    "Anchors points:\n",
    "* $A^W_{wft}$ — west neighbour\n",
    "* $A_{wft}$ — weft center\n",
    "* $A^E_{wft}$ — east neighbour\n",
    "* $A^S_{wrp}s$ — south neighbour\n",
    "* $A_{wrp}$ — warp center\n",
    "* $A^N_{wrp}$ — north neighbour\n",
    "\n",
    "Spline points:\n",
    "* $P^W_{e}, P_{w}, P_{e}, P^E_{w}$ - weft spline\n",
    "* $P^S_{n}, P_{s}, P_{n}, P^N_{s}$ - warp spline"
   ]
  },
  {
   "cell_type": "code",
   "execution_count": 3,
   "metadata": {},
   "outputs": [],
   "source": [
    "north = vector(0, 1, 0)\n",
    "south = vector(0,-1, 0)\n",
    "west = vector(-1, 0, 0)\n",
    "east = vector(1, 0, 0)\n",
    "mirror = lambda v: vector(1-v[0], v[1], v[2])  # E <-> W\n",
    "zed = lambda v, z: vector(v[0], v[1], z) \n",
    "scaled = lambda v, scale: vector(v[0]*scale[0], v[1]*scale[1], v[2])"
   ]
  },
  {
   "cell_type": "markdown",
   "metadata": {},
   "source": [
    "## elevation fix\n",
    "\n",
    "Matching z coord with opposite yarn height\n",
    "\n",
    "* $H_{wrp} = R_{wrp} (1 - Kq_{wrp})$ — warp bump height\n",
    "* $H_{wft} = R_{wft} (1 - Kq_{wft})$ — weft bump height\n",
    "* $H = H_{wrp} + H_{wft}$ — total half-thickness\n",
    "* $\\alpha_{wrp} \\in [0, H]$ — warp waves half-amplitude\n",
    "* $\\alpha_{wft} \\in [0, H]$ — weft waves half-amplitude\n",
    "\n",
    "$\\alpha_{wrp} + H_{wrp} + \\alpha_{wft} + H_{wft} = 2 H$ — total thickness equation\n",
    "\n",
    "$\\alpha_{wrp} + \\alpha_{wft} = H$\n",
    "\n",
    "$\\alpha_{wrp} = H(1 - Ks)$ — stifness tuning\n",
    "\n",
    "$\\alpha_{wft} = H - \\alpha_{wrp}$\n",
    "\n",
    "Result:\n",
    "\n",
    "$A_{wft} = A_{cross} + e_z \\alpha_{wft}$\n",
    "\n",
    "$A_{wrp} = A_{cross} - e_z \\alpha_{wrp}$\n",
    "\n",
    "\n",
    "\n",
    "\n",
    "\n"
   ]
  },
  {
   "cell_type": "markdown",
   "metadata": {},
   "source": [
    "## curvature fix\n",
    "\n",
    "Edge points are aligned with knot point along XY to provide smooth tangent.\n",
    "\n",
    "* $D_{wft} = e_x 0.5 K_k $ — curvature fix\n",
    "* $D_{wrp} = e_y 0.5 K_k $ — curvature fix\n",
    "* $P_{w} = A^c_{wft} - D_{wft}$\n",
    "* $P_{e} = A^c_{wft} + D_{wft}$\n",
    "* $P_{s} = A^c_{wrp} - D_{wrp}$\n",
    "* $P_{n} = A^c_{wrp} + D_{wrp}$"
   ]
  },
  {
   "cell_type": "markdown",
   "metadata": {},
   "source": [
    "# Plot\n",
    "\n",
    "Cell-based plotting to use shading calc pipeline.\n",
    "\n",
    "Geometry is calculated in cell local coords."
   ]
  },
  {
   "cell_type": "code",
   "execution_count": 107,
   "metadata": {},
   "outputs": [],
   "source": [
    "def topology(pattern, x, y):\n",
    "    \"\"\"grid -> pattern -> topology\"\"\"\n",
    "    return {\n",
    "        'c': vector( 0.5, 0.5, pattern[y][x]),\n",
    "        'e': vector( 1.5, 0.5, pattern[y][x+1]),\n",
    "        'w': vector(-0.5, 0.5, pattern[y][x-1]),\n",
    "        's': vector( 0.5,-0.5, pattern[y-1][x]),\n",
    "        'n': vector( 0.5, 1.5, pattern[y+1][x])\n",
    "    }\n",
    "\n",
    "def geometry(topo, params):\n",
    "    \"\"\"topology -> geometry\"\"\"\n",
    "    geom = lambda v, a: vector(v[0], v[1],  a * v[2])\n",
    "    \n",
    "    # amplitudes\n",
    "    h_wrp = params['r_wrp'] * (1 - params['sq_wrp'])\n",
    "    h_wft = params['r_wft'] * (1 - params['sq_wft'])\n",
    "    h = h_wft + h_wrp\n",
    "    a_wrp = h * (1 - params['stf_wrp'])\n",
    "    a_wft = h - a_wrp\n",
    "\n",
    "    w_wft = geom(topo['w'], a_wft)\n",
    "    c_wft = geom(topo['c'], a_wft)\n",
    "    e_wft = geom(topo['e'], a_wft)\n",
    "    s_wrp = geom(topo['s'], -a_wrp)\n",
    "    c_wrp = geom(topo['c'], -a_wrp)\n",
    "    n_wrp = geom(topo['n'], -a_wrp)\n",
    "    \n",
    "    krv_wft = vector(0.5, 0, 0) * params['krv_wft']\n",
    "    krv_wrp = vector(0, 0.5, 0) * params['krv_wrp'] \n",
    "    \n",
    "    points = {\n",
    "        'a': {\n",
    "            'c': topo['c']\n",
    "        },\n",
    "        'wft': [\n",
    "            w_wft + krv_wft,\n",
    "            c_wft - krv_wft,\n",
    "            c_wft + krv_wft,\n",
    "            e_wft - krv_wft,\n",
    "        ],\n",
    "        'wrp': [\n",
    "             s_wrp + krv_wrp,\n",
    "             c_wrp - krv_wrp,            \n",
    "             c_wrp + krv_wrp,            \n",
    "             n_wrp - krv_wrp,\n",
    "        ]\n",
    "    }\n",
    "    \n",
    "    return points"
   ]
  },
  {
   "cell_type": "code",
   "execution_count": 4,
   "metadata": {},
   "outputs": [],
   "source": [
    "plot = k3d.plot(camera_auto_fit=False, grid_auto_fit=False, grid=(1, 1, -1, 4, 4, 1))"
   ]
  },
  {
   "cell_type": "code",
   "execution_count": 5,
   "metadata": {},
   "outputs": [],
   "source": [
    "controls = {\n",
    "    'render': widgets.Dropdown(description='Render:',\n",
    "            options=[('Points', 'C'), ('Splines', 'S'), ('Pipes', 'P')],\n",
    "            value='S'),\n",
    "    'sx': widgets.FloatSlider(description='scale x', min=0, max=2, value=1.0, continuous_update=False),\n",
    "    'sy': widgets.FloatSlider(description='scale y', min=0, max=2, value=1.0, continuous_update=False),\n",
    "    'r_wrp': widgets.FloatSlider(description='warp r', min=0, max=0.5, value=0.25, continuous_update=False),\n",
    "    'sq_wrp': widgets.FloatSlider(description='warp sq', min=0, max=1.0, value=0, continuous_update=False),\n",
    "    'krv_wrp': widgets.FloatSlider(description='warp curv', min=0, max=1.0, value=0.5, continuous_update=False),\n",
    "    'r_wft': widgets.FloatSlider(description='weft r', min=0, max=0.5, value=0.25, continuous_update=False),\n",
    "    'sq_wft': widgets.FloatSlider(description='weft sq', min=0, max=1.0, value=0, continuous_update=False),\n",
    "    'krv_wft': widgets.FloatSlider(description='weft curv', min=0, max=1.0, value=0.5, continuous_update=False),\n",
    "    'stf_wrp': widgets.FloatSlider(description='stiffness', min=0, max=1.0, value=0.5, continuous_update=False),    \n",
    "}\n",
    "\n",
    "chklay = widgets.Layout(width=\"24px\")\n",
    "chk = lambda v: widgets.Checkbox(value=bool(v), indent=False, layout=chklay)\n",
    "brd = widgets.VBox([\n",
    "    widgets.HBox([chk(1), chk(0), chk(1), chk(0), chk(1)]),\n",
    "    widgets.HBox([chk(0), chk(1), chk(0), chk(1), chk(0)]),\n",
    "    widgets.HBox([chk(1), chk(0), chk(1), chk(0), chk(1)]),\n",
    "    widgets.HBox([chk(0), chk(1), chk(0), chk(1), chk(0)]),\n",
    "    widgets.HBox([chk(1), chk(0), chk(1), chk(0), chk(1)]),\n",
    "])\n",
    "\n",
    "def read_pattern():\n",
    "    return [\n",
    "        [ 1 if box.value else -1\n",
    "            for box in hbox.children]\n",
    "        for hbox in brd.children\n",
    "    ]\n",
    "    "
   ]
  },
  {
   "cell_type": "code",
   "execution_count": 6,
   "metadata": {},
   "outputs": [
    {
     "data": {
      "application/vnd.jupyter.widget-view+json": {
       "model_id": "fc112352408347ceb312c14b659f48c0",
       "version_major": 2,
       "version_minor": 0
      },
      "text/plain": [
       "GridBox(children=(VBox(children=(Label(value='pattern'), VBox(children=(HBox(children=(Checkbox(value=True, in…"
      ]
     },
     "metadata": {},
     "output_type": "display_data"
    }
   ],
   "source": [
    "widgets.GridBox([\n",
    "    widgets.VBox([widgets.Label(\"pattern\"), brd]),\n",
    "    widgets.VBox(list(controls.values())),\n",
    "    plot], \n",
    "    layout=widgets.Layout(grid_template_columns=\"auto auto auto\"))"
   ]
  },
  {
   "cell_type": "code",
   "execution_count": 27,
   "metadata": {},
   "outputs": [],
   "source": [
    "def clear():\n",
    "    global plot\n",
    "    objects = list(plot.objects)\n",
    "    for obj in objects:\n",
    "        plot -= obj\n",
    "\n",
    "def draw(obj):\n",
    "    global plot\n",
    "    plot += obj\n",
    "\n",
    "def project(x0, y0, sx, sy):\n",
    "    return lambda v: scaled(vector(x0, y0, 0) + v,  (sx, sy))\n",
    "    \n",
    "def draw_points(x, y, params): \n",
    "    proj = project(x, y, params['sx'], params['sy'])\n",
    "    topo = topology(read_pattern(), x, y)\n",
    "    geom = geometry(topo, params)    \n",
    "    \n",
    "    ancpoints = [proj(geom['a']['c'])]\n",
    "    draw(k3d.points(ancpoints, point_size=0.1, color=0x000000, shader=\"3d\", opacity=0.5))\n",
    "    \n",
    "    wftpoints = [proj(v) for v in geom['wft']]\n",
    "    draw(k3d.points(wftpoints, point_size=0.05, color=0xff0000, opacity=0.5, shader=\"3d\"))\n",
    "    draw(k3d.line(wftpoints, color=0xff0000, opacity=0.5, shader=\"3d\"))\n",
    "\n",
    "    wrppoints = [proj(v) for v in geom['wrp']]\n",
    "    draw(k3d.points(wrppoints, point_size=0.05, color=0x00ff00, opacity=0.5, shader=\"3d\"))\n",
    "    draw(k3d.line(wrppoints, color=0x00ff00, opacity=0.5, shader=\"3d\"))\n",
    "    \n",
    "def draw_splines(x, y, params): \n",
    "    proj = project(x, y, params['sx'], params['sy'])\n",
    "    topo = topology(read_pattern(), x, y)\n",
    "    geom = geometry(topo, params)    \n",
    "    \n",
    "    wftpoints = [proj(v) for v in geom['wft']]\n",
    "    wftspline = eval_spline(B2, u, wftpoints)    \n",
    "    draw(k3d.line(wftspline, line_width=0.1, color=0xff0000, opacity=0.5))\n",
    "\n",
    "    wrppoints = [proj(v) for v in geom['wrp']]\n",
    "    wrpspline = eval_spline(B2, u, wrppoints)    \n",
    "    draw(k3d.line(wrpspline, line_width=0.1, color=0x00ff00, opacity=0.5))\n",
    "\n",
    "def draw_pipes(x, y, params):\n",
    "    proj = project(x, y, params['sx'], params['sy'])\n",
    "    topo = topology(read_pattern(), x, y)\n",
    "    geom = geometry(topo, params)    \n",
    "    \n",
    "    r_a_wrp = params['r_wrp']\n",
    "    r_b_wrp = r_a_wrp * (1 - params['sq_wrp'])\n",
    "    r_a_wft = params['r_wft']\n",
    "    r_b_wft = r_a_wrp * (1 - params['sq_wft'])        \n",
    "    \n",
    "    Qc_wft = Ellipse(v, r_a_wft, r_b_wft)\n",
    "    Qc_wrp = Ellipse(v, r_a_wrp, r_b_wrp)\n",
    "    \n",
    "    def draw_pipe(splpoints, color):\n",
    "        for ids in iter_slices(3, len(splpoints)):\n",
    "            Qa = Spline(u, B2, splpoints[ids])\n",
    "            S = Pipe((u, v), Qa, Qc_wrp)\n",
    "            pipe_pnts, pipe_tris, _ = eval_pipe(S, (u, v), 6, 12)\n",
    "            draw(k3d.mesh(pipe_pnts, pipe_tris, color=color, flat_shading=False))\n",
    "        \n",
    "    wftpoints = [proj(v) for v in geom['wft']]\n",
    "    draw_pipe(wftpoints, 0xff8080)\n",
    "    wrppoints = [proj(v) for v in geom['wrp']]\n",
    "    draw_pipe(wrppoints, 0x80ff80)\n",
    "    \n",
    "def redraw(*args):\n",
    "    params = {k: w.value for k, w in controls.items()}\n",
    "    clear()\n",
    "    plot.grid = [0, 0, -1, 5*params['sx'], 5*params['sy'], 1]\n",
    "    \n",
    "    for y in range(1, 4):\n",
    "        for x in range(1, 4):            \n",
    "            if params['render'] == 'S':\n",
    "                draw_splines(x, y, params)\n",
    "            elif params['render'] == 'P':\n",
    "                draw_pipes(x, y, params)\n",
    "            else:\n",
    "                draw_points(x, y, params)                "
   ]
  },
  {
   "cell_type": "code",
   "execution_count": 28,
   "metadata": {},
   "outputs": [],
   "source": [
    "clear()"
   ]
  },
  {
   "cell_type": "code",
   "execution_count": 29,
   "metadata": {},
   "outputs": [],
   "source": [
    "redraw()"
   ]
  },
  {
   "cell_type": "code",
   "execution_count": 11,
   "metadata": {},
   "outputs": [],
   "source": [
    "for w in controls.values():\n",
    "    w.observe(redraw, 'value')\n",
    "    \n",
    "for r in brd.children:\n",
    "    for w in r.children:\n",
    "        w.observe(redraw, 'value')"
   ]
  },
  {
   "cell_type": "code",
   "execution_count": null,
   "metadata": {},
   "outputs": [],
   "source": []
  }
 ],
 "metadata": {
  "kernelspec": {
   "display_name": "Python 3",
   "language": "python",
   "name": "python3"
  },
  "language_info": {
   "codemirror_mode": {
    "name": "ipython",
    "version": 3
   },
   "file_extension": ".py",
   "mimetype": "text/x-python",
   "name": "python",
   "nbconvert_exporter": "python",
   "pygments_lexer": "ipython3",
   "version": "3.7.3"
  }
 },
 "nbformat": 4,
 "nbformat_minor": 4
}
