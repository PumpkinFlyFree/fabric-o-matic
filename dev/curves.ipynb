{
 "cells": [
  {
   "cell_type": "markdown",
   "metadata": {},
   "source": [
    "# General math of curves\n",
    "\n",
    "$Q(t) = [x(t), y(t), z(t)]$ -- paramatrization\n",
    "\n",
    "$Q(s) = [x(s), y(s), z(s)]$ -- natural (arc length) parametrization\n",
    "\n",
    "$s'(t) = \\frac{ds}{dt} = |Q'(t)| = \\sqrt{Q' \\cdot Q'}$ -- parametric speed\n",
    "\n",
    "$s''(t) = \\frac{ds'}{dt} = \\frac{Q' \\cdot Q''}{|Q'(t)|}$\n",
    "\n",
    "$t'(s) = \\frac{dt}{ds} = \\frac{1}{|Q'(t)|}$\n",
    "\n",
    "$t''(s) = \\frac{dt'}{ds} = \\frac{Q' \\cdot Q''}{(Q' \\cdot Q')^2}$\n",
    "\n",
    "Arc length: $s(t) = \\int_{t_0}^{t} |Q'(t)| dt$ → fuckery\n",
    "\n",
    "Natural (arclength) paramatrization: $|Q'(\\sigma)| = 1$ — practically impossible"
   ]
  },
  {
   "cell_type": "markdown",
   "metadata": {},
   "source": [
    "## Curve characteristics\n",
    "\n",
    "### Tangent and speed\n",
    "\n",
    "$T$ -- tangent, towards point motion\n",
    "\n",
    "$\\nu$ — parametric speed\n",
    "\n",
    "$\\nu T = Q'$\n",
    "\n",
    "$T(s) = \\frac{dQ}{ds} = Q' (s)$\n",
    "\n",
    "$T(t) = \\frac{Q'}{|Q'|} (t)$\n",
    "\n",
    "$\\nu(s) = \\frac{ds}{ds} = 1$\n",
    "\n",
    "$\\nu(t) = \\frac{ds}{dt} = |Q'|$\n",
    "\n",
    "### Normal and curvature\n",
    "\n",
    "$N$ -- normal, orthogonal to tangent, towards curvature center\n",
    "\n",
    "$\\kappa = \\frac{1}{\\rho}$ — reciprocal to curvature radius, =0 for straigth lines\n",
    "\n",
    "$\\kappa N = T'$\n",
    "\n",
    "$\\kappa N(s) = \\frac{dT}{ds} = Q'' (s)$\n",
    "\n",
    "$\\kappa N(t) = \\frac{(Q' \\cdot Q')Q'' - (Q' \\cdot Q'')Q'}{(Q' \\cdot Q')^2} (t)$\n",
    "\n",
    "$\\kappa^2(s) = Q'' \\cdot Q'' (s)$\n",
    "\n",
    "$\\kappa^2(t) = \\frac{(Q' \\times Q'') \\cdot (Q' \\times Q'')}{(Q' \\cdot Q')^3} (t)$\n",
    "\n",
    "### Binormal and torsion \n",
    "\n",
    "$B$ -- binormal, ortogonal to both $T$ and $N$\n",
    "\n",
    "$\\tau$ — torsion, measure of turning normal around tangent\n",
    "\n",
    "$B = T \\times N$\n",
    "\n",
    "$\\tau B = N' + \\kappa T$\n",
    "\n",
    "$\\tau (s) = \\frac{Q'Q''Q'''}{Q'' \\cdot Q''}(s)$\n",
    "\n",
    "$\\tau (t) = \\frac{Q'Q''Q'''}{(Q' \\times Q'') \\cdot (Q' \\times Q'')}(t)$\n",
    "\n"
   ]
  },
  {
   "cell_type": "markdown",
   "metadata": {},
   "source": [
    "## Frenet\n",
    "\n",
    "$\n",
    "\\begin{bmatrix}\n",
    "T\n",
    "'\\\\\n",
    "N'\\\\\n",
    "B'\n",
    "\\end{bmatrix}\n",
    "=\n",
    "\\begin{bmatrix}\n",
    "0 & \\kappa & 0 \\\\\n",
    "-\\kappa & 0 & \\tau \\\\\n",
    "0 & -\\tau & 0\n",
    "\\end{bmatrix}\n",
    "\\begin{bmatrix}\n",
    "T\\\\\n",
    "N\\\\\n",
    "B\n",
    "\\end{bmatrix}\n",
    "(s)\n",
    "$ \n",
    "\n",
    "$\n",
    "\\begin{bmatrix}\n",
    "T\n",
    "'\\\\\n",
    "N'\\\\\n",
    "B'\n",
    "\\end{bmatrix}\n",
    "=\n",
    "|Q'|\n",
    "\\begin{bmatrix}\n",
    "0 & \\kappa & 0 \\\\\n",
    "-\\kappa & 0 & \\tau \\\\\n",
    "0 & -\\tau & 0\n",
    "\\end{bmatrix}\n",
    "\\begin{bmatrix}\n",
    "T\\\\\n",
    "N\\\\\n",
    "B\n",
    "\\end{bmatrix}\n",
    "(t)\n",
    "$ \n"
   ]
  },
  {
   "cell_type": "code",
   "execution_count": 1,
   "metadata": {},
   "outputs": [],
   "source": [
    "from random import random\n",
    "import numpy as np\n",
    "import sympy as sp\n",
    "from IPython.display import display\n",
    "from ipywidgets import widgets\n",
    "\n",
    "%matplotlib widget\n",
    "import matplotlib as mpl\n",
    "import matplotlib.pyplot as plt\n",
    "from matplotlib import cm\n",
    "cmap = cm.get_cmap(\"tab10\")\n",
    "\n",
    "import k3d\n",
    "\n",
    "from myutils import *"
   ]
  },
  {
   "cell_type": "code",
   "execution_count": 2,
   "metadata": {},
   "outputs": [],
   "source": [
    "u, v, r, s, t, a, b, c, d = sp.symbols(\"u, v, r, s, t, a, b, c, d\")\n",
    "P, P0, P1, P2, P3, P4 = vec.symbols('P P0 P1 P2 P3 P4')"
   ]
  },
  {
   "cell_type": "code",
   "execution_count": 3,
   "metadata": {},
   "outputs": [],
   "source": [
    "from matplotlib.cm import get_cmap\n",
    "palette = hexpalette(get_cmap('tab10'))"
   ]
  },
  {
   "cell_type": "markdown",
   "metadata": {},
   "source": [
    "# General math of B-Splines\n",
    "\n",
    "BSpline curve of order $p+1$ is polynomial of degree $p$ with $n$ control points.\n",
    "\n",
    "$Q(u) = \\sum_{i=0}^{n} P_{i} B_{i}^{p}(u)$\n",
    "\n",
    "Knot vector: $t_0 ... t_m$ — divides curve into spans.\n",
    "\n",
    "$m = p + n + 1$\n",
    "\n",
    "## Local support\n",
    "\n",
    "$B_{i}^{p}(u) = 0$ for $u \\notin [t_i, t_{i+p+1}]$\n",
    "\n",
    "Each point $P_i$ supports $p+1$ spans for $u \\in [t_i, t_{i+p+1}]$\n",
    "\n",
    "Each span $u \\in [t_{j}, t_{j+1}]$ is supported by $p+1$ points $P_{j-p} ... P_{j}$.\n",
    "\n",
    "\n",
    "$Q_j(u) = \\sum_{i=j-p}^{j} P_{i} B_{i}^{p}(u)$ for $u \\in [t_{j}, t_{j+1}]$\n",
    "\n",
    "## Basis functions:\n",
    "\n",
    "$B_{i}^{p}(u) = \\frac{u - t_{i}}{t_{i+p} - t_{i}} B_{i}^{p-1} + \\frac{t_{i+p+1} - u}{t_{i+p+1} - t_{i+1}} B_{i+1}^{p-1}$\n",
    "\n",
    "$B_{i}^{0}(u) = \n",
    "\\begin{cases}\n",
    "1 \\quad t_i ≤ u < t_{i+1} \\\\\n",
    "0 \\quad u < t_i \\vee u > t_{i+1}\n",
    "\\end{cases}$\n"
   ]
  },
  {
   "cell_type": "markdown",
   "metadata": {},
   "source": [
    "### linear case\n",
    "\n",
    "$B_{i}^{1}(u) = \n",
    "\\begin{cases}\n",
    "\\frac{u - t_{i}}{t_{i+1} - t_{i}} \\quad t_{i} < u < t_{i+1} \\\\\n",
    "\\frac{t_{i+2} - u}{t_{i+2} - t_{i+1}} \\quad t_{i+1} < u < t_{i+2}\n",
    "\\end{cases}$\n",
    "\n",
    "### quadratic case\n",
    "\n",
    "$B_{i}^{2}(u) = \n",
    "\\begin{cases}\n",
    "\\frac{u - t_{i}}{t_{i+2} - t_{i}} \\frac{u - t_{i}}{t_{i+1} - t_{i}} \\quad t_{i} < u < t_{i+1} \\\\\n",
    "\\frac{u - t_{i}}{t_{i+2} - t_{i}} \\frac{t_{i+2} - u}{t_{i+2} - t_{i+1}} +\n",
    "\\frac{t_{i+3} - u}{t_{i+3} - t_{i+1}} \\frac{u - t_{i+1}}{t_{i+2} - t_{i+1}} \\quad t_{i+1} < u < t_{i+2} \\\\\n",
    "\\frac{t_{i+3} - u}{t_{i+3} - t_{i+1}} \\frac{t_{i+3} - u}{t_{i+3} - t_{i+2}} \\quad t_{i+2} < u < t_{i+3}\n",
    "\\end{cases}$"
   ]
  },
  {
   "cell_type": "code",
   "execution_count": null,
   "metadata": {},
   "outputs": [],
   "source": [
    "fig, axes = plt.subplots(2, 1, sharex=True)\n",
    "ax1, ax2 = axes.flatten()"
   ]
  },
  {
   "cell_type": "code",
   "execution_count": null,
   "metadata": {},
   "outputs": [],
   "source": [
    "tt = np.linspace(0, 3, 50)\n",
    "vv = eval(sp.bspline_basis_set(2, (0, 1, 2, 3), t), t=tt).flatten()\n",
    "for j in range(0, -4, -1):\n",
    "    ax1.plot(tt+j, vv, label=\"$B^2_{i\" + str(j) +\"}(u)$\" if j < 0 else r\"$B^2_{i}(u)$\")\n",
    "ax1.set_xticks([-2, -1, 0, 1, 2, 3])\n",
    "ax1.set_xticklabels([\"$t_{i-2}$\", \"$t_{i-1}$\", \"$t_{i}$\", \"$t_{i+1}$\", \"$t_{i+2}$\"])\n",
    "ax1.legend()\n",
    "    \n",
    "tt = np.linspace(0, 4, 50)\n",
    "vv = eval(sp.bspline_basis_set(3, (0, 1, 2, 3, 4), t), t=tt).flatten()\n",
    "for j in range(0, -4, -1):\n",
    "    ax2.plot(tt+j, vv, label=\"$B^3_{i\" + str(j) +\"}(u)$\" if j < 0 else r\"$B^3_{i}(u)$\")    \n",
    "ax2.set_xticks([-3, -2, -1, 0, 1, 2, 3, 4])\n",
    "ax2.set_xticklabels([\"$t_{i-3}$\", \"$t_{i-2}$\", \"$t_{i-1}$\", \"$t_{i}$\", \"$t_{i+1}$\", \"$t_{i+2}$\", \"$t_{i+3}$\", \"$t_{i+4}$\"])\n",
    "ax2.legend()"
   ]
  },
  {
   "cell_type": "markdown",
   "metadata": {},
   "source": [
    "# Uniform open/infinite splines\n",
    "\n",
    "$t_i = i, u \\in [0, m]$\n",
    "\n",
    "$[t_{j}, t_{j+1}] = [\\lfloor u \\rfloor, \\lfloor u + 1\\rfloor]$\n",
    "\n",
    "$B_{i}^{p}(u) = \\frac{u - i}{p-1} B_{i}^{p-1} + \\frac{i+p - u}{p-1} B_{i+1}^{p-1}$\n",
    "\n",
    "$B_{i}(u) = B_{0}(u-i)$\n",
    "\n",
    "$j = floor(u), u' = frac(u)$\n",
    "\n",
    "\n",
    "$Q_j(u) = \\sum_{i=j-p}^{j} P_{i} B_{i}(u) = \\sum_{k=0}^{p} P_{j-k} B_{0}(u'+k), u \\in [0, 1]$\n"
   ]
  },
  {
   "cell_type": "markdown",
   "metadata": {},
   "source": [
    "### quadratic\n",
    "\n",
    "$Q_j(u) = P_{j-2} B|_2(u'+2) + P_{j-1} B|_1(u'+1) + P_{j} B|_0(u')$\n",
    "\n",
    "$Q_j(u) = \\frac{1}{2} \\left[ (P_{j} - 2 P_{j-1} + P_{j-2}) u^2 + 2(P_{j-1} - P_{j-2}) u + (P_{j-1} + P_{j-2}) \\right]$\n",
    "\n",
    "### cubic\n",
    "\n",
    "$Q_j(u) = P_{j-3} B|_3(u'+3) + P_{j-2} B|_2(u'+2) + P_{j-1} B|_1(u'+1) + P_{j} B|_0(u')$\n",
    "\n",
    "$Q_j(u) = \\frac{1}{6} \\left[ (P_{j} - 3 P_{j-1} + 3 P_{j-2} - P_{j-3}) u^3 + 3(P_{j-1} - 2 P_{j-2} + P_{j-3}) u^2 + 3 (P_{j-1} - P_{j-3}) u + (P_{j-1} + 4 P_{j-2} + P_{j-3}) \\right]$"
   ]
  },
  {
   "cell_type": "code",
   "execution_count": null,
   "metadata": {},
   "outputs": [],
   "source": [
    "sp.bspline_basis(2, (0,1,2,3),0,u)"
   ]
  },
  {
   "cell_type": "code",
   "execution_count": null,
   "metadata": {},
   "outputs": [],
   "source": [
    "sp.bspline_basis(3, (0,1,2,3,4),0,u)"
   ]
  },
  {
   "cell_type": "code",
   "execution_count": 4,
   "metadata": {},
   "outputs": [],
   "source": [
    "B2 = [\n",
    "    t**2 / 2,\n",
    "    -t**2 + 3*t - sp.Rational(3,2),\n",
    "    t**2 / 2 - 3*t + sp.Rational(9,2)\n",
    "]\n",
    "\n",
    "B3 = [\n",
    "     t**3 / 6, \n",
    "    -t**3 / 2 + 2*t**2 -  2*t + sp.Rational(2,3),\n",
    "     t**3 / 2 - 4*t**2 + 10*t - sp.Rational(22,3),\n",
    "    -t**3 / 6 + 2*t**2 -  8*t + sp.Rational(32,3)\n",
    "]\n",
    "\n",
    "def Spline(u, B, points):\n",
    "    \"\"\"Creates expression for single spline segment, with arg replacement\n",
    "    \n",
    "    B: list of basis functions B2 or B3\n",
    "    points: list of points from j-k to j\n",
    "    \"\"\"\n",
    "    deg = len(B)\n",
    "    assert len(points) == deg, f\"{len(points)} != {deg}\"\n",
    "    parts = [B[i].subs({t: u+i}) * vector(*points[-i-1]) for i in range(0, deg)]\n",
    "    return sp.add.Add(*parts)\n",
    "\n",
    "# export B2, B3, Spline into mycurves"
   ]
  },
  {
   "cell_type": "markdown",
   "metadata": {},
   "source": [
    "# Eval/plot"
   ]
  },
  {
   "cell_type": "code",
   "execution_count": 11,
   "metadata": {},
   "outputs": [],
   "source": [
    "points = [\n",
    "    vector(-2.0,-1.0, 1.0),\n",
    "    vector(-1.0,-2.0, 0.0),\n",
    "    vector(-0.2,-1.0, 1.0),\n",
    "    vector(-0.8, 0.0, 1.0),\n",
    "    vector( 0.0, 1.0, 0.0),\n",
    "    vector( 0.8, 0.0, 1.0),\n",
    "    vector( 0.2,-1.0, 1.0),\n",
    "    vector( 1.0,-2.0, 0.0),\n",
    "    vector( 2.0,-1.0, 1.0),\n",
    "]\n",
    "pntnames = [f\"p{i}\" for i in range(0, len(points))]"
   ]
  },
  {
   "cell_type": "code",
   "execution_count": 22,
   "metadata": {},
   "outputs": [],
   "source": [
    "# export eval_curve into mycurves\n",
    "def eval_curve(Q, u, usegs=6):\n",
    "    uu = np.linspace(0, 1, usegs)\n",
    "    points = eval(Q, {u: uu}, dtype=np.float32)\n",
    "    return points\n",
    "\n",
    "# export eval_spline into mycurves\n",
    "from itertools import chain\n",
    "def eval_splines(B, points, usegs=6):\n",
    "    deg = len(B)\n",
    "    return list(chain(*[eval_curve(Spline(u, B, points[ids]), u, usegs) for ids in iter_slices(deg, len(points))]))"
   ]
  },
  {
   "cell_type": "code",
   "execution_count": 21,
   "metadata": {},
   "outputs": [
    {
     "data": {
      "application/vnd.jupyter.widget-view+json": {
       "model_id": "e9d802b18a6249fe886cc696c54fe69c",
       "version_major": 2,
       "version_minor": 0
      },
      "text/plain": [
       "Plot(antialias=3, axes=['x', 'y', 'z'], axes_helper=1.0, background_color=16777215, camera=[2, -3, 0.2, 0.0, 0…"
      ]
     },
     "metadata": {},
     "output_type": "display_data"
    }
   ],
   "source": [
    "plot = k3d.plot()\n",
    "plot += k3d.line(points, color=0x808080)\n",
    "plot += k3d.text2d(\"points\", (0,.1), color=0x808080)\n",
    "plot += k3d.line(eval_spline(B2, points), name=\"B2\", color=palette[0])\n",
    "plot += k3d.text2d(\"B^{2}Spline\", (0,.2), color=palette[0])\n",
    "plot += k3d.line(eval_spline(B3, points), name=\"B3\", color=palette[1])\n",
    "plot += k3d.text2d(\"B^{3}Spline\", (0,.3), color=palette[1])\n",
    "plot"
   ]
  },
  {
   "cell_type": "markdown",
   "metadata": {},
   "source": [
    "# Periodic splines\n",
    "\n",
    "Cyclic $n$ points: \n",
    "\n",
    "* $P_0$, \n",
    "* $P_1$\n",
    "* $P_2$\n",
    "* ...\n",
    "* $P_n$\n",
    "* $P_{n+1} = P_0 + R$\n",
    "* $P_{n+2} = P_1 + R$\n",
    "\n",
    "$R$ — period vector, = 0 for closed\n",
    "\n",
    "Cyclic $n$ splines:\n",
    "\n",
    "* $Spline(P_0, P_1, P_2)$\n",
    "* ...\n",
    "* $Spline(P_{n-1}, P_{n}, P_{n+1}) = Spline(P_{n-1}, P_{n}, P_0 + R)$\n",
    "* $Spline(P_{n}, P_{n+1}, P_{n+2}) = Spline(P_{n}, P_0 + R, P_1 + R)$\n",
    "* $Spline(P_{n+1}, P_{n+2}, P_{n+3}) = Spline(P_0 + R, P_1 + R, P_2 + R) = Spline(P_0, P_1, P_2) + R$\n",
    "\n",
    "\n",
    "\n"
   ]
  },
  {
   "cell_type": "markdown",
   "metadata": {},
   "source": [
    "# Reverse projection\n",
    "\n",
    "To flat curve\n",
    "\n",
    "## Finding closest quadr spline segment\n",
    "\n",
    "Find closest line segment $P_j ... P_{j+1}$\n",
    "\n",
    "Closest curve segment is \n",
    "  $\\begin{cases}\n",
    "  P_{j-1}, P_{j}, P_{j+1} \\quad P_{j} \\text{ is closer}\\\\\n",
    "  P_j, P_{j+1}, P_{j+2} \\quad P_{j+1} \\text{ is closer}\n",
    "  \\end{cases}$  \n",
    "  \n",
    "should work unless segments are overlapping, touching, or very close\n"
   ]
  },
  {
   "cell_type": "code",
   "execution_count": null,
   "metadata": {},
   "outputs": [],
   "source": [
    "def dist_p(x, y, p):\n",
    "    v = vector(x, y, 0)\n",
    "    d = vector(p[0], p[1], 0) - v\n",
    "    return d.dot(d)\n",
    "\n",
    "def closest_segment(x, y, points):\n",
    "    dist1 = [dist_p(x, y, points[i]) for i in range(len(points))]\n",
    "    dist2 = [dist1[i] + dist1[i+1] for i in range(len(points)-1)]\n",
    "    j = dist2.index(min(dist2))\n",
    "    if dist1[j] < dist1[j+1]:\n",
    "        return j-1\n",
    "    else:\n",
    "        return j\n"
   ]
  },
  {
   "cell_type": "markdown",
   "metadata": {},
   "source": [
    "## Finding closest point on $Q_j(u)$\n",
    "\n",
    "\n",
    "Distance vector: $V_{dist}(u) = Q_{flat}(u) - P_{flat}$\n",
    "\n",
    "Squared distance: $V_{dist} \\cdot V_{dist}(u)$\n",
    "\n",
    "Derivative: $\\frac{dV}{du}(u)$\n",
    "\n",
    "Solve: $\\frac{dV}{du}(u) = 0 \\to u_{proj}$"
   ]
  },
  {
   "cell_type": "code",
   "execution_count": null,
   "metadata": {},
   "outputs": [],
   "source": [
    "Q = Spline(u, B2, [P2, P1, P0])\n",
    "Vdst = Q - P\n",
    "dst_sq = Vdst.dot(Vdst)\n",
    "dst_du = sp.diff(dst_sq, u)"
   ]
  },
  {
   "cell_type": "code",
   "execution_count": null,
   "metadata": {},
   "outputs": [],
   "source": [
    "sp.collect(sp.expand(dst_du), u)"
   ]
  },
  {
   "cell_type": "markdown",
   "metadata": {},
   "source": [
    "### Manageable\n",
    "\n",
    "$Q(u) = A u^2 + B u + C$\n",
    "\n",
    "$V = Q(u) - P = A u^2 + B u + D$\n",
    "\n",
    "$V \\cdot V = (A \\cdot A) u^4  + (2 A \\cdot B) u^3 + (2 A \\cdot D + B \\cdot B) u^2  + (2 B \\cdot D) u + D \\cdot D$\n",
    "\n",
    "$(V \\cdot V)/du =  4 (A \\cdot A) u^3 + 6 (A \\cdot B) u^2 + 2 (2 A \\cdot D + B \\cdot B) u + 2 B \\cdot D$\n",
    "\n",
    "Equation\n",
    "\n",
    "$2 (A \\cdot A) u^3 + 3 (A \\cdot B) u^2 + (2 A \\cdot D + B \\cdot B) u + B \\cdot D = 0$\n",
    "\n",
    "$a u^3 + b u^2 + c u + d = 0$\n",
    "\n",
    "* $a = 2 (A \\cdot A)$\n",
    "* $b = 3 (A \\cdot B)$\n",
    "* $c = (2 A \\cdot D + B \\cdot B)$\n",
    "* $d = B \\cdot D$\n",
    "\n",
    "$u'^3 + p u' + q = 0$\n",
    "\n",
    "* $u' = u + b/3a$\n",
    "* $p = \\frac{3 ac - b^2}{3 a^2}$\n",
    "* $q = \\frac{2 b^3 - 9 abc + 27 a^2d}{27a^3}$\n",
    "\n",
    "Cardano formula, if $4 p^3 + 27q^2 > 0$\n",
    "\n",
    "$u' = \n",
    "\\sqrt[3]{  \n",
    "    -\\frac{q}{2}\n",
    "    +\\sqrt{\n",
    "         \\left(\\frac{q}{2}\\right)^2 + \\left(\\frac{p}{3}\\right)^3   \n",
    "     }\n",
    "}\n",
    "+\n",
    "\\sqrt[3]{  \n",
    "    -\\frac{q}{2}\n",
    "    -\\sqrt{\n",
    "         \\left(\\frac{q}{2}\\right)^2 + \\left(\\frac{p}{3}\\right)^3   \n",
    "     }\n",
    "}\n",
    "$\n",
    "\n",
    "$u_{proj} = u' - b/3a$"
   ]
  },
  {
   "cell_type": "code",
   "execution_count": null,
   "metadata": {},
   "outputs": [],
   "source": [
    "def project_bspl2_numpy(P0, P1, P2, P):\n",
    "    P0 = np.array(P0[:], dtype=np.float)\n",
    "    P1 = np.array(P1[:], dtype=np.float)\n",
    "    P2 = np.array(P2[:], dtype=np.float)\n",
    "    P = np.array(P[:], dtype=np.float)\n",
    "    A = (P0 - 2 * P1 + P2) / 2\n",
    "    B = P1 - P2\n",
    "    D = (P1 + P2)/2 - P\n",
    "    a = 2*np.dot(A, A)\n",
    "    b = 3*np.dot(A, B)\n",
    "    c = 2*np.dot(A, D) + np.dot(B, B)\n",
    "    d = np.dot(B, D)\n",
    "    sol = list(filter(lambda r: r.imag == 0, np.polynomial.polynomial.polyroots([d, c, b, a])))[0].real\n",
    "    return sol\n",
    "    "
   ]
  },
  {
   "cell_type": "code",
   "execution_count": null,
   "metadata": {},
   "outputs": [],
   "source": [
    "def project_bspl2_cardano(P0, P1, P2, P):\n",
    "    P0 = np.array(P0[:], dtype=np.float)\n",
    "    P1 = np.array(P1[:], dtype=np.float)\n",
    "    P2 = np.array(P2[:], dtype=np.float)\n",
    "    P = np.array(P[:], dtype=np.float)\n",
    "    A = (P0 - 2 * P1 + P2) / 2\n",
    "    B = P1 - P2\n",
    "    D = (P1 + P2)/2 - P\n",
    "    a = 2*np.dot(A, A)\n",
    "    b = 3*np.dot(A, B)\n",
    "    c = 2*np.dot(A, D) + np.dot(B, B)\n",
    "    d = np.dot(B, D)\n",
    "    p3 = (3 * a * c  - b**2) / (9 * a**2)\n",
    "    q2 = (2*b**3 - 9 * a * b * c + 27 * a**2 * d) / (54 * a**3) \n",
    "    q2p3 = q2**2 + p3**3\n",
    "    if q2p3 < 0:\n",
    "        raise ValueError(\"fail\")\n",
    "    rtqp = np.sqrt(q2p3)\n",
    "    u_ = np.cbrt(-q2 + rtqp) + np.cbrt(-q2 - rtqp)\n",
    "    sol = u_ - b/(3*a)\n",
    "    return sol\n"
   ]
  },
  {
   "cell_type": "code",
   "execution_count": null,
   "metadata": {},
   "outputs": [],
   "source": [
    "def project(x, y, points):\n",
    "    #u_prj = 1 - project_bspl2_numpy(*splpoints, [x, y, 0])\n",
    "    u_prj = 1 - project_bspl2_cardano(*points, [x, y, 0])\n",
    "    spl = Spline(u, B2, points)\n",
    "    x_prj, y_prj, z_prj = eval(spl, u=u_prj).T\n",
    "    return u_prj, x_prj[0], y_prj[0], z_prj[0]\n"
   ]
  }
 ],
 "metadata": {
  "file_extension": ".py",
  "kernelspec": {
   "display_name": "Python 3",
   "language": "python",
   "name": "python3"
  },
  "language_info": {
   "codemirror_mode": {
    "name": "ipython",
    "version": 3
   },
   "file_extension": ".py",
   "mimetype": "text/x-python",
   "name": "python",
   "nbconvert_exporter": "python",
   "pygments_lexer": "ipython3",
   "version": "3.7.3"
  },
  "mimetype": "text/x-python",
  "name": "python",
  "npconvert_exporter": "python",
  "pygments_lexer": "ipython3",
  "version": 3
 },
 "nbformat": 4,
 "nbformat_minor": 4
}
