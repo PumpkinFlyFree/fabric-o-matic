{
 "cells": [
  {
   "cell_type": "markdown",
   "metadata": {},
   "source": [
    "# General math of curves\n",
    "$Q(t) = [x(t), y(t), z(t)]$ -- paramatrization\n",
    "\n",
    "$Q(s) = [x(s), y(s), z(s)]$ -- natural (arc length) parametrization\n",
    "\n",
    "$s'(t) = \\frac{ds}{dt} = |Q'(t)| = \\sqrt{Q' \\cdot Q'}$ -- parametric speed\n",
    "\n",
    "$s''(t) = \\frac{ds'}{dt} = \\frac{Q' \\cdot Q''}{|Q'(t)|}$\n",
    "\n",
    "$t'(s) = \\frac{dt}{ds} = \\frac{1}{|Q'(t)|}$\n",
    "\n",
    "$t''(s) = \\frac{dt'}{ds} = \\frac{Q' \\cdot Q''}{(Q' \\cdot Q')^2}$\n",
    "\n",
    "Arc length: $s(t) = \\int_{t_0}^{t} |Q'(t)| dt$ → fuckery\n",
    "\n",
    "Reparametrization: $Q(s) = Q(t(s))$, ← $t(s)$: inverse of $s(t)$\n",
    "\n"
   ]
  },
  {
   "cell_type": "markdown",
   "metadata": {},
   "source": [
    "## Curve local frame\n",
    "\n",
    "$T$ -- tangent, towards point motion\n",
    "\n",
    "$N$ -- normal, orthogonal to tangent, towards curvature center\n",
    "\n",
    "$B$ -- binormal, ortogonal to both\n",
    "\n",
    "$T, N$ -- osculating plane\n",
    "\n",
    "$N, B$ -- normal plane\n",
    "\n",
    "$B, T$ -- rectifying plane"
   ]
  },
  {
   "cell_type": "markdown",
   "metadata": {},
   "source": [
    "## Curve characteristics\n",
    "\n",
    "Tangent * speed: $\\nu T = Q'$\n",
    "\n",
    "$T(s) = \\frac{dQ}{ds} = Q' (s)$\n",
    "\n",
    "$T(t) = \\frac{Q'}{|Q'|} (t)$\n",
    "\n",
    "$\\nu$ — parametric speed\n",
    "\n",
    "$\\nu(s) = \\frac{ds}{ds} = 1$\n",
    "\n",
    "$\\nu(t) = \\frac{ds}{dt} = |Q'|$\n",
    "\n",
    "Normal * curvature: $\\kappa N = T'$\n",
    "\n",
    "$\\kappa N(s) = \\frac{dT}{ds} = Q'' (s)$\n",
    "\n",
    "$\\kappa N(t) = \\frac{(Q' \\cdot Q')Q'' - (Q' \\cdot Q'')Q'}{(Q' \\cdot Q')^2} (t)$\n",
    "\n",
    "$\\kappa = \\frac{1}{\\rho}$ — reciprocal to curvature radius\n",
    "\n",
    "$\\kappa^2(s) = Q'' \\cdot Q'' (s)$\n",
    "\n",
    "$\\kappa^2(t) = \\frac{(Q' \\times Q'') \\cdot (Q' \\times Q'')}{(Q' \\cdot Q')^3} (t)$\n",
    "\n",
    "Binormal: $B = T \\times N$\n",
    "\n",
    "$\\tau B = N' + \\kappa T$\n",
    "\n",
    "$\\tau (s) = \\frac{Q'Q''Q'''}{Q'' \\cdot Q''}(s)$\n",
    "\n",
    "$\\tau (t) = \\frac{Q'Q''Q'''}{(Q' \\times Q'') \\cdot (Q' \\times Q'')}(t)$\n",
    "\n"
   ]
  },
  {
   "cell_type": "markdown",
   "metadata": {},
   "source": [
    "## Frenet\n",
    "\n",
    "$\n",
    "\\begin{bmatrix}\n",
    "T\n",
    "'\\\\\n",
    "N'\\\\\n",
    "B'\n",
    "\\end{bmatrix}\n",
    "=\n",
    "\\begin{bmatrix}\n",
    "0 & \\kappa & 0 \\\\\n",
    "-\\kappa & 0 & \\tau \\\\\n",
    "0 & -\\tau & 0\n",
    "\\end{bmatrix}\n",
    "\\begin{bmatrix}\n",
    "T\\\\\n",
    "N\\\\\n",
    "B\n",
    "\\end{bmatrix}\n",
    "(s)\n",
    "$ \n",
    "\n",
    "$\n",
    "\\begin{bmatrix}\n",
    "T\n",
    "'\\\\\n",
    "N'\\\\\n",
    "B'\n",
    "\\end{bmatrix}\n",
    "=\n",
    "|Q'|\n",
    "\\begin{bmatrix}\n",
    "0 & \\kappa & 0 \\\\\n",
    "-\\kappa & 0 & \\tau \\\\\n",
    "0 & -\\tau & 0\n",
    "\\end{bmatrix}\n",
    "\\begin{bmatrix}\n",
    "T\\\\\n",
    "N\\\\\n",
    "B\n",
    "\\end{bmatrix}\n",
    "(t)\n",
    "$ \n"
   ]
  },
  {
   "cell_type": "code",
   "execution_count": 1,
   "metadata": {},
   "outputs": [],
   "source": [
    "%matplotlib widget\n",
    "\n",
    "import numpy as np\n",
    "import sympy as sp\n",
    "import matplotlib.pyplot as plt\n",
    "\n",
    "from myutils import eval, vec, curv, Plt"
   ]
  },
  {
   "cell_type": "code",
   "execution_count": 2,
   "metadata": {},
   "outputs": [],
   "source": [
    "t, s, r, a, b, c, d = sp.symbols(\"t, s, r, a, b, c, d\")\n",
    "P, P0, P1, P2, P3 = vec.symbols('P P_0 P_1 P_2 P_3')"
   ]
  },
  {
   "cell_type": "markdown",
   "metadata": {},
   "source": [
    "# Equations"
   ]
  },
  {
   "cell_type": "code",
   "execution_count": 3,
   "metadata": {},
   "outputs": [],
   "source": [
    "Ellipse = lambda t, a, b: vec.vector(a * sp.cos(t * 2 * sp.pi), b * sp.sin(t * 2 * sp.pi), 0)\n",
    "Circle = lambda t, r: vec.vector(r * sp.cos(t * 2 * sp.pi), r * sp.sin(t * 2 * sp.pi), 0)\n",
    "Cosine = lambda t: vec.vector(t, sp.cos(t * 2 * sp.pi), 0)"
   ]
  },
  {
   "cell_type": "markdown",
   "metadata": {},
   "source": [
    "# Plotting"
   ]
  },
  {
   "cell_type": "code",
   "execution_count": 4,
   "metadata": {},
   "outputs": [
    {
     "data": {
      "application/vnd.jupyter.widget-view+json": {
       "model_id": "c48a93ac00494aa98fd9a845a500500f",
       "version_major": 2,
       "version_minor": 0
      },
      "text/plain": [
       "Canvas(toolbar=Toolbar(toolitems=[('Home', 'Reset original view', 'home', 'home'), ('Back', 'Back to previous …"
      ]
     },
     "metadata": {},
     "output_type": "display_data"
    }
   ],
   "source": [
    "plot = Plt()"
   ]
  },
  {
   "cell_type": "code",
   "execution_count": 5,
   "metadata": {},
   "outputs": [],
   "source": [
    "plot.clear()"
   ]
  },
  {
   "cell_type": "code",
   "execution_count": 6,
   "metadata": {},
   "outputs": [],
   "source": [
    "Q = Ellipse(t, 0.25, 0.125) + vec.vector(0.5, 0.5, 0.5)"
   ]
  },
  {
   "cell_type": "code",
   "execution_count": 7,
   "metadata": {},
   "outputs": [],
   "source": [
    "plot.curve(Q, t, 'c-')\n",
    "plot.points(eval(Q, t=0), 'co')"
   ]
  },
  {
   "cell_type": "code",
   "execution_count": 8,
   "metadata": {},
   "outputs": [],
   "source": [
    "T, N, B = curv.frame(Q, t)\n",
    "tt = np.arange(0, 1, 0.125)\n",
    "pnts = eval(Q, t=tt)\n",
    "plot.vectors(pnts, eval(T, t=tt) * 0.1, color='r')\n",
    "plot.vectors(pnts, eval(N, t=tt) * 0.1, color='g')\n",
    "plot.vectors(pnts, eval(B, t=tt) * 0.1, color='b')\n"
   ]
  }
 ],
 "metadata": {
  "file_extension": ".py",
  "kernelspec": {
   "display_name": "Python 3.7.3 64-bit",
   "language": "python",
   "name": "python37364bitd395a36d795e4cc58f03d8a6f524a3c3"
  },
  "language_info": {
   "codemirror_mode": {
    "name": "ipython",
    "version": 3
   },
   "file_extension": ".py",
   "mimetype": "text/x-python",
   "name": "python",
   "nbconvert_exporter": "python",
   "pygments_lexer": "ipython3",
   "version": "3.7.3"
  },
  "mimetype": "text/x-python",
  "name": "python",
  "npconvert_exporter": "python",
  "pygments_lexer": "ipython3",
  "version": 3
 },
 "nbformat": 4,
 "nbformat_minor": 4
}
