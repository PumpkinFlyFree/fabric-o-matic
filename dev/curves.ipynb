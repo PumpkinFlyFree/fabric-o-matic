{
 "cells": [
  {
   "cell_type": "markdown",
   "metadata": {},
   "source": [
    "# Curves math\n",
    "\n",
    "[\"Spline methods\" by Tom Lych, Knut Mørken, 2005]\n",
    "\n",
    "[\"Computational geometry\" MIT 2.158J, by Nicholas Patrikalakis, Takashi Maekawa, Wonjoon Cho]"
   ]
  },
  {
   "cell_type": "code",
   "execution_count": 3,
   "metadata": {},
   "outputs": [],
   "source": [
    "from random import random\n",
    "import numpy as np\n",
    "import sympy as sp\n",
    "from IPython.display import display\n",
    "from ipywidgets import widgets\n",
    "\n",
    "%matplotlib widget\n",
    "import matplotlib as mpl\n",
    "import matplotlib.pyplot as plt\n",
    "from matplotlib import cm\n",
    "cmap = cm.get_cmap(\"tab10\")\n",
    "\n",
    "import k3d\n",
    "\n",
    "from myutils import *"
   ]
  },
  {
   "cell_type": "code",
   "execution_count": 4,
   "metadata": {},
   "outputs": [],
   "source": [
    "u, v, r, s, t, a, b, c, d = sp.symbols(\"u, v, r, s, t, a, b, c, d\")\n",
    "P, P0, P1, P2, P3, P4 = vec.symbols('P P0 P1 P2 P3 P4')"
   ]
  },
  {
   "cell_type": "code",
   "execution_count": 5,
   "metadata": {},
   "outputs": [],
   "source": [
    "from matplotlib.cm import get_cmap\n",
    "palette = hexpalette(get_cmap('tab10'))"
   ]
  },
  {
   "cell_type": "markdown",
   "metadata": {},
   "source": [
    "# General math\n",
    "\n",
    "$Q(t) = [x(t), y(t), z(t)]$ -- paramatrization\n",
    "\n",
    "$Q(s) = [x(s), y(s), z(s)]$ -- natural (arc length) parametrization\n",
    "\n",
    "$s'(t) = \\frac{ds}{dt} = |Q'(t)| = \\sqrt{Q' \\cdot Q'}$ -- parametric speed\n",
    "\n",
    "$s''(t) = \\frac{ds'}{dt} = \\frac{Q' \\cdot Q''}{|Q'(t)|}$\n",
    "\n",
    "$t'(s) = \\frac{dt}{ds} = \\frac{1}{|Q'(t)|}$\n",
    "\n",
    "$t''(s) = \\frac{dt'}{ds} = \\frac{Q' \\cdot Q''}{(Q' \\cdot Q')^2}$\n",
    "\n",
    "Arc length: $s(t) = \\int_{t_0}^{t} |Q'(t)| dt$ → fuckery\n",
    "\n",
    "Natural (arclength) paramatrization: $|Q'(\\sigma)| = 1$ — practically impossible\n",
    "\n",
    "## Curve characteristics\n",
    "\n",
    "### Tangent and speed\n",
    "\n",
    "$T$ -- tangent, towards point motion\n",
    "\n",
    "$\\nu$ — parametric speed\n",
    "\n",
    "$\\nu T = Q'$\n",
    "\n",
    "$T(s) = \\frac{dQ}{ds} = Q' (s)$\n",
    "\n",
    "$T(t) = \\frac{Q'}{|Q'|} (t)$\n",
    "\n",
    "$\\nu(s) = \\frac{ds}{ds} = 1$\n",
    "\n",
    "$\\nu(t) = \\frac{ds}{dt} = |Q'|$\n",
    "\n",
    "### Normal and curvature\n",
    "\n",
    "$N$ -- normal, orthogonal to tangent, towards curvature center\n",
    "\n",
    "$\\kappa = \\frac{1}{\\rho}$ — reciprocal to curvature radius, =0 for straigth lines\n",
    "\n",
    "$\\kappa N = T'$\n",
    "\n",
    "$\\kappa N(s) = \\frac{dT}{ds} = Q'' (s)$\n",
    "\n",
    "$\\kappa N(t) = \\frac{(Q' \\cdot Q')Q'' - (Q' \\cdot Q'')Q'}{(Q' \\cdot Q')^2} (t)$\n",
    "\n",
    "$\\kappa^2(s) = Q'' \\cdot Q'' (s)$\n",
    "\n",
    "$\\kappa^2(t) = \\frac{(Q' \\times Q'') \\cdot (Q' \\times Q'')}{(Q' \\cdot Q')^3} (t)$\n",
    "\n",
    "### Binormal and torsion \n",
    "\n",
    "$B$ -- binormal, ortogonal to both $T$ and $N$\n",
    "\n",
    "$\\tau$ — torsion, measure of turning normal around tangent\n",
    "\n",
    "$B = T \\times N$\n",
    "\n",
    "$\\tau B = N' + \\kappa T$\n",
    "\n",
    "$\\tau (s) = \\frac{Q'Q''Q'''}{Q'' \\cdot Q''}(s)$\n",
    "\n",
    "$\\tau (t) = \\frac{Q'Q''Q'''}{(Q' \\times Q'') \\cdot (Q' \\times Q'')}(t)$\n",
    "\n"
   ]
  },
  {
   "cell_type": "markdown",
   "metadata": {},
   "source": [
    "## Frenet\n",
    "\n",
    "$\n",
    "\\begin{bmatrix}\n",
    "T\n",
    "'\\\\\n",
    "N'\\\\\n",
    "B'\n",
    "\\end{bmatrix}\n",
    "=\n",
    "\\begin{bmatrix}\n",
    "0 & \\kappa & 0 \\\\\n",
    "-\\kappa & 0 & \\tau \\\\\n",
    "0 & -\\tau & 0\n",
    "\\end{bmatrix}\n",
    "\\begin{bmatrix}\n",
    "T\\\\\n",
    "N\\\\\n",
    "B\n",
    "\\end{bmatrix}\n",
    "(s)\n",
    "$ \n",
    "\n",
    "$\n",
    "\\begin{bmatrix}\n",
    "T\n",
    "'\\\\\n",
    "N'\\\\\n",
    "B'\n",
    "\\end{bmatrix}\n",
    "=\n",
    "|Q'|\n",
    "\\begin{bmatrix}\n",
    "0 & \\kappa & 0 \\\\\n",
    "-\\kappa & 0 & \\tau \\\\\n",
    "0 & -\\tau & 0\n",
    "\\end{bmatrix}\n",
    "\\begin{bmatrix}\n",
    "T\\\\\n",
    "N\\\\\n",
    "B\n",
    "\\end{bmatrix}\n",
    "(t)\n",
    "$ \n"
   ]
  },
  {
   "cell_type": "markdown",
   "metadata": {},
   "source": [
    "# General polynomial curves\n",
    "\n",
    "* $(P)_{i=1}^n$ — n control points\n",
    "* $(t)_{j=1}^m$ — m knot segments, $t_{j} < t_{j+1}$\n",
    "* $B_{i}|(t)^m$ — some polynomial basis functions using the knots, so that $\\sum_{i=1}^{n} B_i(t) = 0$\n",
    "\n",
    "$Q(t) = \\sum_{i=1}^{n} C_i B_i(t)$\n"
   ]
  },
  {
   "cell_type": "markdown",
   "metadata": {},
   "source": [
    "# Lagrange basis\n",
    "\n",
    "* $(P)_{i=1}^d$ — d control points\n",
    "* $(t)_{j=1}^d$ — d knot segments\n",
    "* $L_{i}(t) = \\prod_{i=1, i≠j}^{d} \\frac{t - t_j}{t_i - t_j}$ — polynom of degree d-1\n",
    "\n",
    "$Q(t) = \\sum_{i=1}^{n} C_i L_i (t)$\n",
    "\n",
    "* Interpolating all the points:\n",
    "  $Q(t_j) = C_j$\n",
    "* !!! Not convex: curve is not bounded by control points = goes wild\n",
    "\n",
    "\n"
   ]
  },
  {
   "cell_type": "markdown",
   "metadata": {},
   "source": [
    "# Bezier curves\n",
    "\n",
    "of degree d\n",
    "\n",
    "* $(P)_{i=1}^{d+1}$ — control points\n",
    "* $0 ≤ t ≤ 1$ — defined on single segment, no knots //\n",
    "* $B^d_{i} = \\binom{d}{i} t^{i}(1-t)^{d-i}$ — Berstein polynomial of degree d\n",
    "\n",
    "Linear: $Q^1(t) = (1-t) P_0 + t P_1$\n",
    "\n",
    "Quadratic: $Q^2(t) = (1-t) Q^1_{P0,P1} + t Q^1_{P1,P2} = (1-t)^2 P_0 + 2 t (1-t) P_1 + t^2 P_2$\n",
    "\n",
    "Cubic: $Q^3(t) = (1-t) Q^2_{P0,P1,P2} + t Q^2_{P1,P2,P3} = (1-t)^3 P_0 + 3 t (1-t)^2 P_1 + 3 t^2 (1-t) P_2 + t^3 P_3$\n",
    "\n",
    "* Totally convex\n",
    "* Interpolates endpoints:\n",
    "  $Q^d(0) = P_0, Q^d(1) = P_{d+1}$\n",
    "* Approximates other points\n",
    "\n",
    "\n",
    "For parameter interval $[a, b]$, $Q(t) = Q(\\frac{t - a}{b - a})$\n",
    "\n",
    "\n"
   ]
  },
  {
   "cell_type": "markdown",
   "metadata": {},
   "source": [
    "# B-Splines\n",
    "\n",
    "of degree d\n",
    "\n",
    "* $(P)_{i=1}^{n}$ — any number $n$ of control points, $n ≥ d$\n",
    "* $(t)_{j=1}^{n+d+1}$ — knots\n",
    "* $B_{i}^{d}$ — basis functions\n",
    "\n",
    "Piecewise curve of $n±1$ segments\n",
    "\n",
    "For a single segment $i$:\n",
    "\n",
    "* $(P)_{j=i-d}^{i}$ — $d+1$ points\n",
    "* $(t)_{j=i-d+1}^{i+d}$ — $2d$ knots\n",
    "* $Q^d_i(t) = \\dfrac{t_{i+1} - t}{t_{i+1} - t_{i}} Q^{d-1}_{i-1} + \\dfrac{t - t_{i}}{t_{i+1} - t_{i}} Q^{d-1}_i$ — convex average of lower degree curves in interval $[t_i, t_{i+1}]$\n"
   ]
  },
  {
   "cell_type": "markdown",
   "metadata": {},
   "source": [
    "## Basis functions\n",
    "\n",
    "$Q(t) = \\sum_{i=1}^{n} P_i B^d_i (t)$\n",
    "\n",
    "$B^d_i(t) = \\dfrac{t - t_{i}}{t_{i+d} - t_{i}} B^{d-1}_i(t) + \\dfrac{t_{i+1+d} - t}{t_{i+1+d} - t_{i+1}} B^{d-1}_{i+1}(t)$\n",
    "\n",
    "### Point case \n",
    "\n",
    "$B^0_i(t) =  \n",
    "\\begin{cases}\n",
    "0 \\quad t < t_i \\\\\n",
    "1 \\quad t_i ≤ t < t_{i+1} \\\\\n",
    "0 \\quad t > t_{i+1}\n",
    "\\end{cases}$\n",
    "\n",
    "$B^0_i(t) = 0 \\quad t_{i} = t_{i+1}$ — collapsed segment case\n",
    "\n",
    "### Linear case\n",
    "\n",
    "$B^1_i(t) = \\dfrac{t - t_{i}}{t_{i+1} - t_{i}} B^0_i(t) + \\dfrac{t_{i+2} - t}{t_{i+2} - t_{i+1}} B^0_{i+1}(t)$\n",
    "\n",
    "$\\begin{cases}\n",
    "0 \\quad t < t_i \\\\\n",
    "\\dfrac{t - t_{i}}{t_{i+1} - t_{i}} \\quad t_{i} < t < t_{i+1} \\\\\n",
    "\\dfrac{t_{i+2} - t}{t_{i+2} - t_{i+1}} \\quad t_{i+1} < t < t_{i+2} \\\\\n",
    "0 \\quad t > t_{i+2}\n",
    "\\end{cases}$\n",
    "\n",
    "### Quadratic case\n",
    "\n",
    "$B^2_i(t) = \\dfrac{t - t_{i}}{t_{i+2} - t_{i}} B^1_i(t) + \\dfrac{t_{i+3} - t}{t_{i+3} - t_{i+1}} B^1_{i+1}(t)$\n",
    "\n",
    "$\\begin{cases}\n",
    "0 \\quad t < t_i \\\\\n",
    "\\dfrac{(t - t_{i})^2}{(t_{i+2} - t_{i})(t_{i+1} - t_{i})} \\quad t_{i} < t < t_{i+1} \\\\\n",
    "\\dfrac{(t - t_{i})(t_{i+2} - t)}{(t_{i+2} - t_{i})(t_{i+2} - t_{i+1})} + \\dfrac{(t_{i+3} - t)(t - t_{i+1})}{(t_{i+3} - t_{i+1})(t_{i+2} - t_{i+1})}   \\quad t_{i+1} < t < t_{i+2} \\\\\n",
    "\\dfrac{(t_{i+3} - t)^2}{(t_{i+3} - t_{i+1})(t_{i+3} - t_{i+2})} \\quad t_{i+2} < t < t_{i+3} \\\\\n",
    "0 \\quad t > t_{i+3}\n",
    "\\end{cases}$\n",
    "\n",
    "\n"
   ]
  },
  {
   "cell_type": "markdown",
   "metadata": {},
   "source": [
    "## Local support\n",
    "\n",
    "$B^d_i(t) = 0$ for $t \\notin [t_i, t_{i+d+1}]$\n",
    "\n",
    "Each point $P_i$ supports $d+1$ spans for $u \\in [t_i, t_{i+d+1}]$\n",
    "\n",
    "Each span $t \\in [t_{i}, t_{i+1}]$ is supported by $p+1$ points $P_{i-d} ... P_{i}$.\n",
    "\n",
    "Segment $t \\in [t_{j}, t_{j+1}]$: \n",
    "\n",
    "$Q_j(y) = \\sum_{i=j-d}^{j} P_{i} B_{i}^{d}(t)$"
   ]
  },
  {
   "cell_type": "code",
   "execution_count": 17,
   "metadata": {},
   "outputs": [
    {
     "data": {
      "application/vnd.jupyter.widget-view+json": {
       "model_id": "c8df4f83b61841d48643a31a78a00bf3",
       "version_major": 2,
       "version_minor": 0
      },
      "text/plain": [
       "Canvas(toolbar=Toolbar(toolitems=[('Home', 'Reset original view', 'home', 'home'), ('Back', 'Back to previous …"
      ]
     },
     "metadata": {},
     "output_type": "display_data"
    }
   ],
   "source": [
    "fig, axes = plt.subplots(2, 1, sharex=True)\n",
    "ax1, ax2 = axes.flatten()"
   ]
  },
  {
   "cell_type": "code",
   "execution_count": 18,
   "metadata": {},
   "outputs": [
    {
     "data": {
      "text/plain": [
       "<matplotlib.legend.Legend at 0x7fcd95760630>"
      ]
     },
     "execution_count": 18,
     "metadata": {},
     "output_type": "execute_result"
    }
   ],
   "source": [
    "tt = np.linspace(0, 3, 50)\n",
    "vv = eval(sp.bspline_basis_set(2, (0, 1, 2, 3), t), t=tt).flatten()\n",
    "for j in range(0, -3, -1):\n",
    "    ax1.plot(tt+j, vv, label=\"$B^2_{i\" + str(j) +\"}(t)$\" if j < 0 else r\"$B^2_{i}(t)$\")\n",
    "ax1.legend()\n",
    "    \n",
    "tt = np.linspace(0, 4, 50)\n",
    "vv = eval(sp.bspline_basis_set(3, (0, 1, 2, 3, 4), t), t=tt).flatten()\n",
    "for j in range(0, -4, -1):\n",
    "    ax2.plot(tt+j, vv, label=\"$B^3_{i\" + str(j) +\"}(t)$\" if j < 0 else r\"$B^3_{i}(t)$\")    \n",
    "ax2.set_xticks([-3, -2, -1, 0, 1, 2, 3, 4])\n",
    "ax2.set_xticklabels([\"$t_{i-3}$\", \"$t_{i-2}$\", \"$t_{i-1}$\", \"$t_{i}$\", \"$t_{i+1}$\", \"$t_{i+2}$\", \"$t_{i+3}$\", \"$t_{i+4}$\"])\n",
    "ax2.legend()"
   ]
  },
  {
   "cell_type": "code",
   "execution_count": 66,
   "metadata": {},
   "outputs": [
    {
     "data": {
      "text/latex": [
       "$\\displaystyle \\begin{cases} \\frac{u^{2}}{2} - u + \\frac{1}{2} & \\text{for}\\: u \\geq 1 \\wedge u \\leq 2 \\\\- u^{2} + 5 u - \\frac{11}{2} & \\text{for}\\: u \\geq 2 \\wedge u \\leq 3 \\\\\\frac{u^{2}}{2} - 4 u + 8 & \\text{for}\\: u \\geq 3 \\wedge u \\leq 4 \\\\0 & \\text{otherwise} \\end{cases}$"
      ],
      "text/plain": [
       "Piecewise((u**2/2 - u + 1/2, (u >= 1) & (u <= 2)), (-u**2 + 5*u - 11/2, (u >= 2) & (u <= 3)), (u**2/2 - 4*u + 8, (u >= 3) & (u <= 4)), (0, True))"
      ]
     },
     "execution_count": 66,
     "metadata": {},
     "output_type": "execute_result"
    }
   ],
   "source": [
    "sp.bspline_basis(2, (1,2,3,4),0,u)"
   ]
  },
  {
   "cell_type": "code",
   "execution_count": 4,
   "metadata": {},
   "outputs": [],
   "source": [
    "B2 = [\n",
    "    t**2 / 2,\n",
    "    -t**2 + 3*t - sp.Rational(3,2),\n",
    "    t**2 / 2 - 3*t + sp.Rational(9,2)\n",
    "]\n",
    "\n",
    "B3 = [\n",
    "     t**3 / 6, \n",
    "    -t**3 / 2 + 2*t**2 -  2*t + sp.Rational(2,3),\n",
    "     t**3 / 2 - 4*t**2 + 10*t - sp.Rational(22,3),\n",
    "    -t**3 / 6 + 2*t**2 -  8*t + sp.Rational(32,3)\n",
    "]\n",
    "\n",
    "def Spline(u, B, points):\n",
    "    \"\"\"Creates expression for single spline segment, with arg replacement\n",
    "    \n",
    "    B: list of basis functions B2 or B3\n",
    "    points: list of points from j-k to j\n",
    "    \"\"\"\n",
    "    deg = len(B)\n",
    "    assert len(points) == deg, f\"{len(points)} != {deg}\"\n",
    "    parts = [B[i].subs({t: u+i}) * vector(*points[-i-1]) for i in range(0, deg)]\n",
    "    return sp.add.Add(*parts)\n",
    "\n",
    "# export B2, B3, Spline into mycurves"
   ]
  },
  {
   "cell_type": "markdown",
   "metadata": {},
   "source": [
    "## Evaluation/plotting"
   ]
  },
  {
   "cell_type": "code",
   "execution_count": 11,
   "metadata": {},
   "outputs": [],
   "source": [
    "points = [\n",
    "    vector(-2.0,-1.0, 1.0),\n",
    "    vector(-1.0,-2.0, 0.0),\n",
    "    vector(-0.2,-1.0, 1.0),\n",
    "    vector(-0.8, 0.0, 1.0),\n",
    "    vector( 0.0, 1.0, 0.0),\n",
    "    vector( 0.8, 0.0, 1.0),\n",
    "    vector( 0.2,-1.0, 1.0),\n",
    "    vector( 1.0,-2.0, 0.0),\n",
    "    vector( 2.0,-1.0, 1.0),\n",
    "]\n",
    "pntnames = [f\"p{i}\" for i in range(0, len(points))]"
   ]
  },
  {
   "cell_type": "code",
   "execution_count": 22,
   "metadata": {},
   "outputs": [],
   "source": [
    "# export eval_curve into mycurves\n",
    "def eval_curve(Q, u, usegs=6):\n",
    "    uu = np.linspace(0, 1, usegs)\n",
    "    points = eval(Q, {u: uu}, dtype=np.float32)\n",
    "    return points\n",
    "\n",
    "# export eval_spline into mycurves\n",
    "from itertools import chain\n",
    "def eval_splines(B, points, usegs=6):\n",
    "    deg = len(B)\n",
    "    return list(chain(*[eval_curve(Spline(u, B, points[ids]), u, usegs) for ids in iter_slices(deg, len(points))]))"
   ]
  },
  {
   "cell_type": "code",
   "execution_count": 21,
   "metadata": {},
   "outputs": [
    {
     "data": {
      "application/vnd.jupyter.widget-view+json": {
       "model_id": "e9d802b18a6249fe886cc696c54fe69c",
       "version_major": 2,
       "version_minor": 0
      },
      "text/plain": [
       "Plot(antialias=3, axes=['x', 'y', 'z'], axes_helper=1.0, background_color=16777215, camera=[2, -3, 0.2, 0.0, 0…"
      ]
     },
     "metadata": {},
     "output_type": "display_data"
    }
   ],
   "source": [
    "plot = k3d.plot()\n",
    "plot += k3d.line(points, color=0x808080)\n",
    "plot += k3d.text2d(\"points\", (0,.1), color=0x808080)\n",
    "plot += k3d.line(eval_spline(B2, points), name=\"B2\", color=palette[0])\n",
    "plot += k3d.text2d(\"B^{2}Spline\", (0,.2), color=palette[0])\n",
    "plot += k3d.line(eval_spline(B3, points), name=\"B3\", color=palette[1])\n",
    "plot += k3d.text2d(\"B^{3}Spline\", (0,.3), color=palette[1])\n",
    "plot"
   ]
  },
  {
   "cell_type": "markdown",
   "metadata": {},
   "source": [
    "# Periodic splines\n",
    "\n",
    "Cyclic $n$ points: \n",
    "\n",
    "* $P_0$, \n",
    "* $P_1$\n",
    "* $P_2$\n",
    "* ...\n",
    "* $P_n$\n",
    "* $P_{n+1} = P_0 + R$\n",
    "* $P_{n+2} = P_1 + R$\n",
    "\n",
    "$R$ — period vector, = 0 for closed\n",
    "\n",
    "Cyclic $n$ splines:\n",
    "\n",
    "* $Spline(P_0, P_1, P_2)$\n",
    "* ...\n",
    "* $Spline(P_{n-1}, P_{n}, P_{n+1}) = Spline(P_{n-1}, P_{n}, P_0 + R)$\n",
    "* $Spline(P_{n}, P_{n+1}, P_{n+2}) = Spline(P_{n}, P_0 + R, P_1 + R)$\n",
    "* $Spline(P_{n+1}, P_{n+2}, P_{n+3}) = Spline(P_0 + R, P_1 + R, P_2 + R) = Spline(P_0, P_1, P_2) + R$\n",
    "\n",
    "\n",
    "\n"
   ]
  },
  {
   "cell_type": "markdown",
   "metadata": {},
   "source": [
    "# Reverse projection (flat uniform spline)\n",
    "\n",
    "To flat curve\n",
    "\n",
    "## Finding closest quadr spline segment\n",
    "\n",
    "Find closest line segment $P_j ... P_{j+1}$\n",
    "\n",
    "Closest curve segment is \n",
    "  $\\begin{cases}\n",
    "  P_{j-1}, P_{j}, P_{j+1} \\quad P_{j} \\text{ is closer}\\\\\n",
    "  P_j, P_{j+1}, P_{j+2} \\quad P_{j+1} \\text{ is closer}\n",
    "  \\end{cases}$  \n",
    "  \n",
    "should work unless segments are overlapping, touching, or very close\n"
   ]
  },
  {
   "cell_type": "code",
   "execution_count": null,
   "metadata": {},
   "outputs": [],
   "source": [
    "def dist_p(x, y, p):\n",
    "    v = vector(x, y, 0)\n",
    "    d = vector(p[0], p[1], 0) - v\n",
    "    return d.dot(d)\n",
    "\n",
    "def closest_segment(x, y, points):\n",
    "    dist1 = [dist_p(x, y, points[i]) for i in range(len(points))]\n",
    "    dist2 = [dist1[i] + dist1[i+1] for i in range(len(points)-1)]\n",
    "    j = dist2.index(min(dist2))\n",
    "    if dist1[j] < dist1[j+1]:\n",
    "        return j-1\n",
    "    else:\n",
    "        return j\n"
   ]
  },
  {
   "cell_type": "markdown",
   "metadata": {},
   "source": [
    "## Finding closest point on $Q_j(u)$\n",
    "\n",
    "\n",
    "Distance vector: $V_{dist}(u) = Q_{flat}(u) - P_{flat}$\n",
    "\n",
    "Squared distance: $V_{dist} \\cdot V_{dist}(u)$\n",
    "\n",
    "Derivative: $\\frac{dV}{du}(u)$\n",
    "\n",
    "Solve: $\\frac{dV}{du}(u) = 0 \\to u_{proj}$"
   ]
  },
  {
   "cell_type": "code",
   "execution_count": null,
   "metadata": {},
   "outputs": [],
   "source": [
    "Q = Spline(u, B2, [P2, P1, P0])\n",
    "Vdst = Q - P\n",
    "dst_sq = Vdst.dot(Vdst)\n",
    "dst_du = sp.diff(dst_sq, u)"
   ]
  },
  {
   "cell_type": "code",
   "execution_count": null,
   "metadata": {},
   "outputs": [],
   "source": [
    "sp.collect(sp.expand(dst_du), u)"
   ]
  },
  {
   "cell_type": "markdown",
   "metadata": {},
   "source": [
    "### Manageable\n",
    "\n",
    "$Q(u) = A u^2 + B u + C$\n",
    "\n",
    "$V = Q(u) - P = A u^2 + B u + D$\n",
    "\n",
    "$V \\cdot V = (A \\cdot A) u^4  + (2 A \\cdot B) u^3 + (2 A \\cdot D + B \\cdot B) u^2  + (2 B \\cdot D) u + D \\cdot D$\n",
    "\n",
    "$(V \\cdot V)/du =  4 (A \\cdot A) u^3 + 6 (A \\cdot B) u^2 + 2 (2 A \\cdot D + B \\cdot B) u + 2 B \\cdot D$\n",
    "\n",
    "Equation\n",
    "\n",
    "$2 (A \\cdot A) u^3 + 3 (A \\cdot B) u^2 + (2 A \\cdot D + B \\cdot B) u + B \\cdot D = 0$\n",
    "\n",
    "$a u^3 + b u^2 + c u + d = 0$\n",
    "\n",
    "* $a = 2 (A \\cdot A)$\n",
    "* $b = 3 (A \\cdot B)$\n",
    "* $c = (2 A \\cdot D + B \\cdot B)$\n",
    "* $d = B \\cdot D$\n",
    "\n",
    "$u'^3 + p u' + q = 0$\n",
    "\n",
    "* $u' = u + b/3a$\n",
    "* $p = \\frac{3 ac - b^2}{3 a^2}$\n",
    "* $q = \\frac{2 b^3 - 9 abc + 27 a^2d}{27a^3}$\n",
    "\n",
    "Cardano formula, if $4 p^3 + 27q^2 > 0$\n",
    "\n",
    "$u' = \n",
    "\\sqrt[3]{  \n",
    "    -\\frac{q}{2}\n",
    "    +\\sqrt{\n",
    "         \\left(\\frac{q}{2}\\right)^2 + \\left(\\frac{p}{3}\\right)^3   \n",
    "     }\n",
    "}\n",
    "+\n",
    "\\sqrt[3]{  \n",
    "    -\\frac{q}{2}\n",
    "    -\\sqrt{\n",
    "         \\left(\\frac{q}{2}\\right)^2 + \\left(\\frac{p}{3}\\right)^3   \n",
    "     }\n",
    "}\n",
    "$\n",
    "\n",
    "$u_{proj} = u' - b/3a$"
   ]
  },
  {
   "cell_type": "code",
   "execution_count": null,
   "metadata": {},
   "outputs": [],
   "source": [
    "def project_bspl2_numpy(P0, P1, P2, P):\n",
    "    P0 = np.array(P0[:], dtype=np.float)\n",
    "    P1 = np.array(P1[:], dtype=np.float)\n",
    "    P2 = np.array(P2[:], dtype=np.float)\n",
    "    P = np.array(P[:], dtype=np.float)\n",
    "    A = (P0 - 2 * P1 + P2) / 2\n",
    "    B = P1 - P2\n",
    "    D = (P1 + P2)/2 - P\n",
    "    a = 2*np.dot(A, A)\n",
    "    b = 3*np.dot(A, B)\n",
    "    c = 2*np.dot(A, D) + np.dot(B, B)\n",
    "    d = np.dot(B, D)\n",
    "    sol = list(filter(lambda r: r.imag == 0, np.polynomial.polynomial.polyroots([d, c, b, a])))[0].real\n",
    "    return sol\n",
    "    "
   ]
  },
  {
   "cell_type": "code",
   "execution_count": null,
   "metadata": {},
   "outputs": [],
   "source": [
    "def project_bspl2_cardano(P0, P1, P2, P):\n",
    "    P0 = np.array(P0[:], dtype=np.float)\n",
    "    P1 = np.array(P1[:], dtype=np.float)\n",
    "    P2 = np.array(P2[:], dtype=np.float)\n",
    "    P = np.array(P[:], dtype=np.float)\n",
    "    A = (P0 - 2 * P1 + P2) / 2\n",
    "    B = P1 - P2\n",
    "    D = (P1 + P2)/2 - P\n",
    "    a = 2*np.dot(A, A)\n",
    "    b = 3*np.dot(A, B)\n",
    "    c = 2*np.dot(A, D) + np.dot(B, B)\n",
    "    d = np.dot(B, D)\n",
    "    p3 = (3 * a * c  - b**2) / (9 * a**2)\n",
    "    q2 = (2*b**3 - 9 * a * b * c + 27 * a**2 * d) / (54 * a**3) \n",
    "    q2p3 = q2**2 + p3**3\n",
    "    if q2p3 < 0:\n",
    "        raise ValueError(\"fail\")\n",
    "    rtqp = np.sqrt(q2p3)\n",
    "    u_ = np.cbrt(-q2 + rtqp) + np.cbrt(-q2 - rtqp)\n",
    "    sol = u_ - b/(3*a)\n",
    "    return sol\n"
   ]
  },
  {
   "cell_type": "code",
   "execution_count": null,
   "metadata": {},
   "outputs": [],
   "source": [
    "def project(x, y, points):\n",
    "    #u_prj = 1 - project_bspl2_numpy(*splpoints, [x, y, 0])\n",
    "    u_prj = 1 - project_bspl2_cardano(*points, [x, y, 0])\n",
    "    spl = Spline(u, B2, points)\n",
    "    x_prj, y_prj, z_prj = eval(spl, u=u_prj).T\n",
    "    return u_prj, x_prj[0], y_prj[0], z_prj[0]\n"
   ]
  }
 ],
 "metadata": {
  "file_extension": ".py",
  "kernelspec": {
   "display_name": "Python 3",
   "language": "python",
   "name": "python3"
  },
  "language_info": {
   "codemirror_mode": {
    "name": "ipython",
    "version": 3
   },
   "file_extension": ".py",
   "mimetype": "text/x-python",
   "name": "python",
   "nbconvert_exporter": "python",
   "pygments_lexer": "ipython3",
   "version": "3.7.3"
  },
  "mimetype": "text/x-python",
  "name": "python",
  "npconvert_exporter": "python",
  "pygments_lexer": "ipython3",
  "version": 3
 },
 "nbformat": 4,
 "nbformat_minor": 4
}
