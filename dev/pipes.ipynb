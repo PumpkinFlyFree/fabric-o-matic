{
 "cells": [
  {
   "cell_type": "markdown",
   "metadata": {},
   "source": [
    "# General surfaces' math\n",
    "\n",
    "$S: (u, v) \\to (x, y, z)$ \n",
    "\n",
    "$S(u, v) = [x(u, v), y(u, v), z(u, v)]$\n",
    "\n",
    "$S_u = \\frac{\\partial S}{\\partial u}$, $S_v = \\frac{\\partial S}{\\partial v}$\n",
    "\n",
    "Curve on surface:\n",
    "\n",
    "$C: (t) \\to (u,v)$ \n",
    "\n",
    "$C(t) = [u(t), v(t)]$\n",
    "\n",
    "$T_C = S_u \\frac{du}{dt} + S_v \\frac{dv}{dt}$\n",
    "\n",
    "Tangent plane:\n",
    "\n",
    "$T_S(u,v) = S + \\lambda S_u + \\mu S_v$\n",
    "\n",
    "Normal vector:\n",
    "\n",
    "$N_S(u,v) = \\frac{S_u \\times S_v}{|S_u \\times S_v|}$\n"
   ]
  },
  {
   "cell_type": "markdown",
   "metadata": {},
   "source": [
    "# Pipes math\n",
    "Directrix (spine): $A(t) = [x(t), y(t), z(t)]$\n",
    "\n",
    "Generatrix (bevel): $C(s, t) = [x(s, t), y(s, t), 0]$, for uniform profile -- $C(s) = [x(s), y(s), 0]$\n",
    "\n",
    "Generatrix frame: $Z(t) = T_A = A'(t)/|A'(t)|$ -- along spine tangent, $X(t), Y(t)$ -- orthogonal, e.g. $X = N_A, Y = B_A$ or $X = Z \\times e_z,  Y = X \\times Z$\n",
    "\n",
    "Surface: $S(u, v) = A(u) + C(v, u)_x X(u) + C(v, u)_y Y(u)$"
   ]
  },
  {
   "cell_type": "code",
   "execution_count": 1,
   "metadata": {},
   "outputs": [],
   "source": [
    "%matplotlib widget\n",
    "\n",
    "from itertools import product\n",
    "import numpy as np\n",
    "import sympy as sp\n",
    "import matplotlib.pyplot as plt\n",
    "\n",
    "from myutils import eval, vec, curv, Plt"
   ]
  },
  {
   "cell_type": "code",
   "execution_count": 2,
   "metadata": {},
   "outputs": [],
   "source": [
    "t, s, u, v, r, a, b, c, d = sp.symbols(\"t, s, u, v, r, a, b, c, d\")\n",
    "P, P0, P1, P2, P3 = vec.symbols('P P_0 P_1 P_2 P_3')"
   ]
  },
  {
   "cell_type": "markdown",
   "metadata": {},
   "source": [
    "# Equations"
   ]
  },
  {
   "cell_type": "code",
   "execution_count": 3,
   "metadata": {},
   "outputs": [],
   "source": [
    "Bezier1 = lambda t, p0, p1: (1-t) * p0 + t * p1\n",
    "Bezier2 = lambda t, p0, p1, p2: (1-t)**2 * p0 + 2 * t * (1-t) * p1 + t**2 * p2\n",
    "Bezier3 = lambda t, p0, p1, p2, p3: (1-t)**3 * p0 + 3 * t * (1-t)**2 * p1 + 3 * t**2 * (1-t) * p2 + t**3 * p3\n",
    "Ellipse = lambda t, a, b: vec.vector(a * sp.cos(t * 2 * sp.pi), b * sp.sin(t * 2 * sp.pi), 0)\n",
    "Circle = lambda t, r: vec.vector(r * sp.cos(t * 2 * sp.pi), r * sp.sin(t * 2 * sp.pi), 0)\n",
    "Cosine = lambda t: vec.vector(t, sp.cos(t * 2 * sp.pi), 0)"
   ]
  },
  {
   "cell_type": "code",
   "execution_count": 4,
   "metadata": {},
   "outputs": [],
   "source": [
    "Pipe = lambda Qa, Qc, X, Y: Qa + X * Qc[0] + Y * Qc[1]\n",
    "\n",
    "def pipe_frame(S):\n",
    "    Sdu = sp.diff(S, u)\n",
    "    Sdv = sp.diff(S, v)\n",
    "    Suxv = Sdu.cross(Sdv)\n",
    "    N = Suxv / vec.length(Suxv)\n",
    "    return Sdu, Sdv, N"
   ]
  },
  {
   "cell_type": "markdown",
   "metadata": {},
   "source": [
    "# Geometry\n",
    "\n",
    "Vetically-aligned spine frame: X axis parallel to world XY, Y axis approximately \"up\""
   ]
  },
  {
   "cell_type": "code",
   "execution_count": 5,
   "metadata": {},
   "outputs": [],
   "source": [
    "def spine_frame(Aa, u):\n",
    "    Z = sp.simplify(vec.normalize(sp.diff(Aa, u)))         # spine tangent direction\n",
    "    X = sp.simplify(vec.normalize(Z.cross(vec.vector(0, 0, 1))))\n",
    "    Y = sp.simplify(X.cross(Z))\n",
    "    return X, Y, Z\n"
   ]
  },
  {
   "cell_type": "code",
   "execution_count": 6,
   "metadata": {},
   "outputs": [
    {
     "data": {
      "application/vnd.jupyter.widget-view+json": {
       "model_id": "",
       "version_major": 2,
       "version_minor": 0
      },
      "text/plain": [
       "Canvas(toolbar=Toolbar(toolitems=[('Home', 'Reset original view', 'home', 'home'), ('Back', 'Back to previous …"
      ]
     },
     "metadata": {},
     "output_type": "display_data"
    }
   ],
   "source": [
    "fig = plt.figure(figsize=(12, 6))\n",
    "plot1 = Plt(fig.add_subplot(1, 2, 1, projection='3d'))\n",
    "plot2 = Plt(fig.add_subplot(1, 2, 2, projection='3d'))"
   ]
  },
  {
   "cell_type": "code",
   "execution_count": 7,
   "metadata": {},
   "outputs": [],
   "source": [
    "plot1.clear()\n",
    "plot2.clear()"
   ]
  },
  {
   "cell_type": "code",
   "execution_count": 8,
   "metadata": {},
   "outputs": [],
   "source": [
    "points = (vec.vector(0, 0, 0), vec.vector(0, 1, 1), vec.vector(1, 1, 0))\n",
    "Qa = Bezier2(u, *points) \n",
    "X, Y, Z = spine_frame(Qa, u)\n",
    "Qc = Circle(v, 0.2)\n",
    "S = Pipe(Qa, Qc, X, Y)"
   ]
  },
  {
   "cell_type": "code",
   "execution_count": 9,
   "metadata": {},
   "outputs": [],
   "source": [
    "plot1.curve(Qa, u, color='c')\n",
    "tt = np.arange(0, 1, 0.125)\n",
    "pnts = eval(Qa, u=tt)\n",
    "plot1.vectors(pnts, eval(X, u=tt) * 0.1, color='r')\n",
    "plot1.vectors(pnts, eval(Y, u=tt) * 0.1, color='g')\n",
    "plot1.vectors(pnts, eval(Z, u=tt) * 0.1, color='b')"
   ]
  },
  {
   "cell_type": "code",
   "execution_count": 11,
   "metadata": {},
   "outputs": [],
   "source": [
    "plot2.surface(S, u, v, color='c', alpha=0.5)\n",
    "\n",
    "Su, Sv, N = pipe_frame(S)\n",
    "uu = np.linspace(0, 1, 4)\n",
    "vv = np.linspace(0, 1, 4)\n",
    "pnts = eval(S, u=uu, v=vv)\n",
    "plot2.vectors(pnts, eval(Su, u=uu, v=vv) * 0.1, color='r')\n",
    "plot2.vectors(pnts, eval(Sv, u=uu, v=vv) * 0.1, color='g')\n",
    "plot2.vectors(pnts, eval(N, u=uu, v=vv) * 0.1, color='b')"
   ]
  },
  {
   "cell_type": "markdown",
   "metadata": {},
   "source": [
    "# Reverse projection\n",
    "\n",
    "Projecting points from fabric surface to pipe.\n",
    "\n",
    "$P_{flat} \\to S \\to u_{proj}, v_{proj}, V_{displacement}$ \n",
    "\n",
    "Flat spine curve:\n",
    "\n",
    "$Q_z = 0$, $Y_{spine} = e_z$, $X_{spine} = distance(P_{flat}, Q_{flat})$\n",
    "\n",
    "Solution for flat curve:\n",
    "1. find closest point on spine $Qa \\to u_{proj}, x_{distance}$\n",
    "2. solve $Qc(v)_x = x_{distance} \\to v_{proj}$\n",
    "3. $P_s = S(u_{proj}, v_{proj}) \\to V_{displ}$ "
   ]
  },
  {
   "cell_type": "markdown",
   "metadata": {},
   "source": [
    "## Projecting to Qa\n",
    "\n",
    "Distance vector: $V_{dist}(u) = Q_{flat}(u) - P_{flat}$\n",
    "\n",
    "Squared distance: $V_{dist} \\cdot V_{dist}(u)$\n",
    "\n",
    "Derivative: $\\frac{dV}{du}(u)$\n",
    "\n",
    "Solve: $\\frac{dV}{du}(u) = 0 \\to u_{proj}$"
   ]
  },
  {
   "cell_type": "code",
   "execution_count": 58,
   "metadata": {},
   "outputs": [],
   "source": [
    "def find_closest(Qa, u, p):\n",
    "    Vdst = Qa - p\n",
    "    Vdst_sq = Vdst.dot(Vdst)\n",
    "    Vdu = sp.diff(Vdst_sq, u)\n",
    "    solution = sp.solve(Vdu, u)\n",
    "    return solution[0] "
   ]
  },
  {
   "cell_type": "markdown",
   "metadata": {},
   "source": [
    "### Manageable\n",
    "\n",
    "$Q(u) = A u^2 + B u + C$\n",
    "\n",
    "$V = Q(u) - P = A u^2 + B u + C$\n",
    "\n",
    "* $A = (P_0 - P_1) + (P_2 - P_1)$\n",
    "* $B = -2 (P_0 - P_1)$\n",
    "* $C = P_0$\n",
    "* $D = P_0 - P$\n",
    "\n",
    "$V \\cdot V = (A \\cdot A) u^4  + (2 A \\cdot B) u^3 + (2 A \\cdot D + B \\cdot B) u^2  + (2 B \\cdot D) u + D \\cdot D$\n",
    "\n",
    "$(V \\cdot V)/du =  4 (A \\cdot A) u^3 + 6 (A \\cdot B) u^2 + 2 (2 A \\cdot D + B \\cdot B) u + 2 B \\cdot D$\n",
    "\n",
    "Equation\n",
    "\n",
    "$2 (A \\cdot A) u^3 + 3 (A \\cdot B) u^2 + (2 A \\cdot D + B \\cdot B) u + B \\cdot D = 0$\n",
    "\n",
    "$a u^3 + b u^2 + c u + d = 0$\n",
    "\n",
    "* $a = 2 (A \\cdot A)$\n",
    "* $b = 3 (A \\cdot B)$\n",
    "* $c = (2 A \\cdot D + B \\cdot B)$\n",
    "* $d = B \\cdot D$\n",
    "\n",
    "$u'^3 + p u' + q = 0$\n",
    "\n",
    "* $u' = u + b/3a$\n",
    "* $p = \\frac{3 ac - b^2}{3 a^2}$\n",
    "* $q = \\frac{2 b^3 - 9 abc + 27 a^2d}{27a^3}$\n",
    "\n",
    "Cardano formula, if $4 p^3 + 27q^2 > 0$\n",
    "\n",
    "$u' = \n",
    "\\sqrt[3]{  \n",
    "    -\\frac{q}{2}\n",
    "    +\\sqrt{\n",
    "         (\\frac{q}{2})^2 + (\\frac{p}{3})^3   \n",
    "     }\n",
    "}\n",
    "+\n",
    "\\sqrt[3]{  \n",
    "    -\\frac{q}{2}\n",
    "    -\\sqrt{\n",
    "         (\\frac{q}{2})^2 + (\\frac{p}{3})^3   \n",
    "     }\n",
    "}\n",
    "$\n",
    "\n",
    "$u_{proj} = u' - b/3a$"
   ]
  },
  {
   "cell_type": "markdown",
   "metadata": {},
   "source": [
    "## Projecting to Qc\n",
    "\n",
    "Circle generatrix\n",
    "\n",
    "$C_x(v) = r cos(v 2 \\pi)$\n",
    "\n",
    "$r cos(v 2 \\pi) = dist$\n",
    "\n",
    "If $-1 < d/r < 1$\n",
    "\n",
    "$v_{proj} = 1 - \\frac{acos(d/r)}{2\\pi}$\n",
    "\n"
   ]
  },
  {
   "cell_type": "code",
   "execution_count": null,
   "metadata": {},
   "outputs": [],
   "source": []
  }
 ],
 "metadata": {
  "file_extension": ".py",
  "kernelspec": {
   "display_name": "Python 3.7.3 64-bit",
   "language": "python",
   "name": "python37364bitd395a36d795e4cc58f03d8a6f524a3c3"
  },
  "language_info": {
   "codemirror_mode": {
    "name": "ipython",
    "version": 3
   },
   "file_extension": ".py",
   "mimetype": "text/x-python",
   "name": "python",
   "nbconvert_exporter": "python",
   "pygments_lexer": "ipython3",
   "version": "3.7.3"
  },
  "mimetype": "text/x-python",
  "name": "python",
  "npconvert_exporter": "python",
  "pygments_lexer": "ipython3",
  "version": 3
 },
 "nbformat": 4,
 "nbformat_minor": 4
}
