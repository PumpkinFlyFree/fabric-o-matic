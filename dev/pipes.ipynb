{
 "cells": [
  {
   "cell_type": "markdown",
   "metadata": {},
   "source": [
    "# General math of surfaces\n",
    "\n",
    "$S: (u, v) \\to (x, y, z)$ \n",
    "\n",
    "$S(u, v) = [x(u, v), y(u, v), z(u, v)]$\n",
    "\n",
    "$S_u = \\frac{\\partial S}{\\partial u}$, $S_v = \\frac{\\partial S}{\\partial v}$\n",
    "\n",
    "Curve on surface:\n",
    "\n",
    "$C: (t) \\to (u,v)$ \n",
    "\n",
    "$C(t) = [u(t), v(t)]$\n",
    "\n",
    "$T_C = S_u \\frac{du}{dt} + S_v \\frac{dv}{dt}$\n",
    "\n",
    "Tangent plane:\n",
    "\n",
    "$T_S(u,v) = S + \\lambda S_u + \\mu S_v$\n",
    "\n",
    "Normal vector:\n",
    "\n",
    "$N_S(u,v) = \\frac{S_u \\times S_v}{|S_u \\times S_v|}$\n"
   ]
  },
  {
   "cell_type": "markdown",
   "metadata": {},
   "source": [
    "# Pipes math\n",
    "Directrix (spine): $A(t) = [x(t), y(t), z(t)]$\n",
    "\n",
    "Generatrix (bevel): $C(s, t) = [x(s, t), y(s, t), 0]$, for uniform profile -- $C(s) = [x(s), y(s), 0]$\n",
    "\n",
    "Generatrix frame: $Z(t) = T_A = A'(t)/|A'(t)|$ -- along spine tangent, $X(t), Y(t)$ -- orthogonal, e.g. $X = N_A, Y = B_A$ or $X = Z \\times e_z,  Y = X \\times Z$\n",
    "\n",
    "Surface: $S(u, v) = A(u) + C(v, u)_x X(u) + C(v, u)_y Y(u)$"
   ]
  },
  {
   "cell_type": "code",
   "execution_count": 1,
   "metadata": {},
   "outputs": [],
   "source": [
    "import numpy as np\n",
    "import sympy as sp\n",
    "from matplotlib.tri import Triangulation\n",
    "from ipywidgets import widgets\n",
    "import k3d\n",
    "# import plotly.graph_objects as go\n",
    "# from plotly.subplots import make_subplots\n",
    "\n",
    "from myutils import *\n",
    "from mycurves import *"
   ]
  },
  {
   "cell_type": "code",
   "execution_count": 2,
   "metadata": {},
   "outputs": [],
   "source": [
    "x, y, z, t, s, u, v, r, a, b, c, d = sp.symbols(\"x, y, z, t, s, u, v, r, a, b, c, d\")\n",
    "P, P0, P1, P2, P3 = vec.symbols('P P0 P1 P2 P3')"
   ]
  },
  {
   "cell_type": "code",
   "execution_count": 3,
   "metadata": {},
   "outputs": [],
   "source": [
    "def spine_frame(u, Q):\n",
    "    # Verically-aligned spine frame: X axis parallel to world XY, Y axis approximately \"up\"\n",
    "    Z = vec.normalize(sp.diff(Q, u))         # spine tangent direction\n",
    "    X = vec.normalize(Z.cross(vector(0, 0, 1)))\n",
    "    Y = X.cross(Z)\n",
    "    return X, Y, Z\n",
    "\n",
    "def Pipe(uv, Qa, Qc):\n",
    "    u, v = uv\n",
    "    X, Y, Z = spine_frame(u, Qa)\n",
    "    return Qa + X * Qc[0] + Y * Qc[1]\n",
    "\n",
    "def pipe_frame(uv, S):\n",
    "    u, v = uv    \n",
    "    U = vec.normalize(sp.diff(S, u))\n",
    "    V = vec.normalize(sp.diff(S, v))\n",
    "    N = U.cross(V)    \n",
    "    return U, V, N"
   ]
  },
  {
   "cell_type": "code",
   "execution_count": 4,
   "metadata": {},
   "outputs": [],
   "source": [
    "# export triangulate_pipe into myutils\n",
    "def triangulate_pipe(nu, nv):\n",
    "    for u in range(nu-1):\n",
    "        for v in range(nv-1):\n",
    "            idx = u * nv + v\n",
    "            yield (idx, idx+nv, idx+nv+1)\n",
    "            yield (idx, idx+nv+1, idx+1)\n",
    "        idx = u * nv + nv - 1\n",
    "        yield (idx, idx+nv, idx+1)\n",
    "        yield (idx, idx+1, idx-nv+1)"
   ]
  },
  {
   "cell_type": "code",
   "execution_count": 1,
   "metadata": {},
   "outputs": [],
   "source": [
    "# export eval_curve, eval_pipe into mycurves\n",
    "def eval_curve(Q, u, segs=6):\n",
    "    uu = np.linspace(0, 1, segs)\n",
    "    points = eval(Q, {u: uu}, dtype=np.float32)\n",
    "    return points\n",
    "\n",
    "def eval_pipe(S, vrs, segs=(6, 6)):\n",
    "    u, v = vrs\n",
    "    nu = usegs+1\n",
    "    nv = vsegs\n",
    "    uu = np.linspace(0, 1, nu)\n",
    "    vv = np.linspace(0, 1, nv)\n",
    "    points = eval(S, {u: uu, v: vv}, dtype=np.float32).reshape(nu*nv, 3)\n",
    "    tris = np.array(tuple(triangulate_pipe(nu, nv)), np.uint32)\n",
    "    return points, tris, np.array(np.meshgrid(uu, vv)).T.reshape(-1,2)"
   ]
  },
  {
   "cell_type": "markdown",
   "metadata": {},
   "source": [
    "## Plotting"
   ]
  },
  {
   "cell_type": "code",
   "execution_count": 58,
   "metadata": {},
   "outputs": [],
   "source": [
    "def texture(coords, scale):\n",
    "    checker = lambda uv: (int(uv[0]*scale[0]) + int(uv[1]*scale[1]))%2\n",
    "    return map(checker, coords)"
   ]
  },
  {
   "cell_type": "code",
   "execution_count": 72,
   "metadata": {},
   "outputs": [
    {
     "data": {
      "application/vnd.jupyter.widget-view+json": {
       "model_id": "b92ad83f5af5457f96d248114410e21f",
       "version_major": 2,
       "version_minor": 0
      },
      "text/plain": [
       "Plot(antialias=3, axes=['x', 'y', 'z'], axes_helper=1.0, background_color=16777215, camera=[2, -3, 0.2, 0.0, 0…"
      ]
     },
     "metadata": {},
     "output_type": "display_data"
    }
   ],
   "source": [
    "plot = k3d.plot()\n",
    "plot"
   ]
  },
  {
   "cell_type": "code",
   "execution_count": 73,
   "metadata": {},
   "outputs": [],
   "source": [
    "Qa = vector(u*3, 0, sp.cos(u*2*sp.pi))\n",
    "Qc = vector(0.2*sp.cos(v*2*sp.pi), 0.2*sp.sin(v*2*sp.pi), 0)\n",
    "S = Pipe((u,v), Qa, Qc)"
   ]
  },
  {
   "cell_type": "code",
   "execution_count": 74,
   "metadata": {},
   "outputs": [],
   "source": [
    "points = eval_curve(Qa, u, 36)\n",
    "plot += k3d.line(points, name=\"spine\")"
   ]
  },
  {
   "cell_type": "code",
   "execution_count": 76,
   "metadata": {},
   "outputs": [],
   "source": [
    "points, tris, coords = eval_pipe(S, (u,v), 64, 32)\n",
    "plot += k3d.mesh(points, tris, name=\"pipe\", attribute=list(texture(coords, (32, 16))))"
   ]
  },
  {
   "cell_type": "code",
   "execution_count": 10,
   "metadata": {},
   "outputs": [],
   "source": [
    "X, Y, Z = spine_frame(u, Qa)\n",
    "origins = eval_curve(Qa, u, 4)\n",
    "x_vectors = eval_curve(X, u, 4)\n",
    "y_vectors = eval_curve(Y, u, 4)\n",
    "z_vectors = eval_curve(Z, u, 4)\n",
    "origins = np.concatenate([origins, origins, origins])\n",
    "vectors = np.concatenate([x_vectors, y_vectors, z_vectors])\n",
    "colors = [0xff0000] * 8 + [0x00ff00] * 8 + [0x0000ff] * 8\n",
    "plot += k3d.vectors(origins, vectors, colors=colors, name='spine frame')   \n",
    "    "
   ]
  },
  {
   "cell_type": "code",
   "execution_count": 11,
   "metadata": {},
   "outputs": [],
   "source": [
    "U, V, N = pipe_frame((u,v), S)\n",
    "origins, _ = eval_pipe(S, (u,v), 3, 4)\n",
    "u_vectors, _ = eval_pipe(U, (u,v), 3, 4)\n",
    "v_vectors, _ = eval_pipe(V, (u,v), 3, 4)\n",
    "n_vectors, _ = eval_pipe(N, (u,v), 3, 4)\n",
    "origins = np.concatenate([origins, origins, origins])\n",
    "vectors = np.concatenate([u_vectors, v_vectors, n_vectors])\n",
    "colors = [0xff0000] * 32 + [0x00ff00] * 32 + [0x0000ff] * 32\n",
    "plot += k3d.vectors(origins, vectors, colors=colors, name='pipe frame')"
   ]
  },
  {
   "cell_type": "code",
   "execution_count": 12,
   "metadata": {},
   "outputs": [
    {
     "data": {
      "application/vnd.jupyter.widget-view+json": {
       "model_id": "9f4c10730ade4f398462e0b6341cb6bd",
       "version_major": 2,
       "version_minor": 0
      },
      "text/plain": [
       "Output()"
      ]
     },
     "metadata": {},
     "output_type": "display_data"
    }
   ],
   "source": []
  },
  {
   "cell_type": "markdown",
   "metadata": {},
   "source": [
    "# Reverse projection\n",
    "\n",
    "Projecting points from fabric surface to pipe.\n",
    "\n",
    "$P_{flat} \\to S \\to u_{proj}, v_{proj}, V_{displacement}$ \n",
    "\n",
    "\n",
    "### Projecting to Qa \n",
    "\n",
    "* make $Qa_{flat}$\n",
    "* find closest point from $P_{flat}$ to $Qa_{flat}$ → $u_{proj}$\n",
    "* find the distance from → $x_{dist}$\n",
    "\n",
    "See [curves.ipynb](curves.ipynb)\n",
    "\n",
    "## Projecting to Qc\n",
    "\n",
    "* solve $Qc(v)_x = x_{dist}$ (for $Qc(v)_z > 0$) → $v_{proj}$\n",
    "* final point = $P_{pipe} = S(u_{proj}, v_{proj})$ → $V_{displ}$ \n",
    "\n",
    "\n",
    "For circle/ellipse:\n",
    "\n",
    "$v_{proj} = 1 - \\frac{acos(x/r)}{2\\pi}$\n"
   ]
  },
  {
   "cell_type": "code",
   "execution_count": null,
   "metadata": {},
   "outputs": [],
   "source": []
  }
 ],
 "metadata": {
  "file_extension": ".py",
  "kernelspec": {
   "display_name": "Python 3",
   "language": "python",
   "name": "python3"
  },
  "language_info": {
   "codemirror_mode": {
    "name": "ipython",
    "version": 3
   },
   "file_extension": ".py",
   "mimetype": "text/x-python",
   "name": "python",
   "nbconvert_exporter": "python",
   "pygments_lexer": "ipython3",
   "version": "3.7.3"
  },
  "mimetype": "text/x-python",
  "name": "python",
  "npconvert_exporter": "python",
  "pygments_lexer": "ipython3",
  "version": 3
 },
 "nbformat": 4,
 "nbformat_minor": 4
}
