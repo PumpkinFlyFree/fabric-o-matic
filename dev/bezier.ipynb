{
 "cells": [
  {
   "cell_type": "markdown",
   "metadata": {},
   "source": [
    "# Curves' general math\n",
    "$q(t) = [x(t), y(t), z(t)]$ -- paramatrization\n",
    "\n",
    "$q(s) = [x(s), y(s), z(s)]$ -- natural parametrization\n",
    "\n",
    "$s'(t) = ds/dt = |q'(t)| = \\sqrt{q' \\cdot q'}$\n",
    "\n",
    "$s''(t) = ds'/dt = \\frac{q' \\cdot q''}{\\sqrt{q' \\cdot q'}}$\n",
    "\n",
    "$t'(s) = dt/ds = \\frac{1}{\\sqrt{q' \\cdot q'}}$\n",
    "\n",
    "$t''(s) = dt'/ds = \\frac{q' \\cdot q''}{(q' \\cdot q')^2}$\n",
    "\n",
    "Arc length: $s(t) = \\int_{t_0}^{t} |q'(t)| dt$ → fuckery\n",
    "\n",
    "Reparametrization: $q(s) = q(t(s))$, ← $t(s)$: inverse of $s(t)$\n",
    "\n",
    "$|q'(t)| = 1 => q(s) = q(t)$, hopefully\n",
    "\n",
    "Tangent: $ T = q'(s)$ -- velocity vector\n",
    "\n",
    "$T(t) = \\frac{q'}{\\sqrt{q' \\cdot q'}}$\n",
    "\n",
    "Normal: $\\kappa N = q''(s)$ -- curvature vector, towards center\n",
    "\n",
    "$\\kappa N(t) = \\frac{(q' \\cdot q') q'' - (q' \\cdot q'')q'}{(q' \\cdot q')^2}$\n",
    "\n",
    "Binormal: $B = T \\times N$"
   ]
  },
  {
   "cell_type": "markdown",
   "metadata": {},
   "source": [
    "## Frenet\n",
    "\n",
    "$\n",
    "\\begin{bmatrix}\n",
    "T\n",
    "'(s)\\\\\n",
    "N'(s)\\\\\n",
    "B'(s)\n",
    "\\end{bmatrix}\n",
    "=\n",
    "\\begin{bmatrix}\n",
    "0 & \\kappa & 0 \\\\\n",
    "-\\kappa & 0 & \\tau \\\\\n",
    "0 & -\\tau & 0\n",
    "\\end{bmatrix}\n",
    "\\begin{bmatrix}\n",
    "T\\\\\n",
    "N\\\\\n",
    "B\n",
    "\\end{bmatrix}\n",
    "$ \n",
    "\n"
   ]
  },
  {
   "cell_type": "markdown",
   "metadata": {},
   "source": [
    "# Bezier math\n",
    "\n",
    "$Q(u) = \\sum_{i=0}^{n} P_i B_{i, n} (u)$\n",
    "\n",
    "Berstein polynomials: $B_{i, n}(u) = \\binom{n}{i} u^i(1-u)^{n-i}$\n",
    "\n",
    "## Cubic\n",
    "\n",
    "n=3\n",
    "\n",
    "$Q(u) = (1-u)^3 P_0 + 3 u(1-u)^2 P_1 + 3 u^2(1-u) P_2 + u^3 P_3$\n",
    "\n",
    "$Q(u) = \\begin{bmatrix}u^3 & u^2 & u & 1\\end{bmatrix} \\begin{bmatrix} -1 & 3 & -3 & 1 \\\\ 3 & -6 & 3 & 0 \\\\ -3 & 3 & 0 & 0 \\\\ 1 & 0 & 0 & 0 \\end{bmatrix} \\begin{bmatrix}P_0 \\\\ P_1 \\\\ P_2 \\\\ P_3 \\end{bmatrix}$\n",
    "\n",
    "## Quadratic\n",
    "\n",
    "n=2\n",
    "\n",
    "$Q(u) = (1-u)^2 P_0 + 2 u(u-1) P_1 + (1-u)^2 P_2$\n",
    "\n",
    "$Q(u) = \\begin{bmatrix}u^2 & u & 1\\end{bmatrix} \\begin{bmatrix} 1 & -2 & 1 \\\\ -2 & 2 & 0 \\\\ 1 & 0 & 0 \\end{bmatrix} \\begin{bmatrix}P_0 \\\\ P_1 \\\\ P_2 \\end{bmatrix}$\n",
    "\n",
    "\n"
   ]
  },
  {
   "cell_type": "code",
   "execution_count": 1,
   "metadata": {},
   "outputs": [],
   "source": [
    "%matplotlib widget\n",
    "\n",
    "from itertools import chain\n",
    "import numpy as np\n",
    "import matplotlib as mpl\n",
    "import matplotlib.pyplot as plt\n",
    "from mpl_toolkits.mplot3d import Axes3D\n",
    "import sympy as sym\n",
    "\n",
    "def symvecs(namestr):\n",
    "    return [sym.Matrix(sym.symbols(f\"{name}_x {name}_y {name}_z\")) for name in namestr.split(' ')]\n",
    "\n",
    "def subsvecs(expr, points, coords):\n",
    "    return expr.subs(list(chain(*[tuple(zip(sub[0], sub[1])) for sub in zip(points, coords)])))"
   ]
  },
  {
   "cell_type": "markdown",
   "metadata": {},
   "source": [
    "# Equations"
   ]
  },
  {
   "cell_type": "code",
   "execution_count": 1,
   "metadata": {},
   "outputs": [
    {
     "ename": "NameError",
     "evalue": "name 'symvecs' is not defined",
     "output_type": "error",
     "traceback": [
      "\u001b[0;31m---------------------------------------------------------------------------\u001b[0m",
      "\u001b[0;31mNameError\u001b[0m                                 Traceback (most recent call last)",
      "\u001b[0;32m<ipython-input-1-43e4609d98c6>\u001b[0m in \u001b[0;36m<module>\u001b[0;34m\u001b[0m\n\u001b[0;32m----> 1\u001b[0;31m \u001b[0mp\u001b[0m \u001b[0;34m=\u001b[0m \u001b[0msymvecs\u001b[0m\u001b[0;34m(\u001b[0m\u001b[0;34m'p'\u001b[0m\u001b[0;34m)\u001b[0m\u001b[0;34m\u001b[0m\u001b[0;34m\u001b[0m\u001b[0m\n\u001b[0m\u001b[1;32m      2\u001b[0m \u001b[0mt\u001b[0m\u001b[0;34m,\u001b[0m \u001b[0mu\u001b[0m \u001b[0;34m=\u001b[0m \u001b[0msym\u001b[0m\u001b[0;34m.\u001b[0m\u001b[0msymbols\u001b[0m\u001b[0;34m(\u001b[0m\u001b[0;34m't u'\u001b[0m\u001b[0;34m)\u001b[0m\u001b[0;34m\u001b[0m\u001b[0;34m\u001b[0m\u001b[0m\n",
      "\u001b[0;31mNameError\u001b[0m: name 'symvecs' is not defined"
     ]
    }
   ],
   "source": [
    "p = symvecs('p')\n",
    "t, u = sym.symbols('t u')"
   ]
  },
  {
   "cell_type": "code",
   "execution_count": null,
   "metadata": {},
   "outputs": [],
   "source": []
  },
  {
   "cell_type": "code",
   "execution_count": 3,
   "metadata": {},
   "outputs": [],
   "source": [
    "p30, p31, p32, p33 = symvecs(\"p_30 p_31 p_32 p_33\")\n",
    "Q3 = (1-t)**3 * p30 + 3 * t * (1-t)**2 * p31 + 3 * t**2 * (1-t) * p32 + t**3 * p33\n",
    "T3 = sym.diff(Q3, t)\n",
    "N3 = sym.diff(T3, t)\n",
    "def make_b3(coords):\n",
    "    Q = subsvecs(Q3, [p30, p31, p32, p33], coords)\n",
    "    T = subsvecs(T3, [p30, p31, p32, p33], coords)\n",
    "    N = subsvecs(N3, [p30, p31, p32, p33], coords)\n",
    "    return Q, T, N"
   ]
  },
  {
   "cell_type": "code",
   "execution_count": 4,
   "metadata": {},
   "outputs": [],
   "source": [
    "p20, p21, p22 = symvecs(\"p_20 p_21 p_22\")\n",
    "Q2 = (1-t)**2 * p20 + 2 * t * (1-t) * p21 + t**2 * p22\n",
    "T2 = sym.diff(Q2, t)\n",
    "N2 = sym.diff(T2, t)\n",
    "def make_b2(coords):\n",
    "    Q = subsvecs(Q2, [p20, p21, p22], coords)\n",
    "    T = subsvecs(T2, [p20, p21, p22], coords)\n",
    "    N = subsvecs(N2, [p20, p21, p22], coords)\n",
    "    return Q, T, N"
   ]
  },
  {
   "cell_type": "markdown",
   "metadata": {},
   "source": [
    "# Plotting"
   ]
  },
  {
   "cell_type": "code",
   "execution_count": 5,
   "metadata": {},
   "outputs": [
    {
     "data": {
      "application/vnd.jupyter.widget-view+json": {
       "model_id": "dc19ae288d574ab994f8f2f5ec6b98c2",
       "version_major": 2,
       "version_minor": 0
      },
      "text/plain": [
       "Canvas(toolbar=Toolbar(toolitems=[('Home', 'Reset original view', 'home', 'home'), ('Back', 'Back to previous …"
      ]
     },
     "metadata": {},
     "output_type": "display_data"
    }
   ],
   "source": [
    "fig = plt.figure()\n",
    "ax3d = Axes3D(fig)\n",
    "ax3d.set_xlim(0, 1)\n",
    "ax3d.set_ylim(0, 1)\n",
    "ax3d.set_zlim(0, 1)\n",
    "\n",
    "def plot_curve(q_t, step=.05, fmt='b-', **kwargs):\n",
    "    tt = np.arange(0, 1+step, step)\n",
    "    xx = sym.lambdify(t, q_t[0], 'numpy')(tt)\n",
    "    yy = sym.lambdify(t, q_t[1], 'numpy')(tt)\n",
    "    zz = sym.lambdify(t, q_t[2], 'numpy')(tt)\n",
    "    ax3d.plot(xx, yy, zz, fmt, **kwargs)\n",
    "\n",
    "def plot_points(points, fmt='ro', **kwargs):\n",
    "    xx = [p[0] for p in points]\n",
    "    yy = [p[1] for p in points]\n",
    "    zz = [p[2] for p in points]    \n",
    "    ax3d.plot(xx, yy, zz, fmt, **kwargs)\n",
    "    \n",
    "def plot_tang(point, tang, fmt='c-', **kwargs):\n",
    "    p_0 = point - .05 * tang\n",
    "    p_1 = point + .05 * tang\n",
    "    ax3d.plot([p_0[0], p_1[0]], [p_0[1], p_1[1]], [p_0[2], p_1[2]], fmt, **kwargs)\n",
    "\n",
    "def plot_norm(point, norm, fmt='c-', **kwargs):\n",
    "    p_0 = point\n",
    "    p_1 = point + .05 * norm\n",
    "    ax3d.plot([p_0[0], p_1[0]], [p_0[1], p_1[1]], [p_0[2], p_1[2]], fmt, **kwargs)"
   ]
  },
  {
   "cell_type": "markdown",
   "metadata": {},
   "source": [
    "# Curves"
   ]
  },
  {
   "cell_type": "code",
   "execution_count": 6,
   "metadata": {},
   "outputs": [],
   "source": [
    "coords0 = ((0, 0, 0), (0.5, 0, 1), (0.5, 1, 1), (1, 1, 0))   # purl leg\n",
    "# coords0 = ((1, 0, 0), (0.5, 0, 1), (0.5, 1, 1), (1, 1, 0))   # flat loop\n",
    "# coords0 = ((0, 0, 0), (1, 1, 2), (1, 1, -1), (0, 0, 1))     # cross loop\n",
    "Q_0, T_0, N_0 = make_b3(coords0)"
   ]
  },
  {
   "cell_type": "code",
   "execution_count": 7,
   "metadata": {},
   "outputs": [],
   "source": [
    "ax3d.cla()"
   ]
  },
  {
   "cell_type": "code",
   "execution_count": 8,
   "metadata": {},
   "outputs": [],
   "source": [
    "plot_points(coords0, 'g-', dashes=(1,1))\n",
    "plot_curve(Q_0, .1, 'b-')\n",
    "plot_curve(Q_0, .05, 'bo')"
   ]
  },
  {
   "cell_type": "code",
   "execution_count": 143,
   "metadata": {},
   "outputs": [],
   "source": [
    "for tt in np.arange(0, 1.01, .25):\n",
    "    point = Q_0.subs(t, tt)\n",
    "    tang = T_0.subs(t, tt)\n",
    "    norm = N_0.subs(t, tt)\n",
    "    plot_tang(point, tang)\n",
    "    plot_norm(point, norm)"
   ]
  },
  {
   "cell_type": "markdown",
   "metadata": {},
   "source": [
    "### Bezier3 -> Bezier2\n",
    "\n",
    "Breaking b3 in 2 halves, fitting b2 for each half by middle point\n",
    "\n",
    "Fitting points: $p_0, p_h, p_1 = \\{b3(0), b3(0.25), b3(0.5)\\}, \\{b3(0.5), b3(0.75), b3(1.0)\\}$\n",
    "\n",
    "Solution: $ P_1 = -0.5 p_0 - 0.5 p_1 + 2 p_h $"
   ]
  },
  {
   "cell_type": "code",
   "execution_count": 187,
   "metadata": {},
   "outputs": [],
   "source": [
    "# solvable symbolically\n",
    "p0, ph, p1 = symvecs('p_0 p_h p_1')\n",
    "def fit_b2(p0, ph, p1):\n",
    "    qh = subsvecs(Q2, [p20, p22], [p0, p1]) # place endpoints\n",
    "    qh = qh.subs(t, 0.5)  # take middle \n",
    "    err = qh - ph\n",
    "    err_sq = err.dot(err)\n",
    "    p21_solution = list(sym.linsolve([\n",
    "        sym.diff(err_sq, p21[0]),\n",
    "        sym.diff(err_sq, p21[1]),\n",
    "        sym.diff(err_sq, p21[2])\n",
    "    ], p21[:]))[0]\n",
    "    return p21_solution"
   ]
  },
  {
   "cell_type": "code",
   "execution_count": 188,
   "metadata": {},
   "outputs": [],
   "source": [
    "fitting = fit_b2(p0, ph, p1)"
   ]
  },
  {
   "cell_type": "code",
   "execution_count": 189,
   "metadata": {},
   "outputs": [],
   "source": [
    "pm = Q_0.subs(t, 0.5)\n",
    "q1p20 = coords0[0]\n",
    "q1p21 = Q_0.subs(t, 0.25)\n",
    "q1p22 = pm\n",
    "q1p21 = subsvecs(fitting, (p0, ph, p1), (q1p20, q1p21, q1p22))\n",
    "Q_1, *_ = make_b2((q1p20, q1p21, q1p22))\n",
    "q2p20 = pm\n",
    "q2p21 = Q_0.subs(t, 0.75)\n",
    "q2p22 = coords0[3]\n",
    "q2p21 = subsvecs(fitting, (p0, ph, p1), (q2p20, q2p21, q2p22))\n",
    "Q_2, *_ = make_b2((q2p20, q2p21, q2p22))"
   ]
  },
  {
   "cell_type": "code",
   "execution_count": 190,
   "metadata": {},
   "outputs": [],
   "source": [
    "plot_curve(Q_1, .1, 'r-')\n",
    "plot_curve(Q_2, .1, 'r-')"
   ]
  },
  {
   "cell_type": "code",
   "execution_count": 113,
   "metadata": {},
   "outputs": [],
   "source": [
    "plot_curve(Q_1, .1, 'ro')\n",
    "plot_curve(Q_2, .1, 'ro')"
   ]
  },
  {
   "cell_type": "code",
   "execution_count": null,
   "metadata": {},
   "outputs": [],
   "source": []
  }
 ],
 "metadata": {
  "file_extension": ".py",
  "kernelspec": {
   "display_name": "Python 3.7.3 64-bit",
   "language": "python",
   "name": "python37364bitd395a36d795e4cc58f03d8a6f524a3c3"
  },
  "language_info": {
   "codemirror_mode": {
    "name": "ipython",
    "version": 3
   },
   "file_extension": ".py",
   "mimetype": "text/x-python",
   "name": "python",
   "nbconvert_exporter": "python",
   "pygments_lexer": "ipython3",
   "version": "3.7.3"
  },
  "mimetype": "text/x-python",
  "name": "python",
  "npconvert_exporter": "python",
  "pygments_lexer": "ipython3",
  "version": 3
 },
 "nbformat": 4,
 "nbformat_minor": 4
}
