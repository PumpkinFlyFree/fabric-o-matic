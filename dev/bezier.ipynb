{
 "cells": [
  {
   "cell_type": "markdown",
   "metadata": {},
   "source": [
    "# Bezier math\n",
    "\n",
    "$Q(t) = \\sum_{i=0}^{n} P_i B_{i, n} (t)$\n",
    "\n",
    "Berstein polynomials: $B_{i, n}(t) = \\binom{n}{i} t^i(1-t)^{n-i}$\n",
    "\n",
    "## Cubic\n",
    "\n",
    "n=3\n",
    "\n",
    "$Q(t) = (1-t)^3 P_0 + 3 t(1-t)^2 P_1 + 3 t^2(1-t) P_2 + t^3 P_3$\n",
    "\n",
    "$Q(t) = \\begin{bmatrix}t^3 & t^2 & t & 1\\end{bmatrix} \\begin{bmatrix} -1 & 3 & -3 & 1 \\\\ 3 & -6 & 3 & 0 \\\\ -3 & 3 & 0 & 0 \\\\ 1 & 0 & 0 & 0 \\end{bmatrix} \\begin{bmatrix}P_0 \\\\ P_1 \\\\ P_2 \\\\ P_3 \\end{bmatrix}$\n",
    "\n",
    "## Quadratic\n",
    "\n",
    "n=2\n",
    "\n",
    "$Q(t) = (1-t)^2 P_0 + 2 t(1-t) P_1 + (1-t)^2 P_2$\n",
    "\n",
    "$Q(t) = \\begin{bmatrix}t^2 & t & 1\\end{bmatrix} \\begin{bmatrix} 1 & -2 & 1 \\\\ -2 & 2 & 0 \\\\ 1 & 0 & 0 \\end{bmatrix} \\begin{bmatrix}P_0 \\\\ P_1 \\\\ P_2 \\end{bmatrix}$\n",
    "\n",
    "\n"
   ]
  },
  {
   "cell_type": "code",
   "execution_count": 1,
   "metadata": {},
   "outputs": [],
   "source": [
    "%matplotlib widget\n",
    "\n",
    "import numpy as np\n",
    "import sympy as sp\n",
    "import matplotlib.pyplot as plt\n",
    "\n",
    "from myutils import eval, vec, curv, Plt"
   ]
  },
  {
   "cell_type": "code",
   "execution_count": 2,
   "metadata": {},
   "outputs": [],
   "source": [
    "t, s, r, a, b, c, d = sp.symbols(\"t, s, r, a, b, c, d\")\n",
    "P, P0, P1, P2, P3 = vec.symbols('P P_0 P_1 P_2 P_3')"
   ]
  },
  {
   "cell_type": "markdown",
   "metadata": {},
   "source": [
    "# Equations"
   ]
  },
  {
   "cell_type": "code",
   "execution_count": 3,
   "metadata": {},
   "outputs": [],
   "source": [
    "Bezier1 = lambda t, p0, p1: (1-t) * p0 + t * p1\n",
    "Bezier2 = lambda t, p0, p1, p2: (1-t)**2 * p0 + 2 * t * (1-t) * p1 + t**2 * p2\n",
    "Bezier3 = lambda t, p0, p1, p2, p3: (1-t)**3 * p0 + 3 * t * (1-t)**2 * p1 + 3 * t**2 * (1-t) * p2 + t**3 * p3"
   ]
  },
  {
   "cell_type": "markdown",
   "metadata": {},
   "source": [
    "# Curves"
   ]
  },
  {
   "cell_type": "code",
   "execution_count": 13,
   "metadata": {},
   "outputs": [
    {
     "data": {
      "application/vnd.jupyter.widget-view+json": {
       "model_id": "daa4b83786874f6386c87414e804cd0d",
       "version_major": 2,
       "version_minor": 0
      },
      "text/plain": [
       "Canvas(toolbar=Toolbar(toolitems=[('Home', 'Reset original view', 'home', 'home'), ('Back', 'Back to previous …"
      ]
     },
     "metadata": {},
     "output_type": "display_data"
    }
   ],
   "source": [
    "plot = Plt(plt.figure(figsize=(6, 6)))"
   ]
  },
  {
   "cell_type": "code",
   "execution_count": 26,
   "metadata": {},
   "outputs": [],
   "source": [
    "plot.clr()"
   ]
  },
  {
   "cell_type": "code",
   "execution_count": 27,
   "metadata": {},
   "outputs": [],
   "source": [
    "# points = (vec.vector(0, 0, 0), vec.vector(0, 1.0, 1), vec.vector(1, 1, 0))\n",
    "# Q = Bezier2(t, *points) \n",
    "\n",
    "points = (vec.vector(0, 0, 0), vec.vector(0.5, 0, 1), vec.vector(0.5, 1, 1), vec.vector(1, 1, 0))\n",
    "Q = Bezier3(t, *points) "
   ]
  },
  {
   "cell_type": "code",
   "execution_count": 28,
   "metadata": {},
   "outputs": [],
   "source": [
    "plot.points(points, 'k-', dashes=(1,1))\n",
    "plot.curve(Q, 'c-', samples=10)"
   ]
  },
  {
   "cell_type": "code",
   "execution_count": 29,
   "metadata": {},
   "outputs": [],
   "source": [
    "T, N, B = curv.frame(Q, t)\n",
    "tt = np.linspace(0, 1, 8)\n",
    "pnts = eval(Q, t=tt)\n",
    "plot.vectors(pnts, eval(T, t=tt) * 0.1, color='r')\n",
    "plot.vectors(pnts, eval(N, t=tt) * 0.1, color='g')\n",
    "plot.vectors(pnts, eval(B, t=tt) * 0.1, color='b')"
   ]
  },
  {
   "cell_type": "markdown",
   "metadata": {},
   "source": [
    "# Bezier3 -> Bezier2\n",
    "\n",
    "Breaking b3 in 2 halves, fitting b2 to each half by its middle point: $\\{p_0, p_m, p_2\\} = \\{b3(0), b3(0.25), b3(0.5)\\}, \\{b3(0.5), b3(0.75), b3(1.0)\\}$\n",
    "\n",
    "Closed form solution: $P_1 = 2 p_m - 0.5 p_0 - 0.5 p_2$"
   ]
  },
  {
   "cell_type": "code",
   "execution_count": 4,
   "metadata": {},
   "outputs": [
    {
     "data": {
      "application/vnd.jupyter.widget-view+json": {
       "model_id": "d566013107b74b848278aa3dedf5f54d",
       "version_major": 2,
       "version_minor": 0
      },
      "text/plain": [
       "Canvas(toolbar=Toolbar(toolitems=[('Home', 'Reset original view', 'home', 'home'), ('Back', 'Back to previous …"
      ]
     },
     "metadata": {},
     "output_type": "display_data"
    }
   ],
   "source": [
    "plot2 = Plt(plt.figure(figsize=(6, 6)))"
   ]
  },
  {
   "cell_type": "code",
   "execution_count": 5,
   "metadata": {},
   "outputs": [],
   "source": [
    "points = (vec.vector(0, 0, 0), vec.vector(0.5, 0, 1), vec.vector(0.5, 1, 1), vec.vector(1, 1, 0))\n",
    "Q0 = Bezier3(t, *points) "
   ]
  },
  {
   "cell_type": "code",
   "execution_count": 6,
   "metadata": {},
   "outputs": [],
   "source": [
    "def fit_b2_p1(q, pm):\n",
    "    qm = q.subs({'t': 0.5}) # take middle point\n",
    "    err = qm - pm\n",
    "    err_sq = err.dot(err) # squared distance\n",
    "    coords = ('P_1_x', 'P_1_y', 'P_1_z')  # coords to find\n",
    "    err_sq_dp = [sp.diff(err_sq, coord) for coord in coords]\n",
    "    solution = sp.linsolve(err_sq_dp, coords)\n",
    "    return sp.Matrix(list(solution)[0] )"
   ]
  },
  {
   "cell_type": "code",
   "execution_count": 7,
   "metadata": {},
   "outputs": [
    {
     "data": {
      "text/latex": [
       "$\\displaystyle \\left[\\begin{matrix}- 0.5 P_{0 x} - 0.5 P_{2 x} + 2.0 P_{x}\\\\- 0.5 P_{0 y} - 0.5 P_{2 y} + 2.0 P_{y}\\\\- 0.5 P_{0 z} - 0.5 P_{2 z} + 2.0 P_{z}\\end{matrix}\\right]$"
      ],
      "text/plain": [
       "Matrix([\n",
       "[-0.5*P_0_x - 0.5*P_2_x + 2.0*P_x],\n",
       "[-0.5*P_0_y - 0.5*P_2_y + 2.0*P_y],\n",
       "[-0.5*P_0_z - 0.5*P_2_z + 2.0*P_z]])"
      ]
     },
     "execution_count": 7,
     "metadata": {},
     "output_type": "execute_result"
    }
   ],
   "source": [
    "fit_b2_p1(Bezier2(t, P0, P1, P2), P)"
   ]
  },
  {
   "cell_type": "code",
   "execution_count": 8,
   "metadata": {},
   "outputs": [],
   "source": [
    "pm0 = Q0.subs(t, 0.5)\n",
    "pm1 = Q0.subs(t, 0.25)\n",
    "pm2 = Q0.subs(t, 0.75)\n",
    "\n",
    "Q1 = Bezier2(t, points[0], P1, pm0)\n",
    "Q1 = vec.subs(Q1, {'P_1': fit_b2_p1(Q1, pm1)})\n",
    "Q2 = Bezier2(t, pm0, P1, points[3])\n",
    "Q2 = vec.subs(Q2, {'P_1': fit_b2_p1(Q2, pm2)})"
   ]
  },
  {
   "cell_type": "code",
   "execution_count": 9,
   "metadata": {},
   "outputs": [],
   "source": [
    "plot2.curve(Q0, 'b-')\n",
    "plot2.curve(Q1, 'r-')\n",
    "plot2.curve(Q2, 'r-')\n",
    "plot2.curve(Q1, 'ro', samples=6)\n",
    "plot2.curve(Q2, 'ro', samples=6)"
   ]
  },
  {
   "cell_type": "markdown",
   "metadata": {},
   "source": [
    "# B2 arclength approximation\n",
    "\n",
    "Idea: $L_{line} < L_{arc} < L_{perimeter}$\n",
    "\n",
    "$L_{arc} \\approx \\frac{2}{3}L_{line} + \\frac{1}{3}L_{perimeter}$ \n",
    "\n",
    "[Raph Levien]\n",
    "\n"
   ]
  },
  {
   "cell_type": "markdown",
   "metadata": {},
   "source": [
    "$p_t = q(t), p_1'(t) = (1-t) p_0 + t p_1$\n",
    "\n",
    "$L_{line} = |p_t - p_0|, L_{perimeter} = |p_0 - p_1'| + |p_1' - p_t|$\n",
    "\n",
    "\n",
    "$L_{arc} = \\frac{2 |p_t - p_0| + |p_0 - p_1'| + |p_1' - p_t|}{3}$"
   ]
  },
  {
   "cell_type": "code",
   "execution_count": null,
   "metadata": {},
   "outputs": [],
   "source": []
  }
 ],
 "metadata": {
  "file_extension": ".py",
  "kernelspec": {
   "display_name": "Python 3.7.3 64-bit",
   "language": "python",
   "name": "python37364bitd395a36d795e4cc58f03d8a6f524a3c3"
  },
  "language_info": {
   "codemirror_mode": {
    "name": "ipython",
    "version": 3
   },
   "file_extension": ".py",
   "mimetype": "text/x-python",
   "name": "python",
   "nbconvert_exporter": "python",
   "pygments_lexer": "ipython3",
   "version": "3.7.3"
  },
  "mimetype": "text/x-python",
  "name": "python",
  "npconvert_exporter": "python",
  "pygments_lexer": "ipython3",
  "version": 3
 },
 "nbformat": 4,
 "nbformat_minor": 4
}
