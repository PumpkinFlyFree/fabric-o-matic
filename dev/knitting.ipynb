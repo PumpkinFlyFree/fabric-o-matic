{
 "cells": [
  {
   "cell_type": "markdown",
   "metadata": {},
   "source": [
    "# Knitting\n",
    "\n",
    "Two types of stitches:\n",
    "* knit stich (legs faced)\n",
    "* purl stich (head faced)\n",
    "\n",
    "Each cell contains 2 dependant knots: to legs of northener stich, head of southerner stich.\n",
    "\n",
    "Any neighbour combinations are possible.\n"
   ]
  },
  {
   "cell_type": "code",
   "execution_count": 1,
   "metadata": {},
   "outputs": [],
   "source": [
    "from random import random\n",
    "import numpy as np\n",
    "import sympy as sp\n",
    "from ipywidgets import widgets\n",
    "import k3d\n",
    "\n",
    "from myutils import *\n",
    "from mycurves import *\n",
    "\n",
    "t, s, u, v, r, a, b, c, d = sp.symbols(\"t, s, u, v, r, a, b, c, d\")\n",
    "P, P0, P1, P2, P3 = vec.symbols('P P0 P1 P2 P3')"
   ]
  },
  {
   "cell_type": "code",
   "execution_count": 2,
   "metadata": {},
   "outputs": [],
   "source": [
    "from matplotlib.cm import get_cmap\n",
    "palette = hexpalette(get_cmap('tab10'))"
   ]
  },
  {
   "cell_type": "markdown",
   "metadata": {},
   "source": [
    "# Energy model\n",
    "\n",
    "Energy model by [Choi and Lo, 2003]\n",
    "\n",
    "* $t \\in [0,1]$ for half loop, $t = 0.5$ in the middle of leg\n",
    "* $w$ — loop width\n",
    "* $c + 2e$ — total loop height with overlapping\n",
    "* $c$ — distance between knots \n",
    "* $t_h$ — fabric thickness\n",
    "* $d$ — yarn diameter\n",
    "* $a$ — fuckery\n",
    "\n",
    "$x(t) = a t^3 - 1.5 a t^2 + 0.5 (a + w) t$\n",
    "\n",
    "$y(t) = 0.5(c + 2 e)(1 - cos (\\pi t))$\n",
    "\n",
    "$z(t) = 0.5(t_h - d)(1 - cos (2\\pi t))$\n",
    "\n",
    "* $\\chi d$ — horizontal loop separation (distance in knot), $1 ≤ \\chi ≤ \\frac{w}{2d} - 1$\n",
    "* $t = \\beta_1, \\beta_2 $ — righmost and leftmost points of knot $x(\\beta_1)  - x(\\beta_2) = \\chi d$\n",
    "* $t = \\beta_3, \\beta_4 $ — first intersection point $x(\\beta_4) = x(\\beta_3), y(\\beta_4) - y(\\beta_3) = c$\n",
    "\n",
    "$\\beta_{1,2} = \\frac{1}{2}\\left(1 ± \\sqrt{\\frac{a - 2w}{3a}}\\right)$\n",
    "\n",
    "$e = \\frac{c}{2}\\left(\\frac{1}{cos \\pi \\beta_1} - 1\\right)$\n",
    "\n",
    "$t_h = d \\left( \\frac{2}{cos 2 \\pi \\beta_3 - cos 2 \\pi \\beta_4} + 1\\right)$"
   ]
  },
  {
   "cell_type": "code",
   "execution_count": 3,
   "metadata": {},
   "outputs": [],
   "source": [
    "Ka, Kw, Kc, Ke, Kz = sp.symbols(\"Ka, Kw, Kc, Ke, Kz\")\n",
    "Q = vector(\n",
    "    Ka * t**3 - 1.5 * Ka * t**2 + 0.5*(Ka + Kw)*t,\n",
    "    0.5 * (Kc + Ke) * (1 - sp.cos(sp.pi * t)),       # -e to make course width constant\n",
    "    0.5 * Kz * (1 - sp.cos(2 * sp.pi * t)),\n",
    ")"
   ]
  },
  {
   "cell_type": "code",
   "execution_count": 4,
   "metadata": {},
   "outputs": [
    {
     "data": {
      "application/vnd.jupyter.widget-view+json": {
       "model_id": "6384c32481c8441383db25b390972e01",
       "version_major": 2,
       "version_minor": 0
      },
      "text/plain": [
       "GridBox(children=(VBox(children=(FloatSlider(value=0.5, description='Ka', max=10.0), FloatSlider(value=1.0, de…"
      ]
     },
     "metadata": {},
     "output_type": "display_data"
    }
   ],
   "source": [
    "controls = {\n",
    "    'Ka': widgets.FloatSlider(description=\"Ka\", value=0.5, min=0, max=10.0),\n",
    "    'Kw': widgets.FloatSlider(description=\"Kw\", value=1.0, min=0, max=2.0),\n",
    "    'Kc': widgets.FloatSlider(description=\"Kc\", value=1.0, min=0, max=2.0),    \n",
    "    'Ke': widgets.FloatSlider(description=\"Ke\", value=0.5, min=0, max=2.0),\n",
    "    'Kz': widgets.FloatSlider(description=\"Kz\", value=0.25, min=0, max=2.0)\n",
    "}\n",
    "plot = k3d.plot()\n",
    "widgets.GridBox([\n",
    "    widgets.VBox(list(controls.values())),\n",
    "    plot], \n",
    "    layout=widgets.Layout(grid_template_columns=\"auto auto\"))"
   ]
  },
  {
   "cell_type": "code",
   "execution_count": 5,
   "metadata": {},
   "outputs": [],
   "source": [
    "curve1 = k3d.line(vertices=[], color=palette[1])\n",
    "plot += curve1\n",
    "curve2 = k3d.line(vertices=[], color=palette[2])\n",
    "plot += curve2"
   ]
  },
  {
   "cell_type": "code",
   "execution_count": 6,
   "metadata": {},
   "outputs": [],
   "source": [
    "def redraw(*args):\n",
    "    params = {k: w.value for k, w in controls.items()}\n",
    "    Q_ = Q.subs(params)    \n",
    "    points = eval_curve(Q_, t, 36)    \n",
    "    points1 = np.concatenate([points, np.flip(points,0) * np.array(vector(-1, 1, 1))])\n",
    "    points2 = points1 + np.array(vector(0, params['Kc'], 0))\n",
    "    curve1.vertices = points1.astype(np.float32)\n",
    "    curve2.vertices = points2.astype(np.float32)"
   ]
  },
  {
   "cell_type": "code",
   "execution_count": 7,
   "metadata": {},
   "outputs": [],
   "source": [
    "redraw()"
   ]
  },
  {
   "cell_type": "code",
   "execution_count": 8,
   "metadata": {},
   "outputs": [],
   "source": [
    "for w in controls.values():\n",
    "    w.observe(redraw, 'value')"
   ]
  },
  {
   "cell_type": "markdown",
   "metadata": {},
   "source": [
    "# Spline model\n",
    "\n",
    "Quadratic uniform spline."
   ]
  },
  {
   "cell_type": "code",
   "execution_count": 3,
   "metadata": {},
   "outputs": [],
   "source": [
    "Ka, Kw, Kc, Ke, Kz = sp.symbols(\"Ka, Kw, Kc, Ke, Kz\")\n",
    "cpoints = [\n",
    "    vector(-1.0-Ka,-Kc,-Kz),\n",
    "    vector(-1.0+Ka,-Kc,-Kz),\n",
    "    vector(-1.0+Kw,-Ke,+Kz),\n",
    "    vector( 0.0-Kw, Ke,+Kz),\n",
    "    vector( 0.0-Ka, Kc,-Kz),\n",
    "    vector( 0.0+Ka, Kc,-Kz),\n",
    "]\n",
    "splines = [Spline(u, B2, cpoints[ids]) for ids in iter_slices(3, len(cpoints))]"
   ]
  },
  {
   "cell_type": "code",
   "execution_count": 20,
   "metadata": {},
   "outputs": [
    {
     "data": {
      "application/vnd.jupyter.widget-view+json": {
       "model_id": "31a64e10b7ae478ba2654d8799bccdb0",
       "version_major": 2,
       "version_minor": 0
      },
      "text/plain": [
       "GridBox(children=(VBox(children=(FloatSlider(value=0.3333333333333333, continuous_update=False, description='K…"
      ]
     },
     "metadata": {},
     "output_type": "display_data"
    }
   ],
   "source": [
    "controls = {\n",
    "    'Ka': widgets.FloatSlider(description=\"Ka\", value=1/3, min=0, max=1.0, continuous_update=False),\n",
    "    'Kw': widgets.FloatSlider(description=\"Kw\", value=2/3, min=0, max=1.0, continuous_update=False),\n",
    "    'Kc': widgets.FloatSlider(description=\"Kc\", value=0.75, min=0, max=1.0, continuous_update=False),    \n",
    "    'Ke': widgets.FloatSlider(description=\"Ke\", value=0.25, min=0, max=1.0, continuous_update=False),\n",
    "    'Kz': widgets.FloatSlider(description=\"Kz\", value=0.25, min=0, max=1.0, continuous_update=False)\n",
    "}\n",
    "plot = k3d.plot()\n",
    "widgets.GridBox([widgets.VBox(list(controls.values())), plot], layout=widgets.Layout(grid_template_columns=\"auto auto\"))"
   ]
  },
  {
   "cell_type": "code",
   "execution_count": 21,
   "metadata": {},
   "outputs": [],
   "source": [
    "plot += k3d.points(positions=[], color=palette[0], point_size=0.05)\n",
    "plot += k3d.line(vertices=[], color=palette[1])\n",
    "plot += k3d.line(vertices=[], color=palette[2])"
   ]
  },
  {
   "cell_type": "code",
   "execution_count": 22,
   "metadata": {},
   "outputs": [],
   "source": [
    "def redraw(*args):\n",
    "    params = {k: w.value for k, w in controls.items()}\n",
    "    points0 = np.array([p.subs(params) for p in cpoints])\n",
    "    points = np.concatenate([eval_curve(spl.subs(params), u) for spl in splines])\n",
    "    points1 = np.concatenate([points, np.flip(points,0) * np.array(vector(-1, 1, 1))])\n",
    "    points2 = points1 + np.array(vector(0, 1.0, 0))    \n",
    "    plot.objects[0].positions = points0.astype(np.float32)\n",
    "    plot.objects[1].vertices = points1.astype(np.float32)\n",
    "    plot.objects[2].vertices = points2.astype(np.float32)\n",
    "    \n",
    "    "
   ]
  },
  {
   "cell_type": "code",
   "execution_count": 23,
   "metadata": {},
   "outputs": [],
   "source": [
    "redraw()"
   ]
  },
  {
   "cell_type": "code",
   "execution_count": 24,
   "metadata": {},
   "outputs": [],
   "source": [
    "for w in controls.values():\n",
    "    w.observe(redraw, 'value')"
   ]
  },
  {
   "cell_type": "markdown",
   "metadata": {},
   "source": [
    "# Topology - hexagonal\n",
    "\n",
    "From [\"3D Modeling of Plain Weft Knitted Structures of Compressible Yarn\", Kyosev et al, 2010] \n",
    "\n",
    "* $A^{NW}, A^{NE}$ — intersection points near the tip of a loop head\n",
    "* $A^{SW}, A^{SE}$ — intersection points at sides of a loop head\n",
    "\n",
    "Symmetrical variations $z+$ and $z-$ for above/below yarn.\n",
    "\n",
    "* Knit stitch:\n",
    "  * $A^{NW}_z = A^{NE}_z = -r$\n",
    "  * $A^{SW}_z = A^{SE}_z = +r$\n",
    "* Purl stitch:\n",
    "  * $A^{NW}_z = A^{NE}_z = +r$\n",
    "  * $A^{SW}_z = A^{SE}_z = -r$"
   ]
  },
  {
   "cell_type": "code",
   "execution_count": 3,
   "metadata": {},
   "outputs": [],
   "source": [
    "base = np.array([\n",
    "    [1, 0, -1],\n",
    "    [2, 1, +1],\n",
    "    [1, 2, +1],\n",
    "    [2, 3, -1],\n",
    "    [4, 3, -1],\n",
    "    [5, 2, +1],\n",
    "    [4, 1, +1],\n",
    "    [5, 0, -1]    \n",
    "]) * np.array([1/6, 1/2, 1]) + np.array([0.0, 0.25, 0.0])\n",
    "\n",
    "def plain():\n",
    "    stitch = base\n",
    "    row1 = np.concatenate([stitch + np.array([0, 0, 0]), stitch + np.array([1, 0, 0]), stitch + np.array([2, 0, 0])])\n",
    "    row2 = np.concatenate([stitch + np.array([0, 1, 0]), stitch + np.array([1, 1, 0]), stitch + np.array([2, 1, 0])])\n",
    "    row3 = np.concatenate([stitch + np.array([0, 2, 0]), stitch + np.array([1, 2, 0]), stitch + np.array([2, 2, 0])])\n",
    "    return row1, row2, row3\n",
    "\n",
    "def rib():\n",
    "    knit = base \n",
    "    purl = base * np.array([1, 1, -1]) + np.array([0, 0, -2])\n",
    "    row1 = np.concatenate([knit, purl + np.array([6, 0, 0]), knit + np.array([12, 0, 0])])\n",
    "    row2 = row1 + np.array([0, 2, 0])\n",
    "    row3 = row1 + np.array([0, 4, 0])\n",
    "    return row1, row2, row3\n",
    "\n",
    "def garter():\n",
    "    headrisen = np.copy(base) \n",
    "    headrisen[3] = headrisen[3] * np.array([1, 1, -1]) + np.array([0, 0, 2])\n",
    "    headrisen[4] = headrisen[4] * np.array([1, 1, -1]) + np.array([0, 0, 2])\n",
    "    purl = base * np.array([1, 1, -1]) + np.array([0, 0, 2])\n",
    "    backrisen = np.copy(base)\n",
    "    backrisen[0] = backrisen[0] * np.array([1, 1, -1]) + np.array([0, 0, 2])\n",
    "    backrisen[-1] = backrisen[-1] * np.array([1, 1, -1]) + np.array([0, 0, 2])\n",
    "    row1 = np.concatenate([headrisen, headrisen + np.array([6, 0, 0]), headrisen + np.array([12, 0, 0])])\n",
    "    row2 = np.concatenate([purl + np.array([0, 2, 0]), purl + np.array([6, 2, 0]), purl + np.array([12, 2, 0])])\n",
    "    row3 = np.concatenate([backrisen + np.array([0, 4, 0]), backrisen + np.array([6, 4, 0]), backrisen + np.array([12, 4, 0])])\n",
    "    return row1, row2, row3\n",
    "\n",
    "def moss():\n",
    "    knit = base\n",
    "    purl = base * np.array([1, 1, -1])\n",
    "    row1 = np.concatenate([knit, purl + np.array([6, 0, 0]), knit + np.array([12, 0, 0])])\n",
    "    row2 = np.concatenate([purl + np.array([0, 2, 0]), knit + np.array([6, 2, 0]), purl + np.array([12, 2, 0])])\n",
    "    row3 = np.concatenate([knit + np.array([0, 4, 0]), purl + np.array([6, 4, 0]), knit + np.array([12, 4, 0])])\n",
    "    return row1, row2, row3\n",
    "    "
   ]
  },
  {
   "cell_type": "code",
   "execution_count": 4,
   "metadata": {},
   "outputs": [
    {
     "data": {
      "application/vnd.jupyter.widget-view+json": {
       "model_id": "edffb468232e4ae8823820c1ebf56ece",
       "version_major": 2,
       "version_minor": 0
      },
      "text/plain": [
       "GridBox(children=(VBox(children=(RadioButtons(description='Kind:', options=('plain', 'rib', 'garter', 'moss'),…"
      ]
     },
     "metadata": {},
     "output_type": "display_data"
    }
   ],
   "source": [
    "controls = {\n",
    "    'kind': widgets.RadioButtons(\n",
    "        value='plain',\n",
    "        options=['plain', 'rib', 'garter', 'moss'],\n",
    "        description='Kind:')}\n",
    "plot = k3d.plot()\n",
    "widgets.GridBox([widgets.VBox(list(controls.values())), plot], layout=widgets.Layout(grid_template_columns=\"auto auto\"))"
   ]
  },
  {
   "cell_type": "code",
   "execution_count": 5,
   "metadata": {},
   "outputs": [
    {
     "name": "stderr",
     "output_type": "stream",
     "text": [
      "/home/qmax/.local/lib/python3.7/site-packages/traittypes/traittypes.py:101: UserWarning: Given trait value dtype \"int64\" does not match required type \"float32\". A coerced copy has been created.\n",
      "  np.dtype(self.dtype).name))\n",
      "/home/qmax/.local/lib/python3.7/site-packages/traittypes/traittypes.py:101: UserWarning: Given trait value dtype \"float64\" does not match required type \"float32\". A coerced copy has been created.\n",
      "  np.dtype(self.dtype).name))\n"
     ]
    }
   ],
   "source": [
    "plot += k3d.vectors(np.array([[0, 0, 0], [1, 0, 0], [2, 0, 0], [3, 0, 0]]), np.array([[0, 4, 0], [0, 4, 0], [0, 4, 0], [0, 4, 0]]), color=0x000000, use_head=False)\n",
    "plot += k3d.vectors(np.array([[0.5, 0, 0], [1.5, 0, 0], [2.5, 0, 0]]), np.array([[0, 4, 0], [0, 4, 0], [0, 4, 0]]), color=0x808080, use_head=False)\n",
    "plot += k3d.vectors(np.array([[0, 0, 0], [0, 1, 0], [0, 2, 0], [0, 3, 0], [0, 4, 0]]), np.array([[3, 0, 0], [3, 0, 0], [3, 0, 0], [3, 0, 0], [3, 0, 0]]), color=0x000000, use_head=False)"
   ]
  },
  {
   "cell_type": "code",
   "execution_count": 6,
   "metadata": {},
   "outputs": [],
   "source": [
    "row1points = k3d.points(positions=[], point_size=0.05, color=palette[1])\n",
    "row1line = k3d.line(vertices=[], color=palette[1])\n",
    "row2points = k3d.points(positions=[], point_size=0.05, color=palette[2])\n",
    "row2line = k3d.line(vertices=[], color=palette[2])\n",
    "row3points = k3d.points(positions=[], point_size=0.05, color=palette[3])\n",
    "row3line = k3d.line(vertices=[], color=palette[3])\n",
    "plot += row1line\n",
    "plot += row2line\n",
    "plot += row3line\n",
    "plot += row1points\n",
    "plot += row2points\n",
    "plot += row3points"
   ]
  },
  {
   "cell_type": "code",
   "execution_count": 17,
   "metadata": {},
   "outputs": [],
   "source": [
    "def redraw():\n",
    "    params = {k: w.value for k, w in controls.items()}\n",
    "    kind = params['kind'] \n",
    "    if kind == 'plain':\n",
    "        rows = plain()\n",
    "    elif kind == 'rib':\n",
    "        rows = rib()\n",
    "    elif kind == 'garter':\n",
    "        rows = garter()\n",
    "    elif kind == 'moss':\n",
    "        rows = moss()\n",
    "    else:\n",
    "        return\n",
    "    rows = [r * np.array([1, 1, 0.25]) for r in rows]\n",
    "    \n",
    "    row1points.positions = rows[0].astype(np.float32)\n",
    "    row1line.vertices = rows[0].astype(np.float32)    \n",
    "    row2points.positions = rows[1].astype(np.float32)\n",
    "    row2line.vertices = rows[1].astype(np.float32)    \n",
    "    row2spline.vertices = eval_spline(B2, u, rows[1].astype(np.float32))\n",
    "    row3points.positions = rows[2].astype(np.float32)\n",
    "    row3line.vertices = rows[2].astype(np.float32)    "
   ]
  },
  {
   "cell_type": "code",
   "execution_count": 18,
   "metadata": {},
   "outputs": [],
   "source": [
    "redraw()"
   ]
  },
  {
   "cell_type": "code",
   "execution_count": 9,
   "metadata": {},
   "outputs": [],
   "source": [
    "for w in controls.values():\n",
    "    w.observe(lambda *args: redraw(), 'value')"
   ]
  },
  {
   "cell_type": "markdown",
   "metadata": {},
   "source": [
    "## Adjusting Topology\n",
    "\n",
    "Main hypotesis: shape of a loop (2 knots) only depends on types of N, S, W, E neighbours\n",
    "\n",
    "Constraint: z-distance in anchors should remain 2 — failing because of \"flattening\""
   ]
  },
  {
   "cell_type": "code",
   "execution_count": 90,
   "metadata": {},
   "outputs": [],
   "source": [
    "base = {\n",
    "    'hnw': vector(-1/6, 3/4, -1),\n",
    "    'hsw': vector(-2/6, 1/4, +1),\n",
    "    'lnw': vector(-1/6,-1/4, +1),\n",
    "    'lsw': vector(-2/6,-3/4, -1),\n",
    "    'hne': vector(+1/6, 3/4, -1),\n",
    "    'hse': vector(+2/6, 1/4, +1),\n",
    "    'lne': vector(+1/6,-1/4, +1),\n",
    "    'lse': vector(+2/6,-3/4, -1),\n",
    "}\n",
    "\n",
    "def stitch(val):\n",
    "    return {k: vector(v[0], v[1], v[2] * val) for k, v in base.items()} "
   ]
  },
  {
   "cell_type": "code",
   "execution_count": 99,
   "metadata": {},
   "outputs": [],
   "source": [
    "def topology(pattern):\n",
    "    stitches = [[stitch(v) for v in row] for row in pattern]\n",
    "    Km = pattern[1][1]\n",
    "    Kw = pattern[1][0]\n",
    "    Ke = pattern[1][2]\n",
    "    Kn = pattern[0][1]\n",
    "    Ks = pattern[2][1]\n",
    "    \n",
    "    Ksw = pattern[2][0]\n",
    "    Kse = pattern[2][2]\n",
    "    Knw = pattern[0][0]\n",
    "    Kne = pattern[0][2]\n",
    "    \n",
    "    Sm = stitches[1][1]\n",
    "    Sw = stitches[1][0]\n",
    "    Se = stitches[1][2]\n",
    "    Sn = stitches[0][1]\n",
    "    Ss = stitches[2][1]\n",
    "    \n",
    "    Ssw = stitches[2][0]\n",
    "    Sse = stitches[2][2]\n",
    "    Snw = stitches[0][0]\n",
    "    Sne = stitches[0][2]\n",
    "\n",
    "    def zshift(stitch, keys, d):\n",
    "        for k in keys:\n",
    "            stitch[k][2] += d\n",
    "\n",
    "    def fix_w(S, K, Kw):\n",
    "        if K != Kw:\n",
    "            zshift(S, ('lsw',), K)\n",
    "            zshift(S, ('hsw', 'hnw', 'lnw'), 0.5 * K)\n",
    "            \n",
    "    def fix_e(S, K, Ke):\n",
    "        if K != Ke:\n",
    "            zshift(S, ('lse',), K)\n",
    "            zshift(S, ('hse', 'hne', 'lne'), 0.5 * K)\n",
    "\n",
    "    fix_w(Sm, Km, Kw)\n",
    "    fix_w(Sn, Kn, Knw)\n",
    "    fix_w(Ss, Ks, Ksw)\n",
    "\n",
    "    fix_w(Se, Ke, Km)\n",
    "    fix_w(Sne, Kne, Kn)\n",
    "    fix_w(Sse, Kse, Ks)\n",
    "\n",
    "    fix_e(Sm, Km, Ke)\n",
    "    fix_e(Sn, Kn, Kne)\n",
    "    fix_e(Ss, Ks, Kse)\n",
    "    \n",
    "    fix_e(Sw, Kw, Km)\n",
    "    fix_e(Snw, Knw, Kn)\n",
    "    fix_e(Ssw, Ksw, Ks)\n",
    "\n",
    "    def fix_s(S, K, Ks):\n",
    "        if K != Ks:\n",
    "            zshift(S, ('lsw', 'lse'), 2 * K)\n",
    "            zshift(S, ('lnw', 'lne'), -2 * K)\n",
    "\n",
    "    def fix_n(S, K, Kn):\n",
    "        if K != Kn:\n",
    "            zshift(S, ('hsw', 'hse'), -0.5 * K)\n",
    "            \n",
    "    fix_s(Sm, Km, Ks)        \n",
    "    fix_s(Sw, Kw, Ksw)        \n",
    "    fix_s(Se, Ke, Kse)        \n",
    "\n",
    "    fix_s(Sn, Kn, Km)        \n",
    "    fix_s(Snw, Knw, Kw)        \n",
    "    fix_s(Sne, Kne, Ke)\n",
    "    \n",
    "    fix_n(Sm, Km, Kn)\n",
    "    fix_n(Sw, Kw, Knw)\n",
    "    fix_n(Se, Ke, Kne)\n",
    "\n",
    "    fix_n(Ss, Ks, Km)        \n",
    "    fix_n(Ssw, Ksw, Kw)        \n",
    "    fix_n(Sse, Kse, Ke)\n",
    "    \n",
    "    return stitches"
   ]
  },
  {
   "cell_type": "code",
   "execution_count": 81,
   "metadata": {},
   "outputs": [
    {
     "name": "stderr",
     "output_type": "stream",
     "text": [
      "/home/qmax/.local/lib/python3.7/site-packages/traittypes/traittypes.py:101: UserWarning: Given trait value dtype \"int64\" does not match required type \"float32\". A coerced copy has been created.\n",
      "  np.dtype(self.dtype).name))\n"
     ]
    }
   ],
   "source": [
    "plot = k3d.plot()\n",
    "plot += k3d.vectors(np.array([[0.01, 0, 0], [1, 0, 0], [2, 0, 0], [2.99, 0, 0]]), \n",
    "                    np.array([[0, 4, 0], [0, 4, 0], [0, 4, 0], [0, 4, 0]]), color=0x000000, use_head=False)\n",
    "plot += k3d.vectors(np.array([[0.5, 0, 0], [1.5, 0, 0], [2.5, 0, 0]]), \n",
    "                    np.array([[0, 4, 0], [0, 4, 0], [0, 4, 0]]), color=0x808080, use_head=False)\n",
    "plot += k3d.vectors(np.array([[0.01, 0, 0], [0, 1, 0], [0, 2, 0], [0, 3, 0], [0, 4, 0]]), \n",
    "                    np.array([[2.99, 0, 0], [2.99, 0, 0], [2.99, 0, 0], [2.99, 0, 0], [2.99, 0, 0]]), color=0x000000, use_head=False)"
   ]
  },
  {
   "cell_type": "code",
   "execution_count": 82,
   "metadata": {},
   "outputs": [],
   "source": [
    "row1points = k3d.points(positions=[], point_size=0.05, color=palette[1], shader='3d', opacity=0.5)\n",
    "row1line = k3d.line(vertices=[], color=palette[1])\n",
    "row2points = k3d.points(positions=[], point_size=0.05, color=palette[2], shader='3d', opacity=0.5)\n",
    "row2line = k3d.line(vertices=[], color=palette[2])\n",
    "row3points = k3d.points(positions=[], point_size=0.05, color=palette[3], shader='3d', opacity=0.5)\n",
    "row3line = k3d.line(vertices=[], color=palette[3])\n",
    "plot += row1line\n",
    "plot += row2line\n",
    "plot += row3line\n",
    "plot += row1points\n",
    "plot += row2points\n",
    "plot += row3points"
   ]
  },
  {
   "cell_type": "code",
   "execution_count": 83,
   "metadata": {},
   "outputs": [],
   "source": [
    "checkbox = lambda:widgets.Checkbox(value=True, indent=False) \n",
    "skip = lambda:widgets.Checkbox(value=False, disabled=True, indent=False)\n",
    "pattern = widgets.VBox([\n",
    "    widgets.HBox([checkbox(), checkbox(), checkbox()]),                  # NW NC NE\n",
    "    widgets.HBox([checkbox(), checkbox(), checkbox()]),          # CW CC CE\n",
    "    widgets.HBox([checkbox(), checkbox(), checkbox()]),                  # SW SC SE\n",
    "])\n",
    "def read_pattern():\n",
    "    return [[int(w.value)*2-1 if not w.disabled else 0 for w in row.children] for row in pattern.children]"
   ]
  },
  {
   "cell_type": "code",
   "execution_count": 84,
   "metadata": {},
   "outputs": [
    {
     "data": {
      "application/vnd.jupyter.widget-view+json": {
       "model_id": "a421cbf3a79f4155b4e8bdbd0796412e",
       "version_major": 2,
       "version_minor": 0
      },
      "text/plain": [
       "GridBox(children=(VBox(children=(HBox(children=(Checkbox(value=True, indent=False), Checkbox(value=True, inden…"
      ]
     },
     "metadata": {},
     "output_type": "display_data"
    }
   ],
   "source": [
    "widgets.GridBox([pattern, plot], layout=widgets.Layout(grid_template_columns=\"100px auto\"))"
   ]
  },
  {
   "cell_type": "code",
   "execution_count": 92,
   "metadata": {},
   "outputs": [],
   "source": [
    "def ancpoints(stitch):\n",
    "    return np.array([\n",
    "        stitch['lsw'], \n",
    "        stitch['lnw'], \n",
    "        stitch['hsw'], \n",
    "        stitch['hnw'],\n",
    "        stitch['hne'], \n",
    "        stitch['hse'], \n",
    "        stitch['lne'], \n",
    "        stitch['lse']\n",
    "    ], dtype=np.float32).reshape(-1, 3)\n",
    "\n",
    "Ks = vector(1/12, 0, 0)\n",
    "\n",
    "def splpoints(stitch):\n",
    "    return np.array([\n",
    "        stitch['lsw']+Ks,\n",
    "        stitch['lnw']+Ks, \n",
    "        stitch['hsw']-Ks, \n",
    "        stitch['hnw']-Ks,\n",
    "        stitch['hne']+Ks, \n",
    "        stitch['hse']+Ks, \n",
    "        stitch['lne']-Ks, \n",
    "        stitch['lse']-Ks\n",
    "    ], dtype=np.float32).reshape(-1, 3)\n",
    "\n",
    "def rowpoints(stitches, func):    \n",
    "    return np.concatenate([func(stitches[0]), \n",
    "                           func(stitches[1]) + np.array([1, 0, 0]), \n",
    "                           func(stitches[2]) + np.array([2, 0, 0])]) * np.array([1, 1, 0.25]) + np.array([0.5, 1, 0])\n",
    "\n",
    "def redraw():\n",
    "    stitches = topology(read_pattern())\n",
    "    \n",
    "    ancpoints1 = rowpoints(stitches[0], ancpoints) + np.array([0, 2, 0])\n",
    "    ancpoints2 = rowpoints(stitches[1], ancpoints) + np.array([0, 1, 0])\n",
    "    ancpoints3 = rowpoints(stitches[2], ancpoints)\n",
    "    splpoints1 = rowpoints(stitches[0], splpoints) + np.array([0, 2, 0])\n",
    "    splpoints2 = rowpoints(stitches[1], splpoints) + np.array([0, 1, 0])\n",
    "    splpoints3 = rowpoints(stitches[2], splpoints)\n",
    "    \n",
    "    row1points.positions = ancpoints1\n",
    "    row1line.vertices = eval_splines(B2,  splpoints1)\n",
    "    row2points.positions = ancpoints2\n",
    "    row2line.vertices = eval_splines(B2,  splpoints2)\n",
    "    row3points.positions = ancpoints3\n",
    "    row3line.vertices = eval_splines(B2,  splpoints3)"
   ]
  },
  {
   "cell_type": "code",
   "execution_count": 93,
   "metadata": {},
   "outputs": [],
   "source": [
    "redraw()"
   ]
  },
  {
   "cell_type": "code",
   "execution_count": 94,
   "metadata": {},
   "outputs": [],
   "source": [
    "for v in pattern.children:\n",
    "    for w in v.children:\n",
    "        w.observe(lambda *args: redraw(), 'value')"
   ]
  },
  {
   "cell_type": "markdown",
   "metadata": {},
   "source": [
    "# Geometry"
   ]
  },
  {
   "cell_type": "markdown",
   "metadata": {},
   "source": [
    "### Parameters\n",
    "* real scale to get correct thickness\n",
    "* yarn thickness\n",
    "\n",
    "### Manual control\n",
    "* wale width\n",
    "* course width\n",
    "\n",
    "### Constraints\n",
    "\n",
    "* symmetry at cell boundaries to align spline segments\n",
    "* distance between splines at knot point > r\n",
    "* distance between splines and cell edges > r"
   ]
  }
 ],
 "metadata": {
  "kernelspec": {
   "display_name": "Python 3",
   "language": "python",
   "name": "python3"
  },
  "language_info": {
   "codemirror_mode": {
    "name": "ipython",
    "version": 3
   },
   "file_extension": ".py",
   "mimetype": "text/x-python",
   "name": "python",
   "nbconvert_exporter": "python",
   "pygments_lexer": "ipython3",
   "version": "3.7.3"
  }
 },
 "nbformat": 4,
 "nbformat_minor": 4
}
