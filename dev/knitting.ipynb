{
 "cells": [
  {
   "cell_type": "markdown",
   "metadata": {},
   "source": [
    "# Knitting\n",
    "\n",
    "Two types of stitches:\n",
    "* knit stich (legs faced)\n",
    "* purl stich (head faced)\n",
    "\n",
    "Each cell contains 2 dependant knots: to legs of northener stich, head of southerner stich.\n",
    "\n",
    "Any neighbour combinations are possible.\n"
   ]
  },
  {
   "cell_type": "code",
   "execution_count": 1,
   "metadata": {},
   "outputs": [],
   "source": [
    "from random import random\n",
    "import numpy as np\n",
    "import sympy as sp\n",
    "from ipywidgets import widgets\n",
    "import k3d\n",
    "\n",
    "from myutils import *\n",
    "from mycurves import *\n",
    "\n",
    "t, s, u, v, r, a, b, c, d = sp.symbols(\"t, s, u, v, r, a, b, c, d\")\n",
    "P, P0, P1, P2, P3 = vec.symbols('P P0 P1 P2 P3')"
   ]
  },
  {
   "cell_type": "code",
   "execution_count": 2,
   "metadata": {},
   "outputs": [],
   "source": [
    "from matplotlib.cm import get_cmap\n",
    "palette = hexpalette(get_cmap('tab10'))"
   ]
  },
  {
   "cell_type": "markdown",
   "metadata": {},
   "source": [
    "# Energy model\n",
    "\n",
    "Energy model by [Choi and Lo, 2003]\n",
    "\n",
    "* $t \\in [0,1]$ for half loop, $t = 0.5$ in the middle of leg\n",
    "* $w$ — loop width\n",
    "* $c + 2e$ — total loop height with overlapping\n",
    "* $c$ — distance between knots \n",
    "* $t_h$ — fabric thickness\n",
    "* $d$ — yarn diameter\n",
    "* $a$ — fuckery\n",
    "\n",
    "$x(t) = a t^3 - 1.5 a t^2 + 0.5 (a + w) t$\n",
    "\n",
    "$y(t) = 0.5(c + 2 e)(1 - cos (\\pi t))$\n",
    "\n",
    "$z(t) = 0.5(t_h - d)(1 - cos (2\\pi t))$\n",
    "\n",
    "* $\\chi d$ — horizontal loop separation (distance in knot), $1 ≤ \\chi ≤ \\frac{w}{2d} - 1$\n",
    "* $t = \\beta_1, \\beta_2 $ — righmost and leftmost points of knot $x(\\beta_1)  - x(\\beta_2) = \\chi d$, symmetric: $\\beta_1 + \\beta_2 = 1$\n",
    "* $t = \\beta_3, \\beta_4 $ — intersection points $x(\\beta_4) = x(\\beta_3), y(\\beta_4) - y(\\beta_3) = c$\n",
    "\n",
    "$\\beta_{1,2} = \\frac{1}{2}\\left(1 ± \\sqrt{\\frac{a - 2w}{3a}}\\right)$\n",
    "\n",
    "$e = \\frac{c}{2}\\left(\\frac{1}{cos \\pi \\beta_1} - 1\\right)$\n",
    "\n",
    "$t_h = d \\left( \\frac{2}{cos 2 \\pi \\beta_3 - cos 2 \\pi \\beta_4} + 1\\right)$"
   ]
  },
  {
   "cell_type": "code",
   "execution_count": 3,
   "metadata": {},
   "outputs": [],
   "source": [
    "Ka, Kw, Kc, Ke, Kz = sp.symbols(\"a, w, c, e, z\")\n",
    "Q = vector(\n",
    "    Ka * t**3 - 3 * half * Ka * t**2 + half*(Ka+Kw)*t,\n",
    "    half * (Kc + 2*Ke)*(1 - sp.cos(sp.pi * t)),\n",
    "    half * (Kz) * (1 - sp.cos(2*sp.pi*t))\n",
    ")\n"
   ]
  },
  {
   "cell_type": "code",
   "execution_count": 4,
   "metadata": {},
   "outputs": [],
   "source": [
    "# b1, b2, b3, b4 = sp.symbols(\"b_1, b_2, b_3, b_4\")"
   ]
  },
  {
   "cell_type": "code",
   "execution_count": 5,
   "metadata": {},
   "outputs": [
    {
     "data": {
      "text/plain": [
       "[(3*a - sqrt(3)*sqrt(a*(a - 2*w)))/(6*a),\n",
       " (3*a + sqrt(3)*sqrt(a*(a - 2*w)))/(6*a)]"
      ]
     },
     "execution_count": 5,
     "metadata": {},
     "output_type": "execute_result"
    }
   ],
   "source": [
    "# edge points\n",
    "sp.solve(sp.diff(Q[0], t), t)"
   ]
  },
  {
   "cell_type": "code",
   "execution_count": 6,
   "metadata": {},
   "outputs": [
    {
     "name": "stderr",
     "output_type": "stream",
     "text": [
      "/home/qmax/.local/lib/python3.7/site-packages/traittypes/traittypes.py:101: UserWarning: Given trait value dtype \"int64\" does not match required type \"float32\". A coerced copy has been created.\n",
      "  np.dtype(self.dtype).name))\n",
      "/home/qmax/.local/lib/python3.7/site-packages/traittypes/traittypes.py:101: UserWarning: Given trait value dtype \"float64\" does not match required type \"float32\". A coerced copy has been created.\n",
      "  np.dtype(self.dtype).name))\n"
     ]
    },
    {
     "data": {
      "application/vnd.jupyter.widget-view+json": {
       "model_id": "770df25a848f46ed8a5b0ae03ed31906",
       "version_major": 2,
       "version_minor": 0
      },
      "text/plain": [
       "GridBox(children=(VBox(children=(Checkbox(value=True, description='snap'), FloatSlider(value=5.0, description=…"
      ]
     },
     "metadata": {},
     "output_type": "display_data"
    }
   ],
   "source": [
    "controls = {\n",
    "    'cell': widgets.Checkbox(description=\"cell\", value=True),\n",
    "    'a': widgets.FloatSlider(description=\"a\", value=5, min=0, max=10.0),\n",
    "    'w': widgets.FloatSlider(description=\"w\", value=1.0, min=0, max=2.0),\n",
    "    'c': widgets.FloatSlider(description=\"c\", value=1.0, min=0, max=2.0),    \n",
    "    'e': widgets.FloatSlider(description=\"e\", value=0.5, min=0, max=1.0, step=0.01),\n",
    "    'z': widgets.FloatSlider(description=\"z\", value=0.25, min=0, max=2.0)\n",
    "}\n",
    "plot = k3d.plot(grid_visible=False)\n",
    "plot += k3d.vectors(*make_grid((-1,1,0.5),(-1,1,0.5)), color=0x808080, use_head=False, line_width=0.005)\n",
    "plot += k3d.vectors(*make_grid((-1,1,1),(-1,1,1)), color=0x000000, use_head=False, line_width=0.01)\n",
    "widgets.GridBox([\n",
    "    widgets.VBox(list(controls.values())),\n",
    "    plot], \n",
    "    layout=widgets.Layout(grid_template_columns=\"auto auto\"))"
   ]
  },
  {
   "cell_type": "code",
   "execution_count": 12,
   "metadata": {},
   "outputs": [],
   "source": [
    "plot_curve1 = k3d.line(vertices=[], color=palette[1], name=\"head\")\n",
    "plot += plot_curve1\n",
    "plot_curve2 = k3d.line(vertices=[], color=palette[2], name=\"legs\")\n",
    "plot += plot_curve2\n",
    "plot_points1 = k3d.points(positions=[], color=palette[0], opacity=0.5, point_size=0.1, shader='3d')\n",
    "plot += plot_points1"
   ]
  },
  {
   "cell_type": "code",
   "execution_count": 8,
   "metadata": {},
   "outputs": [],
   "source": [
    "def redraw(*args):\n",
    "    params = {k: w.value for k, w in controls.items()}\n",
    "    snap = np.array(vector(-0.5*params['w'], - params['e'], 0))\n",
    "    \n",
    "    Q_ = Q.subs(params)\n",
    "    spline0 = eval_curve(Q_, t, (0, 1, 36))\n",
    "    # mirror/rotate\n",
    "    #spline0 = np.concatenate([spline0, np.flip(spline0, 0) * np.array(vector(-1, -1, 1)) + np.array(vector(0.5*params['w'], 2*params['c'], 0))]) \n",
    "        \n",
    "        \n",
    "    if params['cell']:\n",
    "        spline0 = spline0 + snap\n",
    "        spline1 = np.concatenate([spline0, np.flip(spline0,0) * np.array(vector(-1, 1, 1))])  + np.array(vector(0, - params['c'], 0))\n",
    "        spline2 = np.concatenate([spline0, np.flip(spline0,0) * np.array(vector(-1, 1, 1))])\n",
    "    else:\n",
    "        spline1 = spline0 + np.array(vector(0, - params['c'], 0))\n",
    "        spline2 = spline0\n",
    "    curve1.vertices = spline1.astype(np.float32)\n",
    "    curve2.vertices = spline2.astype(np.float32)\n",
    "    \n",
    "#     a, w = params['a'], params['w']\n",
    "#     t1 = (3*a - np.sqrt(3)*np.sqrt(a*(a - 2*w)))/(6*a)\n",
    "#     t2 = (3*a + np.sqrt(3)*np.sqrt(a*(a - 2*w)))/(6*a)\n",
    "#     edges = eval(Q_, {t: [t1, t2]})\n",
    "#     if params['snap']:\n",
    "#         edges = edges + snap\n",
    "#     points1.positions = edges\n",
    "    "
   ]
  },
  {
   "cell_type": "code",
   "execution_count": 9,
   "metadata": {},
   "outputs": [],
   "source": [
    "redraw()"
   ]
  },
  {
   "cell_type": "code",
   "execution_count": 10,
   "metadata": {},
   "outputs": [],
   "source": [
    "for w in controls.values():\n",
    "    w.observe(lambda *args: redraw(), 'value')"
   ]
  },
  {
   "cell_type": "markdown",
   "metadata": {},
   "source": [
    "# Spline model\n",
    "\n",
    "Quadratic uniform spline."
   ]
  },
  {
   "cell_type": "code",
   "execution_count": 3,
   "metadata": {},
   "outputs": [],
   "source": [
    "Ka, Kw, Kc, Ke, Kz = sp.symbols(\"Ka, Kw, Kc, Ke, Kz\")\n",
    "#### 4*2 segments, 5 params\n",
    "# cpoints = np.array([\n",
    "#     vector(-0.5-Ka,-Kc-1,-Kz),\n",
    "#     vector(-0.5+Ka,-Kc-1,-Kz),\n",
    "#     vector(-0.5+Kw,-1+Ke,+Kz),\n",
    "#     vector( -Kw,-Ke,+Kz),\n",
    "#     vector( -Ka, Kc,-Kz),\n",
    "#     vector( +Ka, Kc,-Kz),\n",
    "# ])\n",
    "\n",
    "#### 3*2 segments, 4 params\n",
    "cpoints = np.array([\n",
    "    vector(-0.5-Kw,-1-Ke,+Kz),\n",
    "    vector(-0.5,-Kc-1,-Kz),\n",
    "    vector(-0.5+Kw,-1-Ke,+Kz),\n",
    "    vector( -Kw,Ke,+Kz),\n",
    "    vector(  0, Kc,-Kz),\n",
    "    vector( +Kw,Ke,+Kz),\n",
    "])\n",
    "\n",
    "\n",
    "splines = [Spline(u, B2, cpoints[ids]) for ids in iter_slices(3, len(cpoints))]"
   ]
  },
  {
   "cell_type": "code",
   "execution_count": 4,
   "metadata": {},
   "outputs": [
    {
     "name": "stderr",
     "output_type": "stream",
     "text": [
      "/home/qmax/.local/lib/python3.7/site-packages/traittypes/traittypes.py:101: UserWarning: Given trait value dtype \"int64\" does not match required type \"float32\". A coerced copy has been created.\n",
      "  np.dtype(self.dtype).name))\n",
      "/home/qmax/.local/lib/python3.7/site-packages/traittypes/traittypes.py:101: UserWarning: Given trait value dtype \"float64\" does not match required type \"float32\". A coerced copy has been created.\n",
      "  np.dtype(self.dtype).name))\n"
     ]
    },
    {
     "data": {
      "application/vnd.jupyter.widget-view+json": {
       "model_id": "f9ac9b0a42de48fba69b975945e02618",
       "version_major": 2,
       "version_minor": 0
      },
      "text/plain": [
       "GridBox(children=(VBox(children=(Checkbox(value=True, description='cell'), FloatSlider(value=0.5, continuous_u…"
      ]
     },
     "metadata": {},
     "output_type": "display_data"
    }
   ],
   "source": [
    "controls = {\n",
    "    'cell': widgets.Checkbox(description=\"cell\", value=True),\n",
    "#     'Ka': widgets.FloatSlider(description=\"Ka\", value=0.3, min=0, max=1.0, step=0.01, continuous_update=False),\n",
    "    'Kw': widgets.FloatSlider(description=\"Kw\", value=0.5, min=0, max=1.0, step=0.01, continuous_update=False),\n",
    "    'Kc': widgets.FloatSlider(description=\"Kc\", value=0.5, min=0, max=1.0, step=0.01, continuous_update=False),\n",
    "    'Ke': widgets.FloatSlider(description=\"Ke\", value=0.0, min=-1.0, max=1.0, step=0.01, continuous_update=False),\n",
    "    'Kz': widgets.FloatSlider(description=\"Kz\", value=0.25, min=0, max=1.0, step=0.01, continuous_update=False)\n",
    "}\n",
    "plot = k3d.plot(grid_visible=False)\n",
    "plot += k3d.vectors(*make_grid((-1,1,1),(-1,1,1)), color=0x808080, use_head=False, line_width=0.005)\n",
    "plot += k3d.vectors(*make_grid((-0.5,0.5,1),(-0.5,0.5,1)), color=0x000000, use_head=False, line_width=0.01)\n",
    "\n",
    "widgets.GridBox([widgets.VBox(list(controls.values())), plot], layout=widgets.Layout(grid_template_columns=\"auto auto\"))"
   ]
  },
  {
   "cell_type": "code",
   "execution_count": 5,
   "metadata": {},
   "outputs": [],
   "source": [
    "plot_points1 = k3d.points(positions=[], color=palette[0], point_size=0.05)\n",
    "plot += plot_points1\n",
    "plot_lines1 = k3d.line(vertices=[], color=palette[1])\n",
    "plot += plot_lines1\n",
    "plot_lines2 = k3d.line(vertices=[], color=palette[2])\n",
    "plot += plot_lines2"
   ]
  },
  {
   "cell_type": "code",
   "execution_count": 6,
   "metadata": {},
   "outputs": [],
   "source": [
    "def redraw(*args):\n",
    "    params = {k: w.value for k, w in controls.items()}\n",
    "    points0 = np.array([[c.subs(params) for c in p] for p in cpoints])\n",
    "    spline0 = np.concatenate([eval_curve(spl.subs(params), u) for spl in splines])\n",
    "    if params['cell']:\n",
    "        spline1 = np.concatenate([spline0, np.flip(spline0,0) * np.array(vector(-1, 1, 1))])\n",
    "        spline2 = spline1 + np.array(vector(0, 1.0, 0))\n",
    "    else:\n",
    "        spline1 = spline0\n",
    "        spline2 = spline1 + np.array(vector(0, 1.0, 0))\n",
    "    plot_points1.positions = points0.astype(np.float32)\n",
    "    plot_lines1.vertices = spline1.astype(np.float32)\n",
    "    plot_lines2.vertices = spline2.astype(np.float32) \n",
    "    "
   ]
  },
  {
   "cell_type": "code",
   "execution_count": 7,
   "metadata": {},
   "outputs": [],
   "source": [
    "redraw()"
   ]
  },
  {
   "cell_type": "code",
   "execution_count": 44,
   "metadata": {},
   "outputs": [],
   "source": [
    "for w in controls.values():\n",
    "    w.observe(lambda *args: redraw(), 'value')"
   ]
  },
  {
   "cell_type": "markdown",
   "metadata": {},
   "source": [
    "# Topology\n",
    "\n",
    "Defining anchor or approximated points\n",
    "\n",
    "Main hypotesis: shape can be determined based only on local neighbours."
   ]
  },
  {
   "cell_type": "markdown",
   "metadata": {},
   "source": [
    "## Hexagonal\n",
    "\n",
    "From [\"3D Modeling of Plain Weft Knitted Structures of Compressible Yarn\", Kyosev et al, 2010] \n",
    "\n",
    "Anchors:\n",
    "* $A^{NW}, A^{NE}$ — intersection points near the tip of a loop head\n",
    "* $A^{SW}, A^{SE}$ — intersection points at sides of a loop head\n",
    "\n",
    "Symmetrical variations $z+$ and $z-$ for above/below yarn.\n",
    "\n",
    "Anchored splines:\n",
    "* head: $south(A^{NW}), A^{SW}, A^{NW}, A^{NE}, A^{SE}, south(A^{NE})$\n",
    "* w leg: $west(A^{SE}), A^{SW}, A^{NW}, north(A^{SW})$\n",
    "* e leg: $east(A^{SW}), A^{SE}, A^{NE}, north(A^{SE})$\n",
    "\n",
    "Cells preserve type of head knots, legs points are fully dependant"
   ]
  },
  {
   "cell_type": "markdown",
   "metadata": {},
   "source": [
    "## Triangular\n",
    "\n",
    "Anchors (and approximants):\n",
    "* $A^{N}$ — tip of head\n",
    "* $A^{W}$ — tip of w counter head\n",
    "* $A^{E}$ — tip of e counter head\n",
    "\n",
    "Anchored splines:\n",
    "* head: $ \\approx south(A^{N}), \\approx A^{W}, A^{N}, \\approx A^{E}, \\approx south(A^{N})$\n",
    "* w leg:  $\\approx west(A^{N}), A^{W}, \\approx A^{N}, \\approx north(A^{W})$\n",
    "* e leg:  $\\approx east(A^{N}), A^{E}, \\approx A^{N}, \\approx north(A^{E})$\n"
   ]
  },
  {
   "cell_type": "code",
   "execution_count": 16,
   "metadata": {},
   "outputs": [],
   "source": [
    "base4 = {\n",
    "    'nw': np.array([-0.125, 0.25, -0.5]),\n",
    "    'ne': np.array([+0.125, 0.25, -0.5]),\n",
    "    'sw': np.array([-0.375, -0.25, +0.5]),\n",
    "    'se': np.array([+0.375, -0.25, +0.5]),\n",
    "}\n",
    "\n",
    "def topology4(pattern, x, y):\n",
    "    # generate points for splines inside single cell\n",
    "    k = pattern[y][x]\n",
    "    if k is None:\n",
    "        return None\n",
    "    ks = pattern[y+1][x]\n",
    "    if ks is None:\n",
    "        ks = k\n",
    "    kn = pattern[y-1][x]\n",
    "    if kn is None:\n",
    "        kn = k\n",
    "    kw = pattern[y][x-1]\n",
    "    if kw is None:\n",
    "        kw = k\n",
    "    ke = pattern[y][x+1]\n",
    "    if ke is None:\n",
    "        ke = k\n",
    "    \n",
    "    orient = np.array([1, 1, k])\n",
    "    bump = np.array([0, 0, k])\n",
    "    \n",
    "    head = {\n",
    "            'nw': base4['nw'] * orient,\n",
    "            'ne': base4['ne'] * orient,\n",
    "            'sw': base4['sw'] * orient,\n",
    "            'se': base4['se'] * orient,\n",
    "#             'snw': base['nw'] - vector(0, 1, 0),\n",
    "#             'sne': base['ne'] - vector(0, 1, 0),\n",
    "    }\n",
    "    \n",
    "    if k != kn:\n",
    "        head['nw'] -= bump * 0.5\n",
    "        head['ne'] -= bump * 0.5\n",
    "        head['sw'] -= bump * 0.5\n",
    "        head['se'] -= bump * 0.5 \n",
    "        \n",
    "    if k != kw:\n",
    "        head['nw'] += bump * 0.5\n",
    "        head['sw'] += bump * 0.5\n",
    "\n",
    "    if k != ke:\n",
    "        head['ne'] += bump * 0.5\n",
    "        head['se'] += bump * 0.5\n",
    "    \n",
    "    legs = {\n",
    "            'nw': head['nw'] + bump,\n",
    "            'ne': head['ne'] + bump,\n",
    "            'sw': head['sw'] - bump,\n",
    "            'se': head['se'] - bump,\n",
    "#             'wse': base['se'] - flip - vector(1, 0, 0),\n",
    "#             'nsw': base['sw'] - flip + vector(0, 1, 0),\n",
    "#             'esw': base['sw'] - flip + vector(1, 0, 0),\n",
    "#             'nse': base['se'] - flip + vector(0, 1, 0),\n",
    "    }\n",
    "    return {\n",
    "        'h': head,\n",
    "        'l': legs\n",
    "    }"
   ]
  },
  {
   "cell_type": "code",
   "execution_count": 67,
   "metadata": {},
   "outputs": [],
   "source": [
    "base3 = {\n",
    "    'n': np.array([   0, 0.25,-0.5]),\n",
    "    'w': np.array([-0.5,-0.25,+0.5]),\n",
    "    'e': np.array([+0.5,-0.25,+0.5]),\n",
    "}\n",
    "\n",
    "def topology3(pattern, x, y):\n",
    "    # generate points for splines inside single cell\n",
    "    k = pattern[y][x]\n",
    "    if k is None:\n",
    "        return None\n",
    "    ks = pattern[y+1][x]\n",
    "    if ks is None:\n",
    "        ks = k\n",
    "    kn = pattern[y-1][x]\n",
    "    if kn is None:\n",
    "        kn = k\n",
    "    kw = pattern[y][x-1]\n",
    "    if kw is None:\n",
    "        kw = k\n",
    "    ke = pattern[y][x+1]\n",
    "    if ke is None:\n",
    "        ke = k\n",
    "    \n",
    "    orient = np.array([1, 1, k])\n",
    "    flip = np.array([1, 1, -k])\n",
    "    bump = np.array([0, 0, k])\n",
    "    \n",
    "    head = {\n",
    "        'n': base3['n'] * orient,\n",
    "        'w': base3['w'] * orient,\n",
    "        'e': base3['e'] * orient,\n",
    "#         'sn':\n",
    "    }\n",
    "\n",
    "    if k != kn:\n",
    "#         head['n'] -= bump * 0.5\n",
    "        head['w'] -= bump * 0.5\n",
    "        head['e'] -= bump * 0.5 \n",
    "\n",
    "    if k != kw:\n",
    "        head['w'] += bump * 0.5\n",
    "\n",
    "    if k != ke:\n",
    "        head['e'] += bump * 0.5\n",
    "  \n",
    "    \n",
    "    legs = {\n",
    "            'n': head['n'] + bump,\n",
    "            'w': head['w'] - bump,\n",
    "            'e': head['e'] - bump,\n",
    "        #   'wn'\n",
    "        #   'en'\n",
    "        #   'nw'\n",
    "        #   'ne'\n",
    "    }\n",
    "    \n",
    "    return {\n",
    "        'h': head,\n",
    "        'l': legs\n",
    "    }    \n"
   ]
  },
  {
   "cell_type": "code",
   "execution_count": 7,
   "metadata": {},
   "outputs": [
    {
     "data": {
      "application/vnd.jupyter.widget-view+json": {
       "model_id": "e483b1bf0add41e9bb700d02162f338f",
       "version_major": 2,
       "version_minor": 0
      },
      "text/plain": [
       "GridBox(children=(VBox(children=(VBox(children=(HBox(children=(Checkbox(value=True, indent=False, layout=Layou…"
      ]
     },
     "metadata": {},
     "output_type": "display_data"
    }
   ],
   "source": [
    "chk = lambda: widgets.Checkbox(value=True, indent=False, layout=widgets.Layout(width='32px'))\n",
    "brd = widgets.VBox([\n",
    "    widgets.HBox([chk(), chk(), chk()]), # N\n",
    "    widgets.HBox([chk(), chk(), chk()]), # M\n",
    "    widgets.HBox([chk(), chk(), chk()])  # S\n",
    "])\n",
    "\n",
    "def read_pattern():\n",
    "    return [[int(box.value)*2-1 for box in hbox.children] for hbox in brd.children]\n",
    "\n",
    "controls = {\n",
    "    'topo': widgets.RadioButtons(description=\"topo\", options=('hexagonal', 'triangular')),\n",
    "    'mode': widgets.RadioButtons(description=\"mode\", options=('polygon', 'spline'))\n",
    "}\n",
    "plot = k3d.plot(grid_visible=False)\n",
    "\n",
    "widgets.GridBox([widgets.VBox([brd, *controls.values()]), plot], layout=widgets.Layout(grid_template_columns=\"auto auto\"))\n"
   ]
  },
  {
   "cell_type": "code",
   "execution_count": 8,
   "metadata": {},
   "outputs": [],
   "source": [
    "plot.grid_visible=True"
   ]
  },
  {
   "cell_type": "code",
   "execution_count": 9,
   "metadata": {},
   "outputs": [
    {
     "name": "stderr",
     "output_type": "stream",
     "text": [
      "/home/qmax/.local/lib/python3.7/site-packages/traittypes/traittypes.py:101: UserWarning: Given trait value dtype \"int64\" does not match required type \"float32\". A coerced copy has been created.\n",
      "  np.dtype(self.dtype).name))\n",
      "/home/qmax/.local/lib/python3.7/site-packages/traittypes/traittypes.py:101: UserWarning: Given trait value dtype \"float64\" does not match required type \"float32\". A coerced copy has been created.\n",
      "  np.dtype(self.dtype).name))\n"
     ]
    }
   ],
   "source": [
    "plot += k3d.vectors(*make_grid((-2,2,1),(-2,2,1)), color=0x808080, use_head=False, line_width=0.005)\n",
    "plot += k3d.vectors(*make_grid((-1.5,1.5,1),(-1.5,1.5,1)), color=0x000000, use_head=False, line_width=0.01)"
   ]
  },
  {
   "cell_type": "code",
   "execution_count": 10,
   "metadata": {},
   "outputs": [],
   "source": [
    "plot_points = k3d.points(positions=[], shader='3d', opacity=0.5, point_size=0.05, color=palette[0])\n",
    "plot += plot_points\n",
    "plot_row1 = k3d.line(vertices=[], opacity=0.5, point_size=0.1, color=palette[1])\n",
    "plot += plot_row1\n",
    "plot_row2 = k3d.line(vertices=[], opacity=0.5, point_size=0.1, color=palette[2])\n",
    "plot += plot_row2\n",
    "plot_row3 = k3d.line(vertices=[], opacity=0.5, point_size=0.1, color=palette[3])\n",
    "plot += plot_row3"
   ]
  },
  {
   "cell_type": "code",
   "execution_count": 11,
   "metadata": {},
   "outputs": [],
   "source": [
    "south = np.array([0, -1, 0])"
   ]
  },
  {
   "cell_type": "code",
   "execution_count": 31,
   "metadata": {},
   "outputs": [],
   "source": [
    "def make_course4(headrow, legsrow):\n",
    "    adj = np.array([0.0625, 0, 0])    \n",
    "    if legsrow is None:\n",
    "        legsrow = headrow\n",
    "    return np.concatenate([\n",
    "        np.array([\n",
    "            legsrow[x]['l']['sw'] + adj + south,\n",
    "            legsrow[x]['l']['nw'] + adj + south,\n",
    "            headrow[x]['h']['sw'] - adj,\n",
    "            headrow[x]['h']['nw'] - adj,\n",
    "            headrow[x]['h']['ne'] + adj,\n",
    "            headrow[x]['h']['se'] + adj,\n",
    "            legsrow[x]['l']['ne'] - adj + south,\n",
    "            legsrow[x]['l']['se'] - adj + south,\n",
    "        ]) + np.array([x, 0, 0])  for x in range(3)])    "
   ]
  },
  {
   "cell_type": "code",
   "execution_count": 61,
   "metadata": {},
   "outputs": [],
   "source": [
    "def make_course3(headrow, legsrow):\n",
    "    adj = np.array([0, 0.125, 0])\n",
    "    if legsrow is None:\n",
    "        legsrow = headrow\n",
    "    return np.concatenate([\n",
    "        np.array([\n",
    "            legsrow[x]['l']['w'] - adj + south,\n",
    "            legsrow[x]['l']['n'] - adj + south,\n",
    "            headrow[x]['h']['w'] + adj,\n",
    "            headrow[x]['h']['n'] + adj,\n",
    "            headrow[x]['h']['e'] + adj,\n",
    "            legsrow[x]['l']['n'] - adj + south,\n",
    "#             legsrow[x]['l']['e'] - adj + south,            \n",
    "        ]) + np.array([x, 0, 0])  for x in range(3)])    "
   ]
  },
  {
   "cell_type": "code",
   "execution_count": 25,
   "metadata": {},
   "outputs": [],
   "source": [
    "def redraw():\n",
    "    params = {k: w.value for k, w in controls.items()}\n",
    "    pattern = read_pattern()\n",
    "    pattern = [[None,None,None,None,None]] + [[None] + row + [None] for row in pattern] + [[None,None,None,None,None]]\n",
    "    \n",
    "    if params['topo'] == 'triangular':\n",
    "        topology = topology3\n",
    "        make_course = make_course3\n",
    "    else:\n",
    "        topology = topology4\n",
    "        make_course = make_course4\n",
    "        \n",
    "    cells = [[topology(pattern, x, y) for x in range(1,4)] for y in range(1,4)]\n",
    "    \n",
    "    plot_points.positions = np.concatenate([\n",
    "        np.concatenate([\n",
    "            np.array(list(cells[y][x]['h'].values())) + np.array([-1+x, -1+y, 0])\n",
    "            for x in range(3)\n",
    "        ])\n",
    "        for y in range(3)\n",
    "    ]) * np.array([1, 1, 0])\n",
    "\n",
    "    if params['mode'] == 'polygon':\n",
    "        plot_row1.vertices = make_course(cells[0], cells[1]) * np.array([1, 1, .5]) + np.array([-1, +1, 0])\n",
    "        plot_row2.vertices = make_course(cells[1], cells[2]) * np.array([1, 1, .5]) + np.array([-1,  0, 0])\n",
    "        plot_row3.vertices = make_course(cells[2], None) * np.array([1, 1, .5]) + np.array([-1, -1, 0])\n",
    "    else:\n",
    "        plot_row1.vertices = eval_splines(B2, make_course(cells[0], cells[1]) * np.array([1, 1, .5]) + np.array([-1, +1, 0]))\n",
    "        plot_row2.vertices = eval_splines(B2, make_course(cells[1], cells[2]) * np.array([1, 1, .5]) + np.array([-1,  0, 0]))\n",
    "        plot_row3.vertices = eval_splines(B2, make_course(cells[2], None) * np.array([1, 1, .5]) + np.array([-1, -1, 0]))\n",
    "    "
   ]
  },
  {
   "cell_type": "code",
   "execution_count": 44,
   "metadata": {},
   "outputs": [],
   "source": [
    "redraw()"
   ]
  },
  {
   "cell_type": "code",
   "execution_count": 43,
   "metadata": {},
   "outputs": [],
   "source": [
    "for w in controls.values():\n",
    "    w.observe(lambda *args: redraw(), 'value')\n",
    "for r in brd.children:\n",
    "    for w in r.children:\n",
    "        w.observe(lambda *args: redraw(), 'value')"
   ]
  },
  {
   "cell_type": "markdown",
   "metadata": {},
   "source": [
    "# Geometry"
   ]
  },
  {
   "cell_type": "markdown",
   "metadata": {},
   "source": [
    "### Parameters\n",
    "* real scale to get correct thickness\n",
    "* yarn thickness\n",
    "\n",
    "### Manual control\n",
    "* wale width\n",
    "* course width\n",
    "\n",
    "### Constraints\n",
    "\n",
    "* symmetry at cell boundaries to align spline segments\n",
    "* distance between splines at knot point > r\n",
    "* distance between splines and cell edges > r"
   ]
  }
 ],
 "metadata": {
  "kernelspec": {
   "display_name": "Python 3",
   "language": "python",
   "name": "python3"
  },
  "language_info": {
   "codemirror_mode": {
    "name": "ipython",
    "version": 3
   },
   "file_extension": ".py",
   "mimetype": "text/x-python",
   "name": "python",
   "nbconvert_exporter": "python",
   "pygments_lexer": "ipython3",
   "version": "3.7.3"
  }
 },
 "nbformat": 4,
 "nbformat_minor": 4
}
