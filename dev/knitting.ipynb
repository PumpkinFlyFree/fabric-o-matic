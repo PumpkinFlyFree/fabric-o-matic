{
 "cells": [
  {
   "cell_type": "markdown",
   "metadata": {},
   "source": [
    "# Knitting\n",
    "\n",
    "Two types of stitches:\n",
    "* knit stich (legs faced)\n",
    "* purl stich (head faced)\n",
    "\n",
    "Each cell contains 2 dependant knots: to legs of northener stich, head of southerner stich.\n",
    "\n",
    "Any neighbour combinations are possible.\n"
   ]
  },
  {
   "cell_type": "code",
   "execution_count": 1,
   "metadata": {},
   "outputs": [],
   "source": [
    "from random import random\n",
    "import numpy as np\n",
    "import sympy as sp\n",
    "from ipywidgets import widgets\n",
    "import k3d\n",
    "\n",
    "from myutils import *\n",
    "from mycurves import *\n",
    "\n",
    "t, s, u, v, r, a, b, c, d = sp.symbols(\"t, s, u, v, r, a, b, c, d\")\n",
    "P, P0, P1, P2, P3 = vec.symbols('P P0 P1 P2 P3')"
   ]
  },
  {
   "cell_type": "code",
   "execution_count": 2,
   "metadata": {},
   "outputs": [],
   "source": [
    "from matplotlib.cm import get_cmap\n",
    "palette = hexpalette(get_cmap('tab10'))"
   ]
  },
  {
   "cell_type": "code",
   "execution_count": 3,
   "metadata": {},
   "outputs": [],
   "source": [
    "south = vector(0, -1, 0)\n",
    "north = vector(0, 1, 0)\n",
    "west = vector(-1, 0, 0)\n",
    "east = vector(1, 0, 0)"
   ]
  },
  {
   "cell_type": "markdown",
   "metadata": {},
   "source": [
    "# Energy model\n",
    "\n",
    "Energy model by [Choi and Lo, 2003]\n",
    "\n",
    "* $t \\in [0,1]$ for half loop, $t = 0.5$ in the middle of leg\n",
    "* $w$ — loop width\n",
    "* $c + 2e$ — total loop height with overlapping\n",
    "* $c$ — distance between knots \n",
    "* $t_h$ — fabric thickness\n",
    "* $d$ — yarn diameter\n",
    "* $a$ — fuckery\n",
    "\n",
    "$x(t) = a t^3 - 1.5 a t^2 + 0.5 (a + w) t$\n",
    "\n",
    "$y(t) = 0.5(c + 2 e)(1 - cos (\\pi t))$\n",
    "\n",
    "$z(t) = 0.5(t_h - d)(1 - cos (2\\pi t))$\n",
    "\n",
    "* $\\chi d$ — horizontal loop separation (distance in knot), $1 ≤ \\chi ≤ \\frac{w}{2d} - 1$\n",
    "* $t = \\beta_1, \\beta_2 $ — righmost and leftmost points of knot $x(\\beta_1)  - x(\\beta_2) = \\chi d$, symmetric: $\\beta_1 + \\beta_2 = 1$\n",
    "* $t = \\beta_3, \\beta_4 $ — intersection points $x(\\beta_4) = x(\\beta_3), y(\\beta_4) - y(\\beta_3) = c$\n",
    "\n",
    "$\\beta_{1,2} = \\frac{1}{2}\\left(1 ± \\sqrt{\\frac{a - 2w}{3a}}\\right)$\n",
    "\n",
    "$e = \\frac{c}{2}\\left(\\frac{1}{cos \\pi \\beta_1} - 1\\right)$\n",
    "\n",
    "$t_h = d \\left( \\frac{2}{cos 2 \\pi \\beta_3 - cos 2 \\pi \\beta_4} + 1\\right)$"
   ]
  },
  {
   "cell_type": "code",
   "execution_count": 17,
   "metadata": {},
   "outputs": [],
   "source": [
    "Ka, Kw, Kc, Ke, Kz = sp.symbols(\"a, w, c, e, z\")\n",
    "Q = vector(\n",
    "    Ka * t**3 - 3 * half * Ka * t**2 + half*(Ka+Kw)*t,\n",
    "    half * (Kc + 2*Ke)*(1 - sp.cos(sp.pi * t)),\n",
    "    half * (Kz) * (1 - sp.cos(2*sp.pi*t))\n",
    ")\n"
   ]
  },
  {
   "cell_type": "code",
   "execution_count": 18,
   "metadata": {},
   "outputs": [],
   "source": [
    "# b1, b2, b3, b4 = sp.symbols(\"b_1, b_2, b_3, b_4\")"
   ]
  },
  {
   "cell_type": "code",
   "execution_count": 19,
   "metadata": {},
   "outputs": [
    {
     "data": {
      "text/plain": [
       "[(3*a - sqrt(3)*sqrt(a*(a - 2*w)))/(6*a),\n",
       " (3*a + sqrt(3)*sqrt(a*(a - 2*w)))/(6*a)]"
      ]
     },
     "execution_count": 19,
     "metadata": {},
     "output_type": "execute_result"
    }
   ],
   "source": [
    "# edge points\n",
    "sp.solve(sp.diff(Q[0], t), t)"
   ]
  },
  {
   "cell_type": "code",
   "execution_count": 27,
   "metadata": {},
   "outputs": [
    {
     "data": {
      "application/vnd.jupyter.widget-view+json": {
       "model_id": "6a4977ee57ab4e00948992c3e0f49f4e",
       "version_major": 2,
       "version_minor": 0
      },
      "text/plain": [
       "GridBox(children=(VBox(children=(Checkbox(value=True, description='cell'), FloatSlider(value=5.0, description=…"
      ]
     },
     "metadata": {},
     "output_type": "display_data"
    }
   ],
   "source": [
    "controls = {\n",
    "    'cell': widgets.Checkbox(description=\"cell\", value=True),\n",
    "    'a': widgets.FloatSlider(description=\"a\", value=5, min=0, max=10.0),\n",
    "    'w': widgets.FloatSlider(description=\"w\", value=1.0, min=0, max=2.0),\n",
    "    'c': widgets.FloatSlider(description=\"c\", value=1.0, min=0, max=2.0),    \n",
    "    'e': widgets.FloatSlider(description=\"e\", value=0.5, min=0, max=1.0, step=0.01),\n",
    "    'z': widgets.FloatSlider(description=\"z\", value=0.25, min=0, max=2.0)\n",
    "}\n",
    "plot = k3d.plot(grid_visible=False)\n",
    "plot += k3d.vectors(*make_grid((-1,1,1),(-1,1,1)), color=0x808080, use_head=False, line_width=0.005)\n",
    "plot += k3d.vectors(*make_grid((-0.5,0.5,1),(-0.5,0.5,1)), color=0x000000, use_head=False, line_width=0.01)\n",
    "\n",
    "widgets.GridBox([\n",
    "    widgets.VBox(list(controls.values())),\n",
    "    plot], \n",
    "    layout=widgets.Layout(grid_template_columns=\"auto auto\"))"
   ]
  },
  {
   "cell_type": "code",
   "execution_count": 28,
   "metadata": {},
   "outputs": [],
   "source": [
    "plot_curve1 = k3d.line(vertices=[], color=palette[1], name=\"head\")\n",
    "plot += plot_curve1\n",
    "plot_curve2 = k3d.line(vertices=[], color=palette[2], name=\"legs\")\n",
    "plot += plot_curve2\n",
    "plot_points1 = k3d.points(positions=[], color=palette[0], opacity=0.5, point_size=0.1, shader='3d')\n",
    "plot += plot_points1"
   ]
  },
  {
   "cell_type": "code",
   "execution_count": 29,
   "metadata": {},
   "outputs": [],
   "source": [
    "def redraw(*args):\n",
    "    params = {k: w.value for k, w in controls.items()}\n",
    "    snap = np.array(vector(-0.5*params['w'], - params['e'], 0))\n",
    "    \n",
    "    Q_ = Q.subs(params)\n",
    "    spline0 = eval_curve(Q_, t, (0, 1, 36))\n",
    "    # mirror/rotate\n",
    "    #spline0 = np.concatenate([spline0, np.flip(spline0, 0) * np.array(vector(-1, -1, 1)) + np.array(vector(0.5*params['w'], 2*params['c'], 0))]) \n",
    "        \n",
    "        \n",
    "    if params['cell']:\n",
    "        spline0 = spline0 + snap\n",
    "        spline1 = np.concatenate([spline0, np.flip(spline0,0) * np.array(vector(-1, 1, 1))])  + np.array(vector(0, - params['c'], 0))\n",
    "        spline2 = np.concatenate([spline0, np.flip(spline0,0) * np.array(vector(-1, 1, 1))])\n",
    "    else:\n",
    "        spline1 = spline0 + np.array(vector(0, - params['c'], 0))\n",
    "        spline2 = spline0\n",
    "    plot_curve1.vertices = spline1.astype(np.float32)\n",
    "    plot_curve2.vertices = spline2.astype(np.float32)\n",
    "    \n",
    "#     a, w = params['a'], params['w']\n",
    "#     t1 = (3*a - np.sqrt(3)*np.sqrt(a*(a - 2*w)))/(6*a)\n",
    "#     t2 = (3*a + np.sqrt(3)*np.sqrt(a*(a - 2*w)))/(6*a)\n",
    "#     edges = eval(Q_, {t: [t1, t2]})\n",
    "#     if params['snap']:\n",
    "#         edges = edges + snap\n",
    "#     points1.positions = edges\n",
    "    "
   ]
  },
  {
   "cell_type": "code",
   "execution_count": 30,
   "metadata": {},
   "outputs": [],
   "source": [
    "redraw()"
   ]
  },
  {
   "cell_type": "code",
   "execution_count": 31,
   "metadata": {},
   "outputs": [],
   "source": [
    "for w in controls.values():\n",
    "    w.observe(lambda *args: redraw(), 'value')"
   ]
  },
  {
   "cell_type": "markdown",
   "metadata": {},
   "source": [
    "# Spline model\n",
    "\n",
    "Quadratic uniform spline.\n",
    "\n",
    "Control points:\n",
    "* rectangular polygon matching loop dimentions\n"
   ]
  },
  {
   "cell_type": "code",
   "execution_count": 63,
   "metadata": {},
   "outputs": [],
   "source": [
    "Ka, Kw, Kc, Ke, Kz = sp.symbols(\"Ka, Kw, Kc, Ke, Kz\")\n",
    "\n",
    "#### hexagonal 4*2 segments\n",
    "cpoints6 = [\n",
    "    vector(-0.5-Ka,-Kc-1,-Kz),\n",
    "    vector(-0.5+Ka,-Kc-1,-Kz),\n",
    "    vector(-0.5+Kw,-1+Ke,+Kz),\n",
    "    vector( -Kw,-Ke,+Kz),\n",
    "    vector( -Ka, Kc,-Kz),\n",
    "    vector( +Ka, Kc,-Kz),\n",
    "    vector( +Kw,-Ke,+Kz),\n",
    "    vector(+0.5-Kw,-1+Ke,+Kz),\n",
    "    vector(+0.5-Ka,-Kc-1,-Kz),\n",
    "    vector(+0.5+Ka,-Kc-1,-Kz),\n",
    "]\n",
    "\n",
    "#### triangular 3*2 segments\n",
    "cpoints3 = [\n",
    "    vector(-0.5-Kw,-0.5-Ke,+Kz),\n",
    "    vector(-0.5,-Kc-1,-Kz),\n",
    "    vector(-0.5+Kw,-0.5-Ke,+Kz),\n",
    "    vector( -Kw,-0.5+Ke,+Kz),\n",
    "    vector(  0, Kc,-Kz),\n",
    "    vector( +Kw,-0.5+Ke,+Kz),\n",
    "    vector(+0.5-Kw,-0.5-Ke,+Kz),\n",
    "    vector(+0.5,-Kc-1,-Kz),\n",
    "    vector(+0.5+Kw,-0.5-Ke,+Kz),\n",
    "]\n",
    "\n",
    "#### rectangular, 4*2 segments\n",
    "cpoints4 = [\n",
    "    vector(-0.5-Kw, -0.5-Kc, -Kz),\n",
    "    vector(-0.5+Kw, -0.5-Kc, -Kz),\n",
    "    vector(-0.5+Kw, -0.5-Ke, +Kz),\n",
    "    vector(-Kw, -0.5+Ke, +Kz),\n",
    "    vector(-Kw, -0.5+Kc, -Kz),\n",
    "    vector(+Kw, -0.5+Kc, -Kz),\n",
    "    vector(+Kw, -0.5+Ke, +Kz),\n",
    "    vector(0.5-Kw, -0.5-Ke, +Kz),\n",
    "    vector(0.5-Kw, -0.5-Kc, -Kz),\n",
    "    vector(0.5+Kw, -0.5-Kc, -Kz),\n",
    "]"
   ]
  },
  {
   "cell_type": "code",
   "execution_count": 84,
   "metadata": {},
   "outputs": [
    {
     "data": {
      "application/vnd.jupyter.widget-view+json": {
       "model_id": "7f952e777c624b2abd3941e3b5c2bdbd",
       "version_major": 2,
       "version_minor": 0
      },
      "text/plain": [
       "GridBox(children=(VBox(children=(RadioButtons(description='model', index=2, options=('hexagonal', 'rectangular…"
      ]
     },
     "metadata": {},
     "output_type": "display_data"
    }
   ],
   "source": [
    "controls = {\n",
    "    'model': widgets.RadioButtons(description=\"model\", value='triangular', options=('hexagonal', 'rectangular', 'triangular')),\n",
    "    'plot': widgets.RadioButtons(description=\"plot\", value='spline', options=('polygon', 'spline', 'pipe')),\n",
    "    'cell': widgets.Checkbox(description=\"cell\", value=True),\n",
    "#     'Ka': widgets.FloatSlider(description=\"Ka\", value=0.3, min=0, max=1.0, step=0.01, continuous_update=False),\n",
    "    'r': widgets.FloatSlider(description=\"r\", value=0.1, min=0, max=0.125, step=0.005, continuous_update=False),\n",
    "    'auto': widgets.Checkbox(description=\"auto\", value=False),\n",
    "    'Ka': widgets.FloatSlider(description=\"Ka\", value=0.5, min=0, max=1.0, step=0.01, continuous_update=False),    \n",
    "    'Kw': widgets.FloatSlider(description=\"Kw\", value=0.5, min=0, max=1.0, step=0.01, continuous_update=False),\n",
    "    'Kc': widgets.FloatSlider(description=\"Kc\", value=0.5, min=0, max=1.0, step=0.01, continuous_update=False),\n",
    "    'Ke': widgets.FloatSlider(description=\"Ke\", value=0.25, min=0, max=1.0, step=0.01, continuous_update=False),\n",
    "    'Kz': widgets.FloatSlider(description=\"Kz\", value=0.25, min=0, max=1.0, step=0.01, continuous_update=False),\n",
    "}\n",
    "plot = k3d.plot(grid_visible=False)\n",
    "plot += k3d.vectors(*make_grid((-2,2,1),(-2,2,1)), color=0x808080, use_head=False, line_width=0.005)\n",
    "plot += k3d.vectors(*make_grid((-1.5,1.5,1),(-1.5,1.5,1)), color=0x000000, use_head=False, line_width=0.01)\n",
    "\n",
    "widgets.GridBox([widgets.VBox(list(controls.values())), plot], layout=widgets.Layout(grid_template_columns=\"auto auto\"))"
   ]
  },
  {
   "cell_type": "code",
   "execution_count": 85,
   "metadata": {},
   "outputs": [],
   "source": [
    "plot_points1 = k3d.points(positions=[], color=palette[0], point_size=0.05)\n",
    "plot += plot_points1\n",
    "plot_lines1 = k3d.line(vertices=[], color=palette[1])\n",
    "plot += plot_lines1\n",
    "plot_lines2 = k3d.line(vertices=[], color=palette[2])\n",
    "plot += plot_lines2\n",
    "plot_pipe1 = k3d.mesh(vertices=[], indices=[], color=palette[1], flat_shading=False)\n",
    "plot += plot_pipe1\n",
    "plot_pipe2 = k3d.mesh(vertices=[], indices=[], color=palette[2], flat_shading=False)\n",
    "plot += plot_pipe2"
   ]
  },
  {
   "cell_type": "code",
   "execution_count": 102,
   "metadata": {},
   "outputs": [],
   "source": [
    "def redraw(*args):\n",
    "    params = {k: w.value for k, w in controls.items()}\n",
    "    \n",
    "    if params['auto']:\n",
    "        params['Ke'] = 0.5\n",
    "        params['Kw'] = (params['r']-0.01) * (0.5 - 0.37)/.12 + 0.37\n",
    "        params['Kc'] = (params['r']-0.01) * (0.5 - 0.13)/.12 + 0.13\n",
    "        params['Kz'] = (params['r']-0.01) * (0.3 - 0.03)/.12 + 0.03\n",
    "        controls['Ke'].value = params['Ke']\n",
    "        controls['Kw'].value = params['Kw']\n",
    "        controls['Kc'].value = params['Kc']\n",
    "        controls['Kz'].value = params['Kz']\n",
    "    \n",
    "    model_type = params['model']\n",
    "    if model_type == 'triangular':\n",
    "        cpoints = cpoints3\n",
    "    elif model_type == 'rectangular':\n",
    "        cpoints = cpoints4\n",
    "    else:\n",
    "        cpoints = cpoints6    \n",
    "    splines = make_splines(u, B2, cpoints)\n",
    "    \n",
    "    points0 = np.array([np.array(p.subs(params), dtype=np.float) for p in cpoints])\n",
    "    plot_points1.positions = points0\n",
    "    \n",
    "    \n",
    "    plot_type = params['plot']\n",
    "    \n",
    "    if plot_type == 'spline':\n",
    "        spline0 = np.concatenate([eval_curve(spl.subs(params), u) for spl in splines])\n",
    "        spline1 = np.concatenate([spline0, np.flip(spline0, 0) * npvector(-1, 1, 1)])\n",
    "        spline2 = spline1 + npvector(0, 1.0, 0)\n",
    "        plot_lines1.vertices = spline1.astype(np.float32)\n",
    "        plot_lines2.vertices = spline2.astype(np.float32)\n",
    "    elif plot_type == 'pipe':\n",
    "        pipes = [Pipe((u,v), spl.subs(params), Circle(v, params['r'])) for spl in splines]\n",
    "        total = 0\n",
    "        points = []\n",
    "        indices = []\n",
    "        for pipe in pipes:\n",
    "            pnts, ids, _ = eval_pipe(pipe, (u,v), (12, 24))\n",
    "            points.extend(pnts)\n",
    "            indices.extend(ids + total)\n",
    "            total += len(pnts)\n",
    "        plot_pipe1.vertices = points\n",
    "        plot_pipe1.indices = indices\n",
    "        plot_pipe2.vertices = points + npvector(0, 1.0, 0).T\n",
    "        plot_pipe2.indices = indices\n",
    "    else: # polygon\n",
    "        polygon1 = points0\n",
    "        polygon2 = points0 + npvector(0, 1.0, 0)\n",
    "        plot_lines1.vertices = polygon1.astype(np.float32)\n",
    "        plot_lines2.vertices = polygon2.astype(np.float32)      \n",
    "        plot_pipe1.visible = False\n",
    "        plot_pipe2.visible = False       \n",
    "\n",
    "    if plot_type == 'pipe':\n",
    "        plot_lines1.visible = False\n",
    "        plot_lines2.visible = False\n",
    "        plot_pipe1.visible = True\n",
    "        plot_pipe2.visible = True        \n",
    "        \n",
    "    else:\n",
    "        plot_pipe1.visible = False\n",
    "        plot_pipe2.visible = False       \n",
    "        plot_lines1.visible = True\n",
    "        plot_lines2.visible = True      \n",
    "    \n"
   ]
  },
  {
   "cell_type": "code",
   "execution_count": 100,
   "metadata": {},
   "outputs": [],
   "source": [
    "redraw()"
   ]
  },
  {
   "cell_type": "code",
   "execution_count": 88,
   "metadata": {},
   "outputs": [],
   "source": [
    "for w in controls.values():\n",
    "    w.observe(lambda *args: redraw(), 'value')"
   ]
  },
  {
   "cell_type": "markdown",
   "metadata": {},
   "source": [
    "# Topology\n",
    "\n",
    "Defining anchor or approximated points\n",
    "\n",
    "Main hypotesis: shape can be determined based only on local neighbours."
   ]
  },
  {
   "cell_type": "markdown",
   "metadata": {},
   "source": [
    "## Hexagonal\n",
    "\n",
    "From [\"3D Modeling of Plain Weft Knitted Structures of Compressible Yarn\", Kyosev et al, 2010] \n",
    "\n",
    "Anchors:\n",
    "* $A^{NW}, A^{NE}$ — intersection points near the tip of a loop head\n",
    "* $A^{SW}, A^{SE}$ — intersection points at sides of a loop head\n",
    "\n",
    "Symmetrical variations $z+$ and $z-$ for above/below yarn.\n",
    "\n",
    "Anchored splines:\n",
    "* head: $south(A^{NW}), A^{SW}, A^{NW}, A^{NE}, A^{SE}, south(A^{NE})$\n",
    "* w leg: $west(A^{SE}), A^{SW}, A^{NW}, north(A^{SW})$\n",
    "* e leg: $east(A^{SW}), A^{SE}, A^{NE}, north(A^{SE})$\n",
    "\n",
    "Cells preserve type of head knots, legs points are fully dependant"
   ]
  },
  {
   "cell_type": "code",
   "execution_count": 4,
   "metadata": {},
   "outputs": [],
   "source": [
    "base4 = {\n",
    "    'nw': np.array([-0.125, 0.25, -0.5]),\n",
    "    'ne': np.array([+0.125, 0.25, -0.5]),\n",
    "    'sw': np.array([-0.375, -0.25, +0.5]),\n",
    "    'se': np.array([+0.375, -0.25, +0.5]),\n",
    "}\n",
    "\n",
    "def topology4(pattern, x, y):\n",
    "    # generate points for splines inside single cell\n",
    "    k = pattern[y][x]\n",
    "    if k is None:\n",
    "        return None\n",
    "    ks = pattern[y+1][x]\n",
    "    if ks is None:\n",
    "        ks = k\n",
    "    kn = pattern[y-1][x]\n",
    "    if kn is None:\n",
    "        kn = k\n",
    "    kw = pattern[y][x-1]\n",
    "    if kw is None:\n",
    "        kw = k\n",
    "    ke = pattern[y][x+1]\n",
    "    if ke is None:\n",
    "        ke = k\n",
    "    \n",
    "    orient = np.array([1, 1, k])\n",
    "    bump = np.array([0, 0, k])\n",
    "    \n",
    "    points = {\n",
    "            'hnw': base4['nw'] * orient,\n",
    "            'hne': base4['ne'] * orient,\n",
    "            'hsw': base4['sw'] * orient,\n",
    "            'hse': base4['se'] * orient,\n",
    "#             'snw': base['nw'] - vector(0, 1, 0),\n",
    "#             'sne': base['ne'] - vector(0, 1, 0),\n",
    "    }\n",
    "    \n",
    "    if k != kn:\n",
    "        points['hnw'] -= bump * 0.5\n",
    "        points['hne'] -= bump * 0.5\n",
    "        points['hsw'] -= bump * 0.5\n",
    "        points['hse'] -= bump * 0.5 \n",
    "        \n",
    "    if k != kw:\n",
    "        points['hnw'] += bump * 0.5\n",
    "        points['hsw'] += bump * 0.5\n",
    "\n",
    "    if k != ke:\n",
    "        points['hne'] += bump * 0.5\n",
    "        points['hse'] += bump * 0.5\n",
    "    \n",
    "    points['lnw'] = head['nw'] + bump\n",
    "    points['lne'] = head['ne'] + bump\n",
    "    points['lsw'] = head['sw'] - bump\n",
    "    points['lse'] = head['se'] - bump\n",
    "\n",
    "    return points"
   ]
  },
  {
   "cell_type": "markdown",
   "metadata": {},
   "source": [
    "## Triangular\n",
    "\n",
    "Anchors:\n",
    "* $A^{N}$ — tip of head\n",
    "* $A^{SW}, A^{SE}$ — middles of legs\n",
    "* $A^{W}, A^{E}$ — tips of counter-heads\n",
    "* $A^{NW}, A^{NE}$ — middles of counter-legs\n",
    "\n",
    "Topo dependencies:\n",
    "* $A^{N}, A^{W}$ ← W\n",
    "* $A^{N}, A^{E}$ ← E\n",
    "* $A^{SW}, A^{SE}$ ← S\n",
    "* $A^{N}, A^{NW}, A^{NE}$ ← N\n",
    "   \n"
   ]
  },
  {
   "cell_type": "code",
   "execution_count": 5,
   "metadata": {},
   "outputs": [],
   "source": [
    "def topology3(pattern, x, y):\n",
    "    # generate points for splines inside single cell\n",
    "    k = pattern[y][x]\n",
    "    if k is None:\n",
    "        return None\n",
    "    ks = pattern[y+1][x]\n",
    "    if ks is None:\n",
    "        ks = k\n",
    "    kn = pattern[y-1][x]\n",
    "    if kn is None:\n",
    "        kn = k\n",
    "    kw = pattern[y][x-1]\n",
    "    if kw is None:\n",
    "        kw = k\n",
    "    ke = pattern[y][x+1]\n",
    "    if ke is None:\n",
    "        ke = k\n",
    "    \n",
    "    z = -k\n",
    "    \n",
    "    shift = np.array([0.0, 0.0, -z])\n",
    "    hshift = np.array([0.0, 0.0, -z * 0.5])\n",
    "    \n",
    "    points = {\n",
    "        'n': np.array([0.0, 0.0, z]),\n",
    "        'sw': np.array([-0.25, -0.5, -z]),\n",
    "        'se': np.array([+0.25, -0.5, -z]),\n",
    "        'w': np.array([-0.5, 0.0, z]),\n",
    "        'e': np.array([+0.5, 0.0, z]),\n",
    "        'nw': np.array([-0.25, +0.5, -z]),\n",
    "        'ne': np.array([+0.25, +0.5, -z]),\n",
    "    }\n",
    "    \n",
    "    if kw != k:\n",
    "        points['n'] += hshift\n",
    "        points['w'] += shift\n",
    "    \n",
    "    if ke != k:\n",
    "        points['n'] += hshift\n",
    "        points['e'] += shift\n",
    "        \n",
    "    if ks != k:\n",
    "        points['sw'] -= hshift\n",
    "        points['se'] -= hshift\n",
    "        \n",
    "    if kn != k:\n",
    "        points['n'] -= hshift\n",
    "        points['nw'] -= hshift\n",
    "        points['ne'] -= hshift\n",
    "        \n",
    "    return points"
   ]
  },
  {
   "cell_type": "code",
   "execution_count": 6,
   "metadata": {},
   "outputs": [
    {
     "data": {
      "application/vnd.jupyter.widget-view+json": {
       "model_id": "7bdbe0fb851d4b8c84055699d6bfc1a5",
       "version_major": 2,
       "version_minor": 0
      },
      "text/plain": [
       "GridBox(children=(VBox(children=(VBox(children=(HBox(children=(Checkbox(value=True, indent=False, layout=Layou…"
      ]
     },
     "metadata": {},
     "output_type": "display_data"
    }
   ],
   "source": [
    "chk = lambda: widgets.Checkbox(value=True, indent=False, layout=widgets.Layout(width='32px'))\n",
    "brd = widgets.VBox([\n",
    "    widgets.HBox([chk(), chk(), chk()]), # N\n",
    "    widgets.HBox([chk(), chk(), chk()]), # M\n",
    "    widgets.HBox([chk(), chk(), chk()])  # S\n",
    "])\n",
    "\n",
    "def read_pattern():\n",
    "    return [[int(box.value)*2-1 for box in hbox.children] for hbox in brd.children]\n",
    "\n",
    "controls = {\n",
    "    'Kw': widgets.FloatSlider(description=\"Kw\", value=0.25, min=0, max=1.0, step=0.01, continuous_update=False),\n",
    "    'Kc': widgets.FloatSlider(description=\"Kc\", value=0.25, min=0, max=1.0, step=0.01, continuous_update=False),\n",
    "    'Ke': widgets.FloatSlider(description=\"Ke\", value=0.1, min=-1.0, max=1.0, step=0.01, continuous_update=False),    \n",
    "    'Kz': widgets.FloatSlider(description=\"Kz\", value=0.25, min=0, max=1.0, step=0.01, continuous_update=False),\n",
    "    'noise': widgets.FloatSlider(description=\"Kz\", value=0.25, min=0, max=1.0, step=0.01, continuous_update=False),\n",
    "    'topo': widgets.RadioButtons(description=\"topo\", value='triangular', options=('hexagonal', 'triangular')),\n",
    "    'mode': widgets.RadioButtons(description=\"mode\", value='spline', options=('polygon', 'spline', 'pipe'))\n",
    "}\n",
    "plot = k3d.plot(grid_visible=False)\n",
    "\n",
    "widgets.GridBox([widgets.VBox([brd, *controls.values()]), plot], layout=widgets.Layout(grid_template_columns=\"auto auto\"))\n"
   ]
  },
  {
   "cell_type": "code",
   "execution_count": 7,
   "metadata": {},
   "outputs": [
    {
     "name": "stderr",
     "output_type": "stream",
     "text": [
      "/home/qmax/.local/lib/python3.7/site-packages/traittypes/traittypes.py:101: UserWarning: Given trait value dtype \"int64\" does not match required type \"float32\". A coerced copy has been created.\n",
      "  np.dtype(self.dtype).name))\n",
      "/home/qmax/.local/lib/python3.7/site-packages/traittypes/traittypes.py:101: UserWarning: Given trait value dtype \"float64\" does not match required type \"float32\". A coerced copy has been created.\n",
      "  np.dtype(self.dtype).name))\n"
     ]
    }
   ],
   "source": [
    "plot += k3d.vectors(*make_grid((-2,2,1),(-2,2,1)), color=0x808080, use_head=False, line_width=0.005)\n",
    "plot += k3d.vectors(*make_grid((-1.5,1.5,1),(-1.5,1.5,1)), color=0x000000, use_head=False, line_width=0.01)"
   ]
  },
  {
   "cell_type": "code",
   "execution_count": 8,
   "metadata": {},
   "outputs": [],
   "source": [
    "plot_points = k3d.points(positions=[], shader='3d', opacity=0.5, point_size=0.05, color=palette[0])\n",
    "plot += plot_points\n",
    "plot_row1 = k3d.line(vertices=[], opacity=0.5, point_size=0.1, color=palette[1])\n",
    "plot += plot_row1\n",
    "plot_row2 = k3d.line(vertices=[], opacity=0.5, point_size=0.1, color=palette[2])\n",
    "plot += plot_row2\n",
    "plot_row3 = k3d.line(vertices=[], opacity=0.5, point_size=0.1, color=palette[3])\n",
    "plot += plot_row3"
   ]
  },
  {
   "cell_type": "code",
   "execution_count": 16,
   "metadata": {},
   "outputs": [],
   "source": [
    "plot_pipe2 = k3d.mesh(vertices=[], indices=[], color=0x808080, opacity=0.5)\n",
    "plot += plot_pipe2"
   ]
  },
  {
   "cell_type": "code",
   "execution_count": 9,
   "metadata": {},
   "outputs": [],
   "source": [
    "npsouth = np.array([0, -1, 0])"
   ]
  },
  {
   "cell_type": "code",
   "execution_count": 10,
   "metadata": {},
   "outputs": [],
   "source": [
    "def make_course4(headrow, legsrow, params):\n",
    "    adj = np.array([0.0625, 0, 0])    \n",
    "    if legsrow is None:\n",
    "        legsrow = headrow\n",
    "    return np.concatenate([\n",
    "        np.array([\n",
    "            legsrow[x]['lsw'] + adj + npsouth,\n",
    "            legsrow[x]['lnw'] + adj + npsouth,\n",
    "            headrow[x]['hsw'] - adj,\n",
    "            headrow[x]['hnw'] - adj,\n",
    "            headrow[x]['hne'] + adj,\n",
    "            headrow[x]['hse'] + adj,\n",
    "            legsrow[x]['lne'] - adj + npsouth,\n",
    "            legsrow[x]['lse'] - adj + npsouth,\n",
    "        ]) + np.array([x, 0, 0])  for x in range(3)])    "
   ]
  },
  {
   "cell_type": "code",
   "execution_count": 11,
   "metadata": {},
   "outputs": [],
   "source": [
    "from random import random\n",
    "\n",
    "def make_course3(headrow, legsrow, params):\n",
    "    adj = np.array([0, 0.125, 0])\n",
    "    if legsrow is None:\n",
    "        legsrow = headrow\n",
    "    w = params['Kw']\n",
    "    c = params['Kc']\n",
    "    e = params['Ke']\n",
    "    z = params['Kz']\n",
    "    return np.concatenate([\n",
    "        np.array([\n",
    "            npsouth + [-0.5+w, -c, z*legsrow[x]['w'][2]],\n",
    "            npsouth + [-0.5+w, +e, z*legsrow[x]['nw'][2]],\n",
    "            [-w, -e, z*headrow[x]['sw'][2]],\n",
    "            [-w, +c, z*headrow[x]['n'][2]],\n",
    "            [+w, +c, z*headrow[x]['n'][2]],\n",
    "            [+w, -e, z*headrow[x]['se'][2]],\n",
    "            npsouth + [+0.5-w, +e, z*legsrow[x]['ne'][2]],\n",
    "            npsouth + [+0.5-w, -c, z*legsrow[x]['e'][2]],\n",
    "        ]) + np.array([x, 0, 0])  for x in range(3)])    "
   ]
  },
  {
   "cell_type": "code",
   "execution_count": 103,
   "metadata": {},
   "outputs": [],
   "source": [
    "def redraw():\n",
    "    params = {k: w.value for k, w in controls.items()}\n",
    "    pattern = read_pattern()\n",
    "    pattern = [[None,None,None,None,None]] + [[None] + row + [None] for row in pattern] + [[None,None,None,None,None]]\n",
    "    \n",
    "    if params['topo'] == 'doubleknot':\n",
    "        topology = topology2\n",
    "        make_course = make_course2\n",
    "    elif params['topo'] == 'triangular':\n",
    "        topology = topology3\n",
    "        make_course = make_course3\n",
    "    else:\n",
    "        topology = topology4\n",
    "        make_course = make_course4\n",
    "        \n",
    "    cells = [[topology(pattern, x, y) for x in range(1,4)] for y in range(1,4)]\n",
    "    \n",
    "    plot_points.positions = np.array(list(cells[1][1].values())) * np.array([1, 1, 0.5 * params['Kz']])\n",
    "        \n",
    "    if params['mode'] == 'spline':\n",
    "        plot_row1.visible = True\n",
    "        plot_row2.visible = True\n",
    "        plot_row3.visible = True\n",
    "        plot_pipe2.visible = False\n",
    "        plot_row1.vertices = eval_splines(B2, make_course(cells[0], cells[1], params) * np.array([1, 1, .5]) + np.array([-1, +1, 0]))\n",
    "        plot_row2.vertices = eval_splines(B2, make_course(cells[1], cells[2], params) * np.array([1, 1, .5]) + np.array([-1,  0, 0]))\n",
    "        plot_row3.vertices = eval_splines(B2, make_course(cells[2], None, params) * np.array([1, 1, .5]) + np.array([-1, -1, 0]))\n",
    "    else:\n",
    "        plot_row1.vertices = make_course(cells[0], cells[1], params) * np.array([1, 1, .5]) + np.array([-1, +1, 0])\n",
    "        plot_row2.vertices = make_course(cells[1], cells[2], params) * np.array([1, 1, .5]) + np.array([-1,  0, 0])\n",
    "        plot_row3.vertices = make_course(cells[2], None, params) * np.array([1, 1, .5]) + np.array([-1, -1, 0])\n",
    "    "
   ]
  },
  {
   "cell_type": "code",
   "execution_count": 13,
   "metadata": {},
   "outputs": [],
   "source": [
    "redraw()"
   ]
  },
  {
   "cell_type": "code",
   "execution_count": 14,
   "metadata": {},
   "outputs": [],
   "source": [
    "for w in controls.values():\n",
    "    w.observe(lambda *args: redraw(), 'value')\n",
    "for r in brd.children:\n",
    "    for w in r.children:\n",
    "        w.observe(lambda *args: redraw(), 'value')"
   ]
  },
  {
   "cell_type": "markdown",
   "metadata": {},
   "source": [
    "# Geometry\n",
    "\n",
    "keypoints → control points"
   ]
  },
  {
   "cell_type": "markdown",
   "metadata": {},
   "source": [
    "### Parameters\n",
    "* yarn thickness\n",
    "* wale width\n",
    "* course width\n",
    "\n",
    "### Constraints\n",
    "* minimize curvature\n",
    "* minimal distance is > thickness\n",
    "  * distance in Z at intersection points\n",
    "  * distance in XY from middle of knot\n",
    "* loop curve fits desired dimentions"
   ]
  },
  {
   "cell_type": "markdown",
   "metadata": {},
   "source": [
    "### visual solution\n",
    "* $r \\in [0.01, 0.13]$\n",
    "* $e = 0.5$\n",
    "* $w \\in [0.37, 0.5]$\n",
    "* $c \\in [0.13, 0.5]$\n",
    "* $z \\in [0.03, 0.3]$\n"
   ]
  }
 ],
 "metadata": {
  "kernelspec": {
   "display_name": "Python 3",
   "language": "python",
   "name": "python3"
  },
  "language_info": {
   "codemirror_mode": {
    "name": "ipython",
    "version": 3
   },
   "file_extension": ".py",
   "mimetype": "text/x-python",
   "name": "python",
   "nbconvert_exporter": "python",
   "pygments_lexer": "ipython3",
   "version": "3.7.3"
  }
 },
 "nbformat": 4,
 "nbformat_minor": 4
}
